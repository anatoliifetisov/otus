{
 "cells": [
  {
   "cell_type": "markdown",
   "metadata": {},
   "source": [
    "# https://www.kaggle.com/c/mercari-price-suggestion-challenge "
   ]
  },
  {
   "cell_type": "code",
   "execution_count": 1,
   "metadata": {},
   "outputs": [],
   "source": [
    "import matplotlib\n",
    "\n",
    "import pandas as pd\n",
    "import numpy as np\n",
    "import matplotlib.pyplot as plt\n",
    "import seaborn as sns\n",
    "\n",
    "\n",
    "from sklearn.pipeline import make_union, make_pipeline\n",
    "from sklearn.preprocessing import FunctionTransformer, StandardScaler, OneHotEncoder, LabelEncoder\n",
    "from sklearn.model_selection import GridSearchCV\n",
    "from sklearn.linear_model import LinearRegression, Lasso, Ridge, ElasticNet, SGDRegressor\n",
    "from sklearn.tree import DecisionTreeRegressor\n",
    "from sklearn.metrics import make_scorer\n",
    "from sklearn.feature_extraction.text import TfidfVectorizer, CountVectorizer\n",
    "from lightgbm import LGBMRegressor\n",
    "\n",
    "%matplotlib inline\n",
    "sns.set()\n",
    "plt.rcParams[\"figure.figsize\"] = (20, 10)\n",
    "pd.options.display.float_format = '{:.2f}'.format"
   ]
  },
  {
   "cell_type": "markdown",
   "metadata": {},
   "source": [
    "### Используйте параметр nrows, чтобы уменьшить выборку и сделать базовый разведочный анализ данных"
   ]
  },
  {
   "cell_type": "code",
   "execution_count": 2,
   "metadata": {},
   "outputs": [
    {
     "name": "stderr",
     "output_type": "stream",
     "text": [
      "/Users/afetisov/anaconda/envs/BD/lib/python3.6/site-packages/numpy/lib/arraysetops.py:463: FutureWarning: elementwise comparison failed; returning scalar instead, but in the future will perform elementwise comparison\n",
      "  mask |= (ar1 == a)\n"
     ]
    }
   ],
   "source": [
    "df = pd.read_csv('train.tsv', sep='\\t', index_col=0)"
   ]
  },
  {
   "cell_type": "markdown",
   "metadata": {},
   "source": [
    "And why would index_col usage result in any comparisons?"
   ]
  },
  {
   "cell_type": "code",
   "execution_count": 3,
   "metadata": {},
   "outputs": [
    {
     "name": "stdout",
     "output_type": "stream",
     "text": [
      "<class 'pandas.core.frame.DataFrame'>\n",
      "Int64Index: 1482535 entries, 0 to 1482534\n",
      "Data columns (total 7 columns):\n",
      "name                 1482535 non-null object\n",
      "item_condition_id    1482535 non-null int64\n",
      "category_name        1476208 non-null object\n",
      "brand_name           849853 non-null object\n",
      "price                1482535 non-null float64\n",
      "shipping             1482535 non-null int64\n",
      "item_description     1482531 non-null object\n",
      "dtypes: float64(1), int64(2), object(4)\n",
      "memory usage: 90.5+ MB\n"
     ]
    }
   ],
   "source": [
    "df.info()"
   ]
  },
  {
   "cell_type": "code",
   "execution_count": 4,
   "metadata": {},
   "outputs": [
    {
     "data": {
      "text/html": [
       "<div>\n",
       "<style>\n",
       "    .dataframe thead tr:only-child th {\n",
       "        text-align: right;\n",
       "    }\n",
       "\n",
       "    .dataframe thead th {\n",
       "        text-align: left;\n",
       "    }\n",
       "\n",
       "    .dataframe tbody tr th {\n",
       "        vertical-align: top;\n",
       "    }\n",
       "</style>\n",
       "<table border=\"1\" class=\"dataframe\">\n",
       "  <thead>\n",
       "    <tr style=\"text-align: right;\">\n",
       "      <th></th>\n",
       "      <th>name</th>\n",
       "      <th>item_condition_id</th>\n",
       "      <th>category_name</th>\n",
       "      <th>brand_name</th>\n",
       "      <th>price</th>\n",
       "      <th>shipping</th>\n",
       "      <th>item_description</th>\n",
       "    </tr>\n",
       "    <tr>\n",
       "      <th>train_id</th>\n",
       "      <th></th>\n",
       "      <th></th>\n",
       "      <th></th>\n",
       "      <th></th>\n",
       "      <th></th>\n",
       "      <th></th>\n",
       "      <th></th>\n",
       "    </tr>\n",
       "  </thead>\n",
       "  <tbody>\n",
       "    <tr>\n",
       "      <th>0</th>\n",
       "      <td>MLB Cincinnati Reds T Shirt Size XL</td>\n",
       "      <td>3</td>\n",
       "      <td>Men/Tops/T-shirts</td>\n",
       "      <td>NaN</td>\n",
       "      <td>10.00</td>\n",
       "      <td>1</td>\n",
       "      <td>No description yet</td>\n",
       "    </tr>\n",
       "    <tr>\n",
       "      <th>1</th>\n",
       "      <td>Razer BlackWidow Chroma Keyboard</td>\n",
       "      <td>3</td>\n",
       "      <td>Electronics/Computers &amp; Tablets/Components &amp; P...</td>\n",
       "      <td>Razer</td>\n",
       "      <td>52.00</td>\n",
       "      <td>0</td>\n",
       "      <td>This keyboard is in great condition and works ...</td>\n",
       "    </tr>\n",
       "    <tr>\n",
       "      <th>2</th>\n",
       "      <td>AVA-VIV Blouse</td>\n",
       "      <td>1</td>\n",
       "      <td>Women/Tops &amp; Blouses/Blouse</td>\n",
       "      <td>Target</td>\n",
       "      <td>10.00</td>\n",
       "      <td>1</td>\n",
       "      <td>Adorable top with a hint of lace and a key hol...</td>\n",
       "    </tr>\n",
       "    <tr>\n",
       "      <th>3</th>\n",
       "      <td>Leather Horse Statues</td>\n",
       "      <td>1</td>\n",
       "      <td>Home/Home Décor/Home Décor Accents</td>\n",
       "      <td>NaN</td>\n",
       "      <td>35.00</td>\n",
       "      <td>1</td>\n",
       "      <td>New with tags. Leather horses. Retail for [rm]...</td>\n",
       "    </tr>\n",
       "    <tr>\n",
       "      <th>4</th>\n",
       "      <td>24K GOLD plated rose</td>\n",
       "      <td>1</td>\n",
       "      <td>Women/Jewelry/Necklaces</td>\n",
       "      <td>NaN</td>\n",
       "      <td>44.00</td>\n",
       "      <td>0</td>\n",
       "      <td>Complete with certificate of authenticity</td>\n",
       "    </tr>\n",
       "  </tbody>\n",
       "</table>\n",
       "</div>"
      ],
      "text/plain": [
       "                                         name  item_condition_id  \\\n",
       "train_id                                                           \n",
       "0         MLB Cincinnati Reds T Shirt Size XL                  3   \n",
       "1            Razer BlackWidow Chroma Keyboard                  3   \n",
       "2                              AVA-VIV Blouse                  1   \n",
       "3                       Leather Horse Statues                  1   \n",
       "4                        24K GOLD plated rose                  1   \n",
       "\n",
       "                                              category_name brand_name  price  \\\n",
       "train_id                                                                        \n",
       "0                                         Men/Tops/T-shirts        NaN  10.00   \n",
       "1         Electronics/Computers & Tablets/Components & P...      Razer  52.00   \n",
       "2                               Women/Tops & Blouses/Blouse     Target  10.00   \n",
       "3                        Home/Home Décor/Home Décor Accents        NaN  35.00   \n",
       "4                                   Women/Jewelry/Necklaces        NaN  44.00   \n",
       "\n",
       "          shipping                                   item_description  \n",
       "train_id                                                               \n",
       "0                1                                 No description yet  \n",
       "1                0  This keyboard is in great condition and works ...  \n",
       "2                1  Adorable top with a hint of lace and a key hol...  \n",
       "3                1  New with tags. Leather horses. Retail for [rm]...  \n",
       "4                0          Complete with certificate of authenticity  "
      ]
     },
     "execution_count": 4,
     "metadata": {},
     "output_type": "execute_result"
    }
   ],
   "source": [
    "df.head()"
   ]
  },
  {
   "cell_type": "code",
   "execution_count": 5,
   "metadata": {},
   "outputs": [],
   "source": [
    "df_test = pd.read_csv('test.tsv', sep='\\t', index_col=0)"
   ]
  },
  {
   "cell_type": "code",
   "execution_count": 6,
   "metadata": {},
   "outputs": [
    {
     "name": "stdout",
     "output_type": "stream",
     "text": [
      "<class 'pandas.core.frame.DataFrame'>\n",
      "Int64Index: 693359 entries, 0 to 693358\n",
      "Data columns (total 6 columns):\n",
      "name                 693359 non-null object\n",
      "item_condition_id    693359 non-null int64\n",
      "category_name        690301 non-null object\n",
      "brand_name           397834 non-null object\n",
      "shipping             693359 non-null int64\n",
      "item_description     693359 non-null object\n",
      "dtypes: int64(2), object(4)\n",
      "memory usage: 37.0+ MB\n"
     ]
    }
   ],
   "source": [
    "df_test.info()"
   ]
  },
  {
   "cell_type": "code",
   "execution_count": 7,
   "metadata": {},
   "outputs": [
    {
     "data": {
      "text/html": [
       "<div>\n",
       "<style>\n",
       "    .dataframe thead tr:only-child th {\n",
       "        text-align: right;\n",
       "    }\n",
       "\n",
       "    .dataframe thead th {\n",
       "        text-align: left;\n",
       "    }\n",
       "\n",
       "    .dataframe tbody tr th {\n",
       "        vertical-align: top;\n",
       "    }\n",
       "</style>\n",
       "<table border=\"1\" class=\"dataframe\">\n",
       "  <thead>\n",
       "    <tr style=\"text-align: right;\">\n",
       "      <th></th>\n",
       "      <th>name</th>\n",
       "      <th>item_condition_id</th>\n",
       "      <th>category_name</th>\n",
       "      <th>brand_name</th>\n",
       "      <th>shipping</th>\n",
       "      <th>item_description</th>\n",
       "    </tr>\n",
       "    <tr>\n",
       "      <th>test_id</th>\n",
       "      <th></th>\n",
       "      <th></th>\n",
       "      <th></th>\n",
       "      <th></th>\n",
       "      <th></th>\n",
       "      <th></th>\n",
       "    </tr>\n",
       "  </thead>\n",
       "  <tbody>\n",
       "    <tr>\n",
       "      <th>0</th>\n",
       "      <td>Breast cancer \"I fight like a girl\" ring</td>\n",
       "      <td>1</td>\n",
       "      <td>Women/Jewelry/Rings</td>\n",
       "      <td>NaN</td>\n",
       "      <td>1</td>\n",
       "      <td>Size 7</td>\n",
       "    </tr>\n",
       "    <tr>\n",
       "      <th>1</th>\n",
       "      <td>25 pcs NEW 7.5\"x12\" Kraft Bubble Mailers</td>\n",
       "      <td>1</td>\n",
       "      <td>Other/Office supplies/Shipping Supplies</td>\n",
       "      <td>NaN</td>\n",
       "      <td>1</td>\n",
       "      <td>25 pcs NEW 7.5\"x12\" Kraft Bubble Mailers Lined...</td>\n",
       "    </tr>\n",
       "    <tr>\n",
       "      <th>2</th>\n",
       "      <td>Coach bag</td>\n",
       "      <td>1</td>\n",
       "      <td>Vintage &amp; Collectibles/Bags and Purses/Handbag</td>\n",
       "      <td>Coach</td>\n",
       "      <td>1</td>\n",
       "      <td>Brand new coach bag. Bought for [rm] at a Coac...</td>\n",
       "    </tr>\n",
       "    <tr>\n",
       "      <th>3</th>\n",
       "      <td>Floral Kimono</td>\n",
       "      <td>2</td>\n",
       "      <td>Women/Sweaters/Cardigan</td>\n",
       "      <td>NaN</td>\n",
       "      <td>0</td>\n",
       "      <td>-floral kimono -never worn -lightweight and pe...</td>\n",
       "    </tr>\n",
       "    <tr>\n",
       "      <th>4</th>\n",
       "      <td>Life after Death</td>\n",
       "      <td>3</td>\n",
       "      <td>Other/Books/Religion &amp; Spirituality</td>\n",
       "      <td>NaN</td>\n",
       "      <td>1</td>\n",
       "      <td>Rediscovering life after the loss of a loved o...</td>\n",
       "    </tr>\n",
       "  </tbody>\n",
       "</table>\n",
       "</div>"
      ],
      "text/plain": [
       "                                             name  item_condition_id  \\\n",
       "test_id                                                                \n",
       "0        Breast cancer \"I fight like a girl\" ring                  1   \n",
       "1        25 pcs NEW 7.5\"x12\" Kraft Bubble Mailers                  1   \n",
       "2                                       Coach bag                  1   \n",
       "3                                   Floral Kimono                  2   \n",
       "4                                Life after Death                  3   \n",
       "\n",
       "                                          category_name brand_name  shipping  \\\n",
       "test_id                                                                        \n",
       "0                                   Women/Jewelry/Rings        NaN         1   \n",
       "1               Other/Office supplies/Shipping Supplies        NaN         1   \n",
       "2        Vintage & Collectibles/Bags and Purses/Handbag      Coach         1   \n",
       "3                               Women/Sweaters/Cardigan        NaN         0   \n",
       "4                   Other/Books/Religion & Spirituality        NaN         1   \n",
       "\n",
       "                                          item_description  \n",
       "test_id                                                     \n",
       "0                                                   Size 7  \n",
       "1        25 pcs NEW 7.5\"x12\" Kraft Bubble Mailers Lined...  \n",
       "2        Brand new coach bag. Bought for [rm] at a Coac...  \n",
       "3        -floral kimono -never worn -lightweight and pe...  \n",
       "4        Rediscovering life after the loss of a loved o...  "
      ]
     },
     "execution_count": 7,
     "metadata": {},
     "output_type": "execute_result"
    }
   ],
   "source": [
    "df_test.head()"
   ]
  },
  {
   "cell_type": "markdown",
   "metadata": {},
   "source": [
    "# Задание\n",
    "1. Сделать baseline submission\n",
    "  * Исследовать признак price. \n",
    "  * Исследовать признак price в зависимости от brand_name или других признаков\n",
    "2. Реализовать цикл анализа\n",
    "  * признаки -> модель -> настройка параметров -> лучшая модель и ее значение метрики качества на кросс-валидации\n",
    "3. Провести простые преобразования признаков и добавление простых признаков\n",
    "  * разделить category_name на уровни\n",
    "  * посмотреть на наличие числовых значений в описании и имени\n",
    "  * ...\n",
    "4. Составить план по применению нескольких моделей на разных признаках\n",
    "  * спроектируйте эксперимент. Нужно заранее спланировать порядок перебора признаков и моделей. Потом только писать код. Обратный порядок вызывает необходимость переписывать существующий код, это трата времени\n",
    "5. Просмотреть 1-5 kernel на kaggle. (только в таком порядке. сначала работаем самостоятельно, потом смотрим идеи других. при появлении опыта можно сразу начинать с них)\n",
    "6. Скорректировать план\n",
    "  * убрать пункты, которые кажутся неудачными\n",
    "  * добавить идеи из kernel, кажущиеся удачными\n",
    "7. Построить модель, выбрать лучшую\n",
    "8. Построить ансамбль, настрить парамертры. Сравнить с другими моделями.\n",
    "9. Применить и засабмитить лучшую на cv модель\n",
    "10. Прислать блокнот и свой ник в лидерборде"
   ]
  },
  {
   "cell_type": "markdown",
   "metadata": {},
   "source": [
    "### Exploration"
   ]
  },
  {
   "cell_type": "markdown",
   "metadata": {},
   "source": [
    "#### name"
   ]
  },
  {
   "cell_type": "code",
   "execution_count": 8,
   "metadata": {},
   "outputs": [
    {
     "data": {
      "text/plain": [
       "0"
      ]
     },
     "execution_count": 8,
     "metadata": {},
     "output_type": "execute_result"
    }
   ],
   "source": [
    "sum(df.name.isnull())"
   ]
  },
  {
   "cell_type": "markdown",
   "metadata": {},
   "source": [
    "It contains formal decription of an item; TF-IDFing most frequent words should do just fine."
   ]
  },
  {
   "cell_type": "markdown",
   "metadata": {},
   "source": [
    "#### item_condition_id"
   ]
  },
  {
   "cell_type": "code",
   "execution_count": 9,
   "metadata": {},
   "outputs": [
    {
     "data": {
      "text/plain": [
       "array([3, 1, 2, 4, 5])"
      ]
     },
     "execution_count": 9,
     "metadata": {},
     "output_type": "execute_result"
    }
   ],
   "source": [
    "df.item_condition_id.unique()"
   ]
  },
  {
   "cell_type": "markdown",
   "metadata": {},
   "source": [
    "Ready-to-use feature, we need to just OHE it"
   ]
  },
  {
   "cell_type": "markdown",
   "metadata": {},
   "source": [
    "#### category_name"
   ]
  },
  {
   "cell_type": "code",
   "execution_count": 10,
   "metadata": {},
   "outputs": [
    {
     "data": {
      "text/plain": [
       "(1288,)"
      ]
     },
     "execution_count": 10,
     "metadata": {},
     "output_type": "execute_result"
    }
   ],
   "source": [
    "df.category_name.unique().shape"
   ]
  },
  {
   "cell_type": "code",
   "execution_count": 11,
   "metadata": {},
   "outputs": [
    {
     "data": {
      "text/plain": [
       "6327"
      ]
     },
     "execution_count": 11,
     "metadata": {},
     "output_type": "execute_result"
    }
   ],
   "source": [
    "sum(df.category_name.isnull())"
   ]
  },
  {
   "cell_type": "code",
   "execution_count": 12,
   "metadata": {},
   "outputs": [
    {
     "data": {
      "text/plain": [
       "(11,)"
      ]
     },
     "execution_count": 12,
     "metadata": {},
     "output_type": "execute_result"
    }
   ],
   "source": [
    "df.category_name.fillna(\"//\").str.split(\"/\").apply(lambda x: x[0]).unique().shape"
   ]
  },
  {
   "cell_type": "code",
   "execution_count": 13,
   "metadata": {},
   "outputs": [
    {
     "data": {
      "text/plain": [
       "(114,)"
      ]
     },
     "execution_count": 13,
     "metadata": {},
     "output_type": "execute_result"
    }
   ],
   "source": [
    "df.category_name.fillna(\"//\").str.split(\"/\").apply(lambda x: x[1]).unique().shape"
   ]
  },
  {
   "cell_type": "code",
   "execution_count": 14,
   "metadata": {},
   "outputs": [
    {
     "data": {
      "text/plain": [
       "(871,)"
      ]
     },
     "execution_count": 14,
     "metadata": {},
     "output_type": "execute_result"
    }
   ],
   "source": [
    "df.category_name.fillna(\"//\").str.split(\"/\").apply(lambda x: x[2]).unique().shape"
   ]
  },
  {
   "cell_type": "code",
   "execution_count": 15,
   "metadata": {},
   "outputs": [
    {
     "data": {
      "text/html": [
       "<div>\n",
       "<style>\n",
       "    .dataframe thead tr:only-child th {\n",
       "        text-align: right;\n",
       "    }\n",
       "\n",
       "    .dataframe thead th {\n",
       "        text-align: left;\n",
       "    }\n",
       "\n",
       "    .dataframe tbody tr th {\n",
       "        vertical-align: top;\n",
       "    }\n",
       "</style>\n",
       "<table border=\"1\" class=\"dataframe\">\n",
       "  <thead>\n",
       "    <tr style=\"text-align: right;\">\n",
       "      <th></th>\n",
       "      <th>price</th>\n",
       "    </tr>\n",
       "    <tr>\n",
       "      <th>category_name</th>\n",
       "      <th></th>\n",
       "    </tr>\n",
       "  </thead>\n",
       "  <tbody>\n",
       "    <tr>\n",
       "      <th>Vintage &amp; Collectibles/Antique/Furniture</th>\n",
       "      <td>195.00</td>\n",
       "    </tr>\n",
       "    <tr>\n",
       "      <th>Handmade/Bags and Purses/Clutch</th>\n",
       "      <td>180.22</td>\n",
       "    </tr>\n",
       "    <tr>\n",
       "      <th>Electronics/Computers &amp; Tablets/Laptops &amp; Netbooks</th>\n",
       "      <td>177.09</td>\n",
       "    </tr>\n",
       "    <tr>\n",
       "      <th>Kids/Strollers/Standard</th>\n",
       "      <td>163.67</td>\n",
       "    </tr>\n",
       "    <tr>\n",
       "      <th>Electronics/Computers &amp; Tablets/Desktops &amp; All-In-Ones</th>\n",
       "      <td>149.33</td>\n",
       "    </tr>\n",
       "    <tr>\n",
       "      <th>Vintage &amp; Collectibles/Bags and Purses/Handbag</th>\n",
       "      <td>139.56</td>\n",
       "    </tr>\n",
       "    <tr>\n",
       "      <th>Kids/Strollers/Travel Systems</th>\n",
       "      <td>124.60</td>\n",
       "    </tr>\n",
       "    <tr>\n",
       "      <th>Home/Home Appliances/Air Conditioners</th>\n",
       "      <td>121.14</td>\n",
       "    </tr>\n",
       "    <tr>\n",
       "      <th>Kids/Strollers/Lightweight</th>\n",
       "      <td>117.11</td>\n",
       "    </tr>\n",
       "    <tr>\n",
       "      <th>Electronics/Cameras &amp; Photography/Digital Cameras</th>\n",
       "      <td>112.31</td>\n",
       "    </tr>\n",
       "  </tbody>\n",
       "</table>\n",
       "</div>"
      ],
      "text/plain": [
       "                                                    price\n",
       "category_name                                            \n",
       "Vintage & Collectibles/Antique/Furniture           195.00\n",
       "Handmade/Bags and Purses/Clutch                    180.22\n",
       "Electronics/Computers & Tablets/Laptops & Netbooks 177.09\n",
       "Kids/Strollers/Standard                            163.67\n",
       "Electronics/Computers & Tablets/Desktops & All-... 149.33\n",
       "Vintage & Collectibles/Bags and Purses/Handbag     139.56\n",
       "Kids/Strollers/Travel Systems                      124.60\n",
       "Home/Home Appliances/Air Conditioners              121.14\n",
       "Kids/Strollers/Lightweight                         117.11\n",
       "Electronics/Cameras & Photography/Digital Cameras  112.31"
      ]
     },
     "execution_count": 15,
     "metadata": {},
     "output_type": "execute_result"
    }
   ],
   "source": [
    "df.groupby(\"category_name\").agg({\"price\": \"mean\"}).sort_values(\"price\", ascending=False).head(10)"
   ]
  },
  {
   "cell_type": "markdown",
   "metadata": {},
   "source": [
    "It makes sense to split categories and their subcategories and OHE them all, CountVectorizer should make it almost automatically."
   ]
  },
  {
   "cell_type": "markdown",
   "metadata": {},
   "source": [
    "#### brand_name"
   ]
  },
  {
   "cell_type": "code",
   "execution_count": 16,
   "metadata": {},
   "outputs": [
    {
     "data": {
      "text/plain": [
       "632682"
      ]
     },
     "execution_count": 16,
     "metadata": {},
     "output_type": "execute_result"
    }
   ],
   "source": [
    "sum(df.brand_name.isnull())"
   ]
  },
  {
   "cell_type": "code",
   "execution_count": 17,
   "metadata": {},
   "outputs": [
    {
     "data": {
      "text/plain": [
       "(4810,)"
      ]
     },
     "execution_count": 17,
     "metadata": {},
     "output_type": "execute_result"
    }
   ],
   "source": [
    "df.brand_name.unique().shape"
   ]
  },
  {
   "cell_type": "code",
   "execution_count": 18,
   "metadata": {},
   "outputs": [
    {
     "data": {
      "text/html": [
       "<div>\n",
       "<style>\n",
       "    .dataframe thead tr:only-child th {\n",
       "        text-align: right;\n",
       "    }\n",
       "\n",
       "    .dataframe thead th {\n",
       "        text-align: left;\n",
       "    }\n",
       "\n",
       "    .dataframe tbody tr th {\n",
       "        vertical-align: top;\n",
       "    }\n",
       "</style>\n",
       "<table border=\"1\" class=\"dataframe\">\n",
       "  <thead>\n",
       "    <tr style=\"text-align: right;\">\n",
       "      <th></th>\n",
       "      <th>price</th>\n",
       "    </tr>\n",
       "    <tr>\n",
       "      <th>brand_name</th>\n",
       "      <th></th>\n",
       "    </tr>\n",
       "  </thead>\n",
       "  <tbody>\n",
       "    <tr>\n",
       "      <th>Demdaco</th>\n",
       "      <td>429.00</td>\n",
       "    </tr>\n",
       "    <tr>\n",
       "      <th>Proenza Schouler</th>\n",
       "      <td>413.25</td>\n",
       "    </tr>\n",
       "    <tr>\n",
       "      <th>Auto Meter</th>\n",
       "      <td>344.00</td>\n",
       "    </tr>\n",
       "    <tr>\n",
       "      <th>Oris</th>\n",
       "      <td>300.00</td>\n",
       "    </tr>\n",
       "    <tr>\n",
       "      <th>MCM Worldwide</th>\n",
       "      <td>289.17</td>\n",
       "    </tr>\n",
       "    <tr>\n",
       "      <th>Longines</th>\n",
       "      <td>254.00</td>\n",
       "    </tr>\n",
       "    <tr>\n",
       "      <th>Vitamix</th>\n",
       "      <td>253.11</td>\n",
       "    </tr>\n",
       "    <tr>\n",
       "      <th>Blendtec</th>\n",
       "      <td>251.80</td>\n",
       "    </tr>\n",
       "    <tr>\n",
       "      <th>David Yurman</th>\n",
       "      <td>248.61</td>\n",
       "    </tr>\n",
       "    <tr>\n",
       "      <th>Celine</th>\n",
       "      <td>238.78</td>\n",
       "    </tr>\n",
       "  </tbody>\n",
       "</table>\n",
       "</div>"
      ],
      "text/plain": [
       "                  price\n",
       "brand_name             \n",
       "Demdaco          429.00\n",
       "Proenza Schouler 413.25\n",
       "Auto Meter       344.00\n",
       "Oris             300.00\n",
       "MCM Worldwide    289.17\n",
       "Longines         254.00\n",
       "Vitamix          253.11\n",
       "Blendtec         251.80\n",
       "David Yurman     248.61\n",
       "Celine           238.78"
      ]
     },
     "execution_count": 18,
     "metadata": {},
     "output_type": "execute_result"
    }
   ],
   "source": [
    "df.groupby(\"brand_name\").agg({\"price\": \"mean\"}).sort_values(\"price\", ascending=False).head(10)"
   ]
  },
  {
   "cell_type": "markdown",
   "metadata": {},
   "source": [
    "Brand *clearly* has a significant influence on the price.  \n",
    "We need to replace NaNs with *some* class, then perform label encoding and OHE."
   ]
  },
  {
   "cell_type": "markdown",
   "metadata": {},
   "source": [
    "#### price"
   ]
  },
  {
   "cell_type": "code",
   "execution_count": 19,
   "metadata": {},
   "outputs": [
    {
     "data": {
      "text/plain": [
       "0"
      ]
     },
     "execution_count": 19,
     "metadata": {},
     "output_type": "execute_result"
    }
   ],
   "source": [
    "sum(df.price.isnull())"
   ]
  },
  {
   "cell_type": "markdown",
   "metadata": {},
   "source": [
    "Whew, no NaNs"
   ]
  },
  {
   "cell_type": "code",
   "execution_count": 20,
   "metadata": {},
   "outputs": [
    {
     "data": {
      "text/plain": [
       "count   1482535.00\n",
       "mean         26.74\n",
       "std          38.59\n",
       "min           0.00\n",
       "25%          10.00\n",
       "50%          17.00\n",
       "75%          29.00\n",
       "max        2009.00\n",
       "Name: price, dtype: float64"
      ]
     },
     "execution_count": 20,
     "metadata": {},
     "output_type": "execute_result"
    }
   ],
   "source": [
    "df.price.describe()"
   ]
  },
  {
   "cell_type": "code",
   "execution_count": 21,
   "metadata": {},
   "outputs": [
    {
     "data": {
      "text/plain": [
       "51.0"
      ]
     },
     "execution_count": 21,
     "metadata": {},
     "output_type": "execute_result"
    }
   ],
   "source": [
    "df.price.quantile(0.9)"
   ]
  },
  {
   "cell_type": "code",
   "execution_count": 22,
   "metadata": {},
   "outputs": [
    {
     "data": {
      "text/plain": [
       "170.0"
      ]
     },
     "execution_count": 22,
     "metadata": {},
     "output_type": "execute_result"
    }
   ],
   "source": [
    "df.price.quantile(0.99)"
   ]
  },
  {
   "cell_type": "markdown",
   "metadata": {},
   "source": [
    "Very skewed distribution"
   ]
  },
  {
   "cell_type": "code",
   "execution_count": 23,
   "metadata": {},
   "outputs": [
    {
     "data": {
      "text/plain": [
       "874"
      ]
     },
     "execution_count": 23,
     "metadata": {},
     "output_type": "execute_result"
    }
   ],
   "source": [
    "sum(df.price == 0)"
   ]
  },
  {
   "cell_type": "markdown",
   "metadata": {},
   "source": [
    "Why? Does someone just give away goods?"
   ]
  },
  {
   "cell_type": "code",
   "execution_count": 24,
   "metadata": {},
   "outputs": [
    {
     "data": {
      "text/plain": [
       "<matplotlib.text.Text at 0x1a64320400>"
      ]
     },
     "execution_count": 24,
     "metadata": {},
     "output_type": "execute_result"
    },
    {
     "data": {
      "image/png": "[encoded data removed]",
      "text/plain": [
       "<matplotlib.figure.Figure at 0x1a615de320>"
      ]
     },
     "metadata": {},
     "output_type": "display_data"
    }
   ],
   "source": [
    "plot = np.log10(df.price + 1).hist(bins=20, log=True)\n",
    "plot.set_ylabel(\"Count\")\n",
    "plot.set_xlabel(\"log10(price)\")"
   ]
  },
  {
   "cell_type": "markdown",
   "metadata": {},
   "source": [
    "Using this as a target with some linear regressors could pose a problem due to skeweness. One solution is to use `log(price)` instead or, even better, `log(price+1)` (because of zeroes)"
   ]
  },
  {
   "cell_type": "markdown",
   "metadata": {},
   "source": [
    "#### shipping"
   ]
  },
  {
   "cell_type": "code",
   "execution_count": 25,
   "metadata": {},
   "outputs": [
    {
     "data": {
      "text/plain": [
       "(2,)"
      ]
     },
     "execution_count": 25,
     "metadata": {},
     "output_type": "execute_result"
    }
   ],
   "source": [
    "df.shipping.unique().shape"
   ]
  },
  {
   "cell_type": "code",
   "execution_count": 26,
   "metadata": {},
   "outputs": [
    {
     "data": {
      "text/html": [
       "<div>\n",
       "<style>\n",
       "    .dataframe thead tr:only-child th {\n",
       "        text-align: right;\n",
       "    }\n",
       "\n",
       "    .dataframe thead th {\n",
       "        text-align: left;\n",
       "    }\n",
       "\n",
       "    .dataframe tbody tr th {\n",
       "        vertical-align: top;\n",
       "    }\n",
       "</style>\n",
       "<table border=\"1\" class=\"dataframe\">\n",
       "  <thead>\n",
       "    <tr style=\"text-align: right;\">\n",
       "      <th></th>\n",
       "      <th>price</th>\n",
       "    </tr>\n",
       "    <tr>\n",
       "      <th>shipping</th>\n",
       "      <th></th>\n",
       "    </tr>\n",
       "  </thead>\n",
       "  <tbody>\n",
       "    <tr>\n",
       "      <th>0</th>\n",
       "      <td>30.11</td>\n",
       "    </tr>\n",
       "    <tr>\n",
       "      <th>1</th>\n",
       "      <td>22.57</td>\n",
       "    </tr>\n",
       "  </tbody>\n",
       "</table>\n",
       "</div>"
      ],
      "text/plain": [
       "          price\n",
       "shipping       \n",
       "0         30.11\n",
       "1         22.57"
      ]
     },
     "execution_count": 26,
     "metadata": {},
     "output_type": "execute_result"
    }
   ],
   "source": [
    "df.groupby(\"shipping\").agg({\"price\": \"mean\"})"
   ]
  },
  {
   "cell_type": "markdown",
   "metadata": {},
   "source": [
    "Just a nice binary feature, can be use as-is."
   ]
  },
  {
   "cell_type": "markdown",
   "metadata": {},
   "source": [
    "#### item_description"
   ]
  },
  {
   "cell_type": "code",
   "execution_count": 27,
   "metadata": {},
   "outputs": [
    {
     "data": {
      "text/plain": [
       "4"
      ]
     },
     "execution_count": 27,
     "metadata": {},
     "output_type": "execute_result"
    }
   ],
   "source": [
    "sum(df.item_description.isnull())"
   ]
  },
  {
   "cell_type": "markdown",
   "metadata": {},
   "source": [
    "It's likely that this feature contains some sentient text, that could greatly improve prediction.  \n",
    "There're many possible approaches. One of them is to TF-IDF it with sensible constraints, maybe even try n-grams.  \n",
    "However, it could take more then one attempt to find out how generous Kaggle execution environment is."
   ]
  },
  {
   "cell_type": "markdown",
   "metadata": {},
   "source": [
    "### Data preparation"
   ]
  },
  {
   "cell_type": "code",
   "execution_count": 28,
   "metadata": {},
   "outputs": [],
   "source": [
    "class LabelEncoderPipelineFriendly(LabelEncoder):\n",
    "    def __init__(self, **kwargs):\n",
    "        super(LabelEncoderPipelineFriendly, self).__init__(**kwargs)\n",
    "    \n",
    "    def fit(self, X, y=None):\n",
    "        \"\"\"this would allow us to fit the model based on the X input.\"\"\"\n",
    "        super(LabelEncoderPipelineFriendly, self).fit(X)\n",
    "        \n",
    "    def transform(self, X, y=None):\n",
    "        return super(LabelEncoderPipelineFriendly, self).transform(X).reshape(-1, 1)\n",
    "\n",
    "    def fit_transform(self, X, y=None):\n",
    "        return super(LabelEncoderPipelineFriendly, self).fit(X).transform(X).reshape(-1, 1)"
   ]
  },
  {
   "cell_type": "code",
   "execution_count": 29,
   "metadata": {},
   "outputs": [],
   "source": [
    "def prepare_data(train, test):\n",
    "    def get_name_col(df):\n",
    "        return df[\"name\"]\n",
    "    \n",
    "    def get_condition_col(df):\n",
    "        return df[[\"item_condition_id\"]]\n",
    "    \n",
    "    def get_category_col(df):\n",
    "        return df[\"category_name\"].fillna(\"None\").astype(\"category\")\n",
    "    \n",
    "    def get_brand_col(df):\n",
    "        return df[\"brand_name\"].fillna(\"None\").astype(\"category\")\n",
    "    \n",
    "    def get_shipping_col(df):\n",
    "        return df[[\"shipping\"]]\n",
    "    \n",
    "    def get_desc_col(df):\n",
    "        return df[\"item_description\"].fillna(\"None\")\n",
    "    \n",
    "    p = make_union(*[\n",
    "        make_pipeline(FunctionTransformer(get_name_col, validate=False), \n",
    "                      TfidfVectorizer(min_df=15)), # we really don't want to end up with a gazzilion of columns\n",
    "        make_pipeline(FunctionTransformer(get_condition_col, validate=False),\n",
    "                      OneHotEncoder()),\n",
    "        make_pipeline(FunctionTransformer(get_category_col, validate=False),\n",
    "                      CountVectorizer()),\n",
    "        make_pipeline(FunctionTransformer(get_brand_col, validate=False),\n",
    "                      LabelEncoderPipelineFriendly(),\n",
    "                      OneHotEncoder(sparse=True)),\n",
    "        make_pipeline(FunctionTransformer(get_shipping_col, validate=False)),\n",
    "        make_pipeline(FunctionTransformer(get_desc_col, validate=False),\n",
    "                      TfidfVectorizer(ngram_range=(1, 3), \n",
    "                                      stop_words=\"english\", \n",
    "                                      max_features=10000))\n",
    "        ])\n",
    "    \n",
    "    train_rows = train.shape[0]\n",
    "    df = pd.concat([train, test], axis=0)\n",
    "    transformed = p.fit_transform(df)\n",
    "    transformed_train, transformed_test = transformed[:train_rows], transformed[train_rows:]\n",
    "    del df\n",
    "    return (transformed_train, transformed_test)"
   ]
  },
  {
   "cell_type": "code",
   "execution_count": 30,
   "metadata": {
    "scrolled": false
   },
   "outputs": [],
   "source": [
    "X, X_test = prepare_data(df, df_test) # we need both of them to reliably get every categorical level\n",
    "y = np.array(df.price)\n",
    "log_y = np.log1p(y)"
   ]
  },
  {
   "cell_type": "code",
   "execution_count": 31,
   "metadata": {},
   "outputs": [
    {
     "data": {
      "text/plain": [
       "((1482535, 33674), (693359, 33674), (1482535,))"
      ]
     },
     "execution_count": 31,
     "metadata": {},
     "output_type": "execute_result"
    }
   ],
   "source": [
    "X.shape, X_test.shape, y.shape"
   ]
  },
  {
   "cell_type": "markdown",
   "metadata": {},
   "source": [
    "#### Baseline"
   ]
  },
  {
   "cell_type": "code",
   "execution_count": 32,
   "metadata": {},
   "outputs": [],
   "source": [
    "# https://www.kaggle.com/wiki/RootMeanSquaredLogarithmicError\n",
    "def rmsle(h, y): \n",
    "    return np.sqrt(np.square(np.log(h + 1) - np.log(y + 1)).mean())\n",
    "scorer = make_scorer(score_func=rmsle, greater_is_better=False)"
   ]
  },
  {
   "cell_type": "code",
   "execution_count": 33,
   "metadata": {},
   "outputs": [],
   "source": [
    "# three linear models and one tree\n",
    "models = [\n",
    "    (\"Lasso\", Lasso, {\"alpha\": [0.1, 0.5], # bigger alpha -> bigger error\n",
    "                      \"random_state\": [0],\n",
    "                      \"max_iter\": [1000],\n",
    "                      \"tol\": [0.001],\n",
    "                      \"selection\": [\"random\"],\n",
    "                      \"fit_intercept\": [False]}), # everything is normalized, thanks to TF-IDF\n",
    "    (\"Ridge\", Ridge, {\"solver\": [\"lsqr\", \"sparse_cg\"], # svd doesn't support sparse matrices\n",
    "                      \"alpha\": [0.1, 0.5, 1],    # cholesky is slow, as well as sag and saga\n",
    "                      \"random_state\": [0],\n",
    "                      \"tol\": [0.001],\n",
    "                      \"fit_intercept\": [False]}),\n",
    "    (\"ElasticNet\", ElasticNet, {\"alpha\": [0.1, 0.5], # bigger alpha -> bigger error\n",
    "                                \"l1_ratio\": [0.1, 0.5, 0.9],\n",
    "                                \"random_state\": [0],\n",
    "                                \"max_iter\": [1000],\n",
    "                                \"tol\": [0.001],\n",
    "                                \"selection\": [\"random\"],\n",
    "                                \"fit_intercept\": [False]}),\n",
    "    (\"DecisionTreeRegressor\", DecisionTreeRegressor, {\"max_depth\": [3, 7], # more depth -> slower learning rate\n",
    "                                                      \"random_state\": [0]})\n",
    "]"
   ]
  },
  {
   "cell_type": "code",
   "execution_count": 34,
   "metadata": {
    "scrolled": false
   },
   "outputs": [],
   "source": [
    "best_models = []\n",
    "\n",
    "for name, model_class, params in models:\n",
    "    gs = GridSearchCV(model_class(), params, scoring=scorer, cv=5, n_jobs=1, refit=True)\n",
    "    gs.fit(X, log_y)\n",
    "    best_models.append((name, model_class, gs.best_estimator_, gs.best_params_, gs.best_score_))"
   ]
  },
  {
   "cell_type": "code",
   "execution_count": 35,
   "metadata": {},
   "outputs": [],
   "source": [
    "for model_name, _, estimator, _, _ in best_models:\n",
    "    predicted = np.expm1(estimator.predict(X_test))\n",
    "    pd.DataFrame({\"price\": predicted}, index=df_test.index).to_csv(\"baseline_{}.csv\".format(model_name), sep=\",\")"
   ]
  },
  {
   "cell_type": "markdown",
   "metadata": {},
   "source": [
    "### Ensembles"
   ]
  },
  {
   "cell_type": "markdown",
   "metadata": {},
   "source": [
    "Anyone can just apply XGBoost or RandomForest. Let's stack our very own ensemble with the baseline models and LGBMRegressor!  \n",
    "Alas, we're really out of time here, so, no CV for ensemble."
   ]
  },
  {
   "cell_type": "code",
   "execution_count": 36,
   "metadata": {},
   "outputs": [
    {
     "data": {
      "text/plain": [
       "LGBMRegressor(boosting_type='gbdt', colsample_bytree=1.0, learning_rate=0.1,\n",
       "       max_bin=255, max_depth=-1, min_child_samples=10, min_child_weight=5,\n",
       "       min_split_gain=0.0, n_estimators=100, n_jobs=-1, num_leaves=31,\n",
       "       objective=None, random_state=0, reg_alpha=0.0, reg_lambda=0.0,\n",
       "       silent=True, subsample=1.0, subsample_for_bin=50000,\n",
       "       subsample_freq=1)"
      ]
     },
     "execution_count": 36,
     "metadata": {},
     "output_type": "execute_result"
    }
   ],
   "source": [
    "lgr = LGBMRegressor(n_jobs=-1, n_estimators=100)\n",
    "lgr.fit(X, log_y, eval_metric=rmsle)"
   ]
  },
  {
   "cell_type": "code",
   "execution_count": 37,
   "metadata": {},
   "outputs": [],
   "source": [
    "best_models.append((\"LGBMRegressor\", LGBMRegressor, lgr, lgr.get_params(), lgr.best_score_))"
   ]
  },
  {
   "cell_type": "code",
   "execution_count": 38,
   "metadata": {},
   "outputs": [],
   "source": [
    "all_models_preds_train = np.zeros((X.shape[0], len(best_models)))\n",
    "for i in range(len(best_models)):\n",
    "    _, _, estimator, _, _ = best_models[i]\n",
    "    all_models_preds_train[..., i] = estimator.predict(X)"
   ]
  },
  {
   "cell_type": "code",
   "execution_count": 39,
   "metadata": {},
   "outputs": [],
   "source": [
    "all_models_preds_test = np.zeros((X_test.shape[0], len(best_models)))\n",
    "for i in range(len(best_models)):\n",
    "    _, _, estimator, _, _ = best_models[i]\n",
    "    all_models_preds_test[..., i] = estimator.predict(X_test)"
   ]
  },
  {
   "cell_type": "code",
   "execution_count": 40,
   "metadata": {},
   "outputs": [],
   "source": [
    "lr = LinearRegression()\n",
    "lr.fit(all_models_preds_train, log_y)\n",
    "final_preds = np.expm1(lr.predict(all_models_preds_test))"
   ]
  },
  {
   "cell_type": "code",
   "execution_count": 41,
   "metadata": {},
   "outputs": [],
   "source": [
    "pd.DataFrame({\"price\": final_preds}, index=df_test.index).to_csv(\"ensemble.csv\", sep=\",\")"
   ]
  }
 ],
 "metadata": {
  "kernelspec": {
   "display_name": "Python 3",
   "language": "python",
   "name": "python3"
  },
  "language_info": {
   "codemirror_mode": {
    "name": "ipython",
    "version": 3
   },
   "file_extension": ".py",
   "mimetype": "text/x-python",
   "name": "python",
   "nbconvert_exporter": "python",
   "pygments_lexer": "ipython3",
   "version": "3.6.3"
  }
 },
 "nbformat": 4,
 "nbformat_minor": 2
}
