{
 "cells": [
  {
   "cell_type": "code",
   "execution_count": 1,
   "metadata": {},
   "outputs": [
    {
     "name": "stderr",
     "output_type": "stream",
     "text": [
      "C:\\ProgramData\\Anaconda3\\lib\\site-packages\\gensim\\utils.py:860: UserWarning: detected Windows; aliasing chunkize to chunkize_serial\n",
      "  warnings.warn(\"detected Windows; aliasing chunkize to chunkize_serial\")\n"
     ]
    }
   ],
   "source": [
    "import html\n",
    "import json\n",
    "import re\n",
    "import nltk\n",
    "import gensim\n",
    "\n",
    "import pandas as pd\n",
    "import numpy as np\n",
    "import matplotlib\n",
    "import matplotlib.pyplot as plt\n",
    "import matplotlib.cm as cm\n",
    "import seaborn as sns\n",
    "\n",
    "from pathlib import Path\n",
    "from sklearn.neighbors import KDTree\n",
    "from sklearn.pipeline import Pipeline\n",
    "from sklearn.feature_extraction import DictVectorizer\n",
    "from sklearn.decomposition import PCA\n",
    "from sklearn.cluster import MiniBatchKMeans, KMeans, DBSCAN\n",
    "from sklearn.metrics import silhouette_score, silhouette_samples\n",
    "from scipy import sparse\n",
    "from collections import Counter, defaultdict\n",
    "from sklearn.pipeline import make_union, make_pipeline\n",
    "from sklearn.preprocessing import FunctionTransformer, StandardScaler, OneHotEncoder\n",
    "from pymystem3 import Mystem\n",
    "from collections import Counter\n",
    "from nltk.corpus import stopwords\n",
    "\n",
    "sns.set()\n",
    "\n",
    "%matplotlib inline\n",
    "plt.rcParams[\"figure.figsize\"] = (15, 8)\n",
    "pd.options.display.float_format = '{:.2f}'.format"
   ]
  },
  {
   "cell_type": "code",
   "execution_count": 2,
   "metadata": {
    "collapsed": true
   },
   "outputs": [],
   "source": [
    "fn = 'orders.csv'"
   ]
  },
  {
   "cell_type": "code",
   "execution_count": 3,
   "metadata": {
    "collapsed": true
   },
   "outputs": [],
   "source": [
    "lemmatized_words_file, lemmatized_words_freqs_file = Path(\"lemmatized.json\"), Path(\"lemmatized_freqs.json\")"
   ]
  },
  {
   "cell_type": "code",
   "execution_count": 4,
   "metadata": {
    "collapsed": true
   },
   "outputs": [],
   "source": [
    "original = pd.read_csv(fn)"
   ]
  },
  {
   "cell_type": "code",
   "execution_count": 5,
   "metadata": {},
   "outputs": [
    {
     "name": "stdout",
     "output_type": "stream",
     "text": [
      "Dropped 10 duplicates\n"
     ]
    }
   ],
   "source": [
    "dupes = sum(original.duplicated())\n",
    "if dupes:\n",
    "    original.drop_duplicates(inplace = True)\n",
    "    print(\"Dropped {} duplicates\".format(dupes))"
   ]
  },
  {
   "cell_type": "markdown",
   "metadata": {},
   "source": [
    "# 1. Провести EDA\n",
    "Просмотреть структуру данных, значения каждого признака, поискать особенности в признаках и в данных вцелом"
   ]
  },
  {
   "cell_type": "code",
   "execution_count": 6,
   "metadata": {
    "collapsed": true
   },
   "outputs": [],
   "source": [
    "eda = original.copy()"
   ]
  },
  {
   "cell_type": "code",
   "execution_count": 7,
   "metadata": {},
   "outputs": [
    {
     "data": {
      "text/html": [
       "<div>\n",
       "<style>\n",
       "    .dataframe thead tr:only-child th {\n",
       "        text-align: right;\n",
       "    }\n",
       "\n",
       "    .dataframe thead th {\n",
       "        text-align: left;\n",
       "    }\n",
       "\n",
       "    .dataframe tbody tr th {\n",
       "        vertical-align: top;\n",
       "    }\n",
       "</style>\n",
       "<table border=\"1\" class=\"dataframe\">\n",
       "  <thead>\n",
       "    <tr style=\"text-align: right;\">\n",
       "      <th></th>\n",
       "      <th>DISCOUNT_VALUE</th>\n",
       "      <th>NAME</th>\n",
       "      <th>PRICE</th>\n",
       "      <th>QUANTITY</th>\n",
       "      <th>date_insert</th>\n",
       "      <th>discount</th>\n",
       "      <th>itemID</th>\n",
       "      <th>orderID</th>\n",
       "      <th>ordered_item_count</th>\n",
       "      <th>price</th>\n",
       "      <th>user_id</th>\n",
       "    </tr>\n",
       "  </thead>\n",
       "  <tbody>\n",
       "    <tr>\n",
       "      <th>0</th>\n",
       "      <td>23.55%</td>\n",
       "      <td>Хроники Амбера. Том 2</td>\n",
       "      <td>357.00</td>\n",
       "      <td>1</td>\n",
       "      <td>2017-03-19 22:25:20</td>\n",
       "      <td>110.00</td>\n",
       "      <td>169108</td>\n",
       "      <td>602051</td>\n",
       "      <td>1</td>\n",
       "      <td>527.00</td>\n",
       "      <td>911531</td>\n",
       "    </tr>\n",
       "    <tr>\n",
       "      <th>1</th>\n",
       "      <td>4.07%</td>\n",
       "      <td>Хроники Амбера. Том 1</td>\n",
       "      <td>448.00</td>\n",
       "      <td>1</td>\n",
       "      <td>2017-03-19 22:19:58</td>\n",
       "      <td>19.00</td>\n",
       "      <td>1394744</td>\n",
       "      <td>602047</td>\n",
       "      <td>1</td>\n",
       "      <td>618.00</td>\n",
       "      <td>911531</td>\n",
       "    </tr>\n",
       "    <tr>\n",
       "      <th>2</th>\n",
       "      <td>4.17%</td>\n",
       "      <td>Пищеводитель</td>\n",
       "      <td>414.00</td>\n",
       "      <td>1</td>\n",
       "      <td>2017-03-19 20:58:00</td>\n",
       "      <td>65.00</td>\n",
       "      <td>191276</td>\n",
       "      <td>602017</td>\n",
       "      <td>4</td>\n",
       "      <td>1503.00</td>\n",
       "      <td>911587</td>\n",
       "    </tr>\n",
       "    <tr>\n",
       "      <th>3</th>\n",
       "      <td>4.17%</td>\n",
       "      <td>Аудиокн. Мясников. &amp;quot;Ржавчина&amp;quot;: что д...</td>\n",
       "      <td>253.00</td>\n",
       "      <td>1</td>\n",
       "      <td>2017-03-19 20:58:00</td>\n",
       "      <td>65.00</td>\n",
       "      <td>157945</td>\n",
       "      <td>602017</td>\n",
       "      <td>4</td>\n",
       "      <td>1503.00</td>\n",
       "      <td>911587</td>\n",
       "    </tr>\n",
       "    <tr>\n",
       "      <th>4</th>\n",
       "      <td>4.09%</td>\n",
       "      <td>Инфекции. Как защитить себя и своего ребенка</td>\n",
       "      <td>422.00</td>\n",
       "      <td>1</td>\n",
       "      <td>2017-03-19 20:58:00</td>\n",
       "      <td>65.00</td>\n",
       "      <td>205173</td>\n",
       "      <td>602017</td>\n",
       "      <td>4</td>\n",
       "      <td>1503.00</td>\n",
       "      <td>911587</td>\n",
       "    </tr>\n",
       "  </tbody>\n",
       "</table>\n",
       "</div>"
      ],
      "text/plain": [
       "  DISCOUNT_VALUE                                               NAME  PRICE  \\\n",
       "0         23.55%                              Хроники Амбера. Том 2 357.00   \n",
       "1          4.07%                              Хроники Амбера. Том 1 448.00   \n",
       "2          4.17%                                       Пищеводитель 414.00   \n",
       "3          4.17%  Аудиокн. Мясников. &quot;Ржавчина&quot;: что д... 253.00   \n",
       "4          4.09%       Инфекции. Как защитить себя и своего ребенка 422.00   \n",
       "\n",
       "   QUANTITY          date_insert  discount   itemID  orderID  \\\n",
       "0         1  2017-03-19 22:25:20    110.00   169108   602051   \n",
       "1         1  2017-03-19 22:19:58     19.00  1394744   602047   \n",
       "2         1  2017-03-19 20:58:00     65.00   191276   602017   \n",
       "3         1  2017-03-19 20:58:00     65.00   157945   602017   \n",
       "4         1  2017-03-19 20:58:00     65.00   205173   602017   \n",
       "\n",
       "   ordered_item_count   price  user_id  \n",
       "0                   1  527.00   911531  \n",
       "1                   1  618.00   911531  \n",
       "2                   4 1503.00   911587  \n",
       "3                   4 1503.00   911587  \n",
       "4                   4 1503.00   911587  "
      ]
     },
     "execution_count": 7,
     "metadata": {},
     "output_type": "execute_result"
    }
   ],
   "source": [
    "eda.head()"
   ]
  },
  {
   "cell_type": "code",
   "execution_count": 8,
   "metadata": {},
   "outputs": [
    {
     "name": "stdout",
     "output_type": "stream",
     "text": [
      "<class 'pandas.core.frame.DataFrame'>\n",
      "Int64Index: 557808 entries, 0 to 557817\n",
      "Data columns (total 11 columns):\n",
      "DISCOUNT_VALUE        553771 non-null object\n",
      "NAME                  557801 non-null object\n",
      "PRICE                 557808 non-null float64\n",
      "QUANTITY              557808 non-null int64\n",
      "date_insert           557808 non-null object\n",
      "discount              557808 non-null float64\n",
      "itemID                557808 non-null int64\n",
      "orderID               557808 non-null int64\n",
      "ordered_item_count    557808 non-null int64\n",
      "price                 557808 non-null float64\n",
      "user_id               557808 non-null int64\n",
      "dtypes: float64(3), int64(5), object(3)\n",
      "memory usage: 51.1+ MB\n"
     ]
    }
   ],
   "source": [
    "eda.info()"
   ]
  },
  {
   "cell_type": "markdown",
   "metadata": {},
   "source": [
    "**DISCOUNT_VALUE**: a discount percentage, applied to **PRICE** if <100%\n",
    "**NAME**: an item's name  \n",
    "**PRICE**: item's price with **DISCOUNT_VALUE** subtracted if it <100%  \n",
    "**QUANTITY**: a number of items purchased  \n",
    "**date_insert**: a date of purchase  \n",
    "**discount**: an absolute value of discount, subtracted from a **price**  \n",
    "**itemID**: an item identifier  \n",
    "**orderID**: an order identifier  \n",
    "**ordered_item_count**: a number of items in order  \n",
    "**price**: a total price of order  \n",
    "**user_id**: an user's identifier"
   ]
  },
  {
   "cell_type": "markdown",
   "metadata": {},
   "source": [
    "##### DISCOUNT_VALUE"
   ]
  },
  {
   "cell_type": "code",
   "execution_count": 9,
   "metadata": {},
   "outputs": [
    {
     "data": {
      "text/plain": [
       "4037"
      ]
     },
     "execution_count": 9,
     "metadata": {},
     "output_type": "execute_result"
    }
   ],
   "source": [
    "sum(eda.DISCOUNT_VALUE.isnull())"
   ]
  },
  {
   "cell_type": "code",
   "execution_count": 10,
   "metadata": {},
   "outputs": [
    {
     "data": {
      "text/plain": [
       "<matplotlib.axes._subplots.AxesSubplot at 0x79e1732748>"
      ]
     },
     "execution_count": 10,
     "metadata": {},
     "output_type": "execute_result"
    },
    {
     "data": {
      "image/png": "[encoded data removed]",
      "text/plain": [
       "<matplotlib.figure.Figure at 0x79e8d19a58>"
      ]
     },
     "metadata": {},
     "output_type": "display_data"
    }
   ],
   "source": [
    "not_null_discounts = eda[eda.DISCOUNT_VALUE.notnull()].DISCOUNT_VALUE.apply(lambda x: float(str(x).replace(\"%\", \"\")))\n",
    "not_null_discounts.plot(kind=\"density\", xlim=[0, 100])"
   ]
  },
  {
   "cell_type": "markdown",
   "metadata": {},
   "source": [
    "Peaks at 0%, ~4%, ~20%, ~25% and ~45%."
   ]
  },
  {
   "cell_type": "markdown",
   "metadata": {},
   "source": [
    "##### NAME"
   ]
  },
  {
   "cell_type": "code",
   "execution_count": 11,
   "metadata": {},
   "outputs": [
    {
     "data": {
      "text/plain": [
       "7"
      ]
     },
     "execution_count": 11,
     "metadata": {},
     "output_type": "execute_result"
    }
   ],
   "source": [
    "sum(eda.NAME.isnull())"
   ]
  },
  {
   "cell_type": "code",
   "execution_count": 12,
   "metadata": {},
   "outputs": [
    {
     "data": {
      "text/html": [
       "<div>\n",
       "<style>\n",
       "    .dataframe thead tr:only-child th {\n",
       "        text-align: right;\n",
       "    }\n",
       "\n",
       "    .dataframe thead th {\n",
       "        text-align: left;\n",
       "    }\n",
       "\n",
       "    .dataframe tbody tr th {\n",
       "        vertical-align: top;\n",
       "    }\n",
       "</style>\n",
       "<table border=\"1\" class=\"dataframe\">\n",
       "  <thead>\n",
       "    <tr style=\"text-align: right;\">\n",
       "      <th></th>\n",
       "      <th>DISCOUNT_VALUE</th>\n",
       "      <th>NAME</th>\n",
       "      <th>PRICE</th>\n",
       "      <th>QUANTITY</th>\n",
       "      <th>date_insert</th>\n",
       "      <th>discount</th>\n",
       "      <th>itemID</th>\n",
       "      <th>orderID</th>\n",
       "      <th>ordered_item_count</th>\n",
       "      <th>price</th>\n",
       "      <th>user_id</th>\n",
       "    </tr>\n",
       "  </thead>\n",
       "  <tbody>\n",
       "    <tr>\n",
       "      <th>110107</th>\n",
       "      <td>NaN</td>\n",
       "      <td>NaN</td>\n",
       "      <td>11221.00</td>\n",
       "      <td>1</td>\n",
       "      <td>2017-04-27 09:15:19</td>\n",
       "      <td>0.00</td>\n",
       "      <td>132542</td>\n",
       "      <td>624656</td>\n",
       "      <td>1</td>\n",
       "      <td>11500.00</td>\n",
       "      <td>195867</td>\n",
       "    </tr>\n",
       "    <tr>\n",
       "      <th>146016</th>\n",
       "      <td>NaN</td>\n",
       "      <td>NaN</td>\n",
       "      <td>12587.00</td>\n",
       "      <td>1</td>\n",
       "      <td>2017-05-19 02:15:11</td>\n",
       "      <td>0.00</td>\n",
       "      <td>133342</td>\n",
       "      <td>634448</td>\n",
       "      <td>1</td>\n",
       "      <td>12866.00</td>\n",
       "      <td>195867</td>\n",
       "    </tr>\n",
       "    <tr>\n",
       "      <th>159453</th>\n",
       "      <td>NaN</td>\n",
       "      <td>NaN</td>\n",
       "      <td>12587.00</td>\n",
       "      <td>1</td>\n",
       "      <td>2017-05-23 11:15:12</td>\n",
       "      <td>0.00</td>\n",
       "      <td>133342</td>\n",
       "      <td>636646</td>\n",
       "      <td>1</td>\n",
       "      <td>12587.00</td>\n",
       "      <td>195867</td>\n",
       "    </tr>\n",
       "    <tr>\n",
       "      <th>160684</th>\n",
       "      <td>NaN</td>\n",
       "      <td>NaN</td>\n",
       "      <td>1625.00</td>\n",
       "      <td>1</td>\n",
       "      <td>2017-05-26 12:15:14</td>\n",
       "      <td>0.00</td>\n",
       "      <td>144934</td>\n",
       "      <td>639120</td>\n",
       "      <td>1</td>\n",
       "      <td>1625.00</td>\n",
       "      <td>195867</td>\n",
       "    </tr>\n",
       "    <tr>\n",
       "      <th>178111</th>\n",
       "      <td>NaN</td>\n",
       "      <td>NaN</td>\n",
       "      <td>1625.00</td>\n",
       "      <td>1</td>\n",
       "      <td>2017-05-29 09:15:12</td>\n",
       "      <td>0.00</td>\n",
       "      <td>144934</td>\n",
       "      <td>640360</td>\n",
       "      <td>1</td>\n",
       "      <td>1625.00</td>\n",
       "      <td>195867</td>\n",
       "    </tr>\n",
       "    <tr>\n",
       "      <th>200009</th>\n",
       "      <td>NaN</td>\n",
       "      <td>NaN</td>\n",
       "      <td>1625.00</td>\n",
       "      <td>1</td>\n",
       "      <td>2017-06-06 12:15:11</td>\n",
       "      <td>0.00</td>\n",
       "      <td>144934</td>\n",
       "      <td>645680</td>\n",
       "      <td>1</td>\n",
       "      <td>1625.00</td>\n",
       "      <td>195867</td>\n",
       "    </tr>\n",
       "    <tr>\n",
       "      <th>200772</th>\n",
       "      <td>NaN</td>\n",
       "      <td>NaN</td>\n",
       "      <td>1625.00</td>\n",
       "      <td>1</td>\n",
       "      <td>2017-06-09 06:15:14</td>\n",
       "      <td>0.00</td>\n",
       "      <td>144934</td>\n",
       "      <td>647375</td>\n",
       "      <td>1</td>\n",
       "      <td>1625.00</td>\n",
       "      <td>195867</td>\n",
       "    </tr>\n",
       "  </tbody>\n",
       "</table>\n",
       "</div>"
      ],
      "text/plain": [
       "       DISCOUNT_VALUE NAME    PRICE  QUANTITY          date_insert  discount  \\\n",
       "110107            NaN  NaN 11221.00         1  2017-04-27 09:15:19      0.00   \n",
       "146016            NaN  NaN 12587.00         1  2017-05-19 02:15:11      0.00   \n",
       "159453            NaN  NaN 12587.00         1  2017-05-23 11:15:12      0.00   \n",
       "160684            NaN  NaN  1625.00         1  2017-05-26 12:15:14      0.00   \n",
       "178111            NaN  NaN  1625.00         1  2017-05-29 09:15:12      0.00   \n",
       "200009            NaN  NaN  1625.00         1  2017-06-06 12:15:11      0.00   \n",
       "200772            NaN  NaN  1625.00         1  2017-06-09 06:15:14      0.00   \n",
       "\n",
       "        itemID  orderID  ordered_item_count    price  user_id  \n",
       "110107  132542   624656                   1 11500.00   195867  \n",
       "146016  133342   634448                   1 12866.00   195867  \n",
       "159453  133342   636646                   1 12587.00   195867  \n",
       "160684  144934   639120                   1  1625.00   195867  \n",
       "178111  144934   640360                   1  1625.00   195867  \n",
       "200009  144934   645680                   1  1625.00   195867  \n",
       "200772  144934   647375                   1  1625.00   195867  "
      ]
     },
     "execution_count": 12,
     "metadata": {},
     "output_type": "execute_result"
    }
   ],
   "source": [
    "eda[eda.NAME.isnull()]"
   ]
  },
  {
   "cell_type": "code",
   "execution_count": 13,
   "metadata": {},
   "outputs": [
    {
     "data": {
      "text/plain": [
       "7"
      ]
     },
     "execution_count": 13,
     "metadata": {},
     "output_type": "execute_result"
    }
   ],
   "source": [
    "len(eda[eda.itemID == 132542]) + len(eda[eda.itemID == 133342]) + len(eda[eda.itemID == 144934])"
   ]
  },
  {
   "cell_type": "markdown",
   "metadata": {},
   "source": [
    "We have no means of restoring these items' names."
   ]
  },
  {
   "cell_type": "markdown",
   "metadata": {},
   "source": [
    "##### PRICE"
   ]
  },
  {
   "cell_type": "code",
   "execution_count": 14,
   "metadata": {},
   "outputs": [
    {
     "data": {
      "text/plain": [
       "0"
      ]
     },
     "execution_count": 14,
     "metadata": {},
     "output_type": "execute_result"
    }
   ],
   "source": [
    "sum(eda.PRICE.isnull())"
   ]
  },
  {
   "cell_type": "markdown",
   "metadata": {},
   "source": [
    "Whew, no NaN prices."
   ]
  },
  {
   "cell_type": "code",
   "execution_count": 15,
   "metadata": {},
   "outputs": [
    {
     "data": {
      "text/plain": [
       "903"
      ]
     },
     "execution_count": 15,
     "metadata": {},
     "output_type": "execute_result"
    }
   ],
   "source": [
    "len(eda.PRICE) - len(eda.PRICE.nonzero()[0])"
   ]
  },
  {
   "cell_type": "markdown",
   "metadata": {},
   "source": [
    "But zero prices are here."
   ]
  },
  {
   "cell_type": "code",
   "execution_count": 16,
   "metadata": {},
   "outputs": [
    {
     "data": {
      "text/plain": [
       "<matplotlib.text.Text at 0x79e8d199b0>"
      ]
     },
     "execution_count": 16,
     "metadata": {},
     "output_type": "execute_result"
    },
    {
     "data": {
      "image/png": "[encoded data removed]",
      "text/plain": [
       "<matplotlib.figure.Figure at 0x79e42b44a8>"
      ]
     },
     "metadata": {},
     "output_type": "display_data"
    }
   ],
   "source": [
    "plot = np.log10(eda.PRICE.iloc[eda.PRICE.nonzero()[0]]).hist(bins=200)\n",
    "plot.set_ylabel(\"Count\")\n",
    "plot.set_xlabel(\"log10(PRICE)\")"
   ]
  },
  {
   "cell_type": "markdown",
   "metadata": {},
   "source": [
    "Log-scaled PRICE distribution looks almost normal except for the huge outlier at 0."
   ]
  },
  {
   "cell_type": "code",
   "execution_count": 17,
   "metadata": {},
   "outputs": [
    {
     "data": {
      "text/plain": [
       "12601"
      ]
     },
     "execution_count": 17,
     "metadata": {},
     "output_type": "execute_result"
    }
   ],
   "source": [
    "len(eda[eda.PRICE < 10])"
   ]
  },
  {
   "cell_type": "markdown",
   "metadata": {},
   "source": [
    "##### QUANTITY"
   ]
  },
  {
   "cell_type": "code",
   "execution_count": 18,
   "metadata": {},
   "outputs": [
    {
     "data": {
      "text/plain": [
       "0"
      ]
     },
     "execution_count": 18,
     "metadata": {},
     "output_type": "execute_result"
    }
   ],
   "source": [
    "sum(eda.QUANTITY.isnull())"
   ]
  },
  {
   "cell_type": "code",
   "execution_count": 19,
   "metadata": {},
   "outputs": [
    {
     "data": {
      "text/plain": [
       "0"
      ]
     },
     "execution_count": 19,
     "metadata": {},
     "output_type": "execute_result"
    }
   ],
   "source": [
    "len(eda.QUANTITY) - len(eda.QUANTITY.nonzero()[0])"
   ]
  },
  {
   "cell_type": "code",
   "execution_count": 20,
   "metadata": {},
   "outputs": [
    {
     "data": {
      "text/plain": [
       "count   557808.00\n",
       "mean         1.65\n",
       "std          5.05\n",
       "min          1.00\n",
       "25%          1.00\n",
       "50%          1.00\n",
       "75%          1.00\n",
       "max        500.00\n",
       "Name: QUANTITY, dtype: float64"
      ]
     },
     "execution_count": 20,
     "metadata": {},
     "output_type": "execute_result"
    }
   ],
   "source": [
    "eda.QUANTITY.describe()"
   ]
  },
  {
   "cell_type": "code",
   "execution_count": 21,
   "metadata": {},
   "outputs": [
    {
     "data": {
      "text/plain": [
       "1.0"
      ]
     },
     "execution_count": 21,
     "metadata": {},
     "output_type": "execute_result"
    }
   ],
   "source": [
    "eda.QUANTITY.quantile(0.9)"
   ]
  },
  {
   "cell_type": "code",
   "execution_count": 22,
   "metadata": {},
   "outputs": [
    {
     "data": {
      "text/plain": [
       "24.0"
      ]
     },
     "execution_count": 22,
     "metadata": {},
     "output_type": "execute_result"
    }
   ],
   "source": [
    "eda.QUANTITY.quantile(0.99)"
   ]
  },
  {
   "cell_type": "code",
   "execution_count": 23,
   "metadata": {},
   "outputs": [
    {
     "data": {
      "text/plain": [
       "54.0"
      ]
     },
     "execution_count": 23,
     "metadata": {},
     "output_type": "execute_result"
    }
   ],
   "source": [
    "eda.QUANTITY.quantile(0.999)"
   ]
  },
  {
   "cell_type": "markdown",
   "metadata": {},
   "source": [
    "Very skewed distribution."
   ]
  },
  {
   "cell_type": "code",
   "execution_count": 24,
   "metadata": {},
   "outputs": [
    {
     "data": {
      "text/plain": [
       "<matplotlib.axes._subplots.AxesSubplot at 0x79e17ff9b0>"
      ]
     },
     "execution_count": 24,
     "metadata": {},
     "output_type": "execute_result"
    },
    {
     "data": {
      "image/png": "[encoded data removed]",
      "text/plain": [
       "<matplotlib.figure.Figure at 0x79e17b8cf8>"
      ]
     },
     "metadata": {},
     "output_type": "display_data"
    }
   ],
   "source": [
    "plot = eda.QUANTITY.hist(bins=20, log=True)\n",
    "plot.set_xlabel(\"QUANTITY\")\n",
    "plot.set_ylabel(\"count\")\n",
    "plot"
   ]
  },
  {
   "cell_type": "markdown",
   "metadata": {},
   "source": [
    "##### date_insert"
   ]
  },
  {
   "cell_type": "code",
   "execution_count": 25,
   "metadata": {},
   "outputs": [
    {
     "data": {
      "text/plain": [
       "0"
      ]
     },
     "execution_count": 25,
     "metadata": {},
     "output_type": "execute_result"
    }
   ],
   "source": [
    "sum(eda.date_insert.isnull())"
   ]
  },
  {
   "cell_type": "code",
   "execution_count": 26,
   "metadata": {
    "collapsed": true
   },
   "outputs": [],
   "source": [
    "dates = pd.to_datetime(eda.date_insert)"
   ]
  },
  {
   "cell_type": "code",
   "execution_count": 27,
   "metadata": {},
   "outputs": [
    {
     "data": {
      "text/plain": [
       "Timestamp('2017-10-01 23:50:02')"
      ]
     },
     "execution_count": 27,
     "metadata": {},
     "output_type": "execute_result"
    }
   ],
   "source": [
    "dates.max()"
   ]
  },
  {
   "cell_type": "code",
   "execution_count": 28,
   "metadata": {},
   "outputs": [
    {
     "data": {
      "text/plain": [
       "Timestamp('2017-03-13 00:05:06')"
      ]
     },
     "execution_count": 28,
     "metadata": {},
     "output_type": "execute_result"
    }
   ],
   "source": [
    "dates.min()"
   ]
  },
  {
   "cell_type": "code",
   "execution_count": 29,
   "metadata": {},
   "outputs": [
    {
     "data": {
      "text/plain": [
       "Timedelta('202 days 23:44:56')"
      ]
     },
     "execution_count": 29,
     "metadata": {},
     "output_type": "execute_result"
    }
   ],
   "source": [
    "dates.max() - dates.min()"
   ]
  },
  {
   "cell_type": "markdown",
   "metadata": {},
   "source": [
    "##### itemID"
   ]
  },
  {
   "cell_type": "code",
   "execution_count": 30,
   "metadata": {},
   "outputs": [
    {
     "data": {
      "text/plain": [
       "0"
      ]
     },
     "execution_count": 30,
     "metadata": {},
     "output_type": "execute_result"
    }
   ],
   "source": [
    "sum(eda.itemID.isnull())"
   ]
  },
  {
   "cell_type": "code",
   "execution_count": 31,
   "metadata": {},
   "outputs": [
    {
     "data": {
      "text/plain": [
       "51890"
      ]
     },
     "execution_count": 31,
     "metadata": {},
     "output_type": "execute_result"
    }
   ],
   "source": [
    "len(eda.itemID.unique())"
   ]
  },
  {
   "cell_type": "code",
   "execution_count": 32,
   "metadata": {},
   "outputs": [
    {
     "data": {
      "text/plain": [
       "-22743"
      ]
     },
     "execution_count": 32,
     "metadata": {},
     "output_type": "execute_result"
    }
   ],
   "source": [
    "len(eda.itemID.unique()) - len(eda.NAME.unique())"
   ]
  },
  {
   "cell_type": "markdown",
   "metadata": {},
   "source": [
    "More NAMEs than itemIDs, not good."
   ]
  },
  {
   "cell_type": "markdown",
   "metadata": {},
   "source": [
    "##### orderID"
   ]
  },
  {
   "cell_type": "code",
   "execution_count": 33,
   "metadata": {},
   "outputs": [
    {
     "data": {
      "text/plain": [
       "0"
      ]
     },
     "execution_count": 33,
     "metadata": {},
     "output_type": "execute_result"
    }
   ],
   "source": [
    "sum(eda.orderID.isnull())"
   ]
  },
  {
   "cell_type": "code",
   "execution_count": 34,
   "metadata": {},
   "outputs": [
    {
     "data": {
      "text/plain": [
       "127683"
      ]
     },
     "execution_count": 34,
     "metadata": {},
     "output_type": "execute_result"
    }
   ],
   "source": [
    "len(eda.orderID.unique())"
   ]
  },
  {
   "cell_type": "markdown",
   "metadata": {},
   "source": [
    "##### ordered_item_count"
   ]
  },
  {
   "cell_type": "code",
   "execution_count": 35,
   "metadata": {},
   "outputs": [
    {
     "data": {
      "text/plain": [
       "0"
      ]
     },
     "execution_count": 35,
     "metadata": {},
     "output_type": "execute_result"
    }
   ],
   "source": [
    "sum(eda.ordered_item_count.isnull())"
   ]
  },
  {
   "cell_type": "code",
   "execution_count": 36,
   "metadata": {},
   "outputs": [
    {
     "data": {
      "text/plain": [
       "0"
      ]
     },
     "execution_count": 36,
     "metadata": {},
     "output_type": "execute_result"
    }
   ],
   "source": [
    "len(eda.ordered_item_count) - len(eda.ordered_item_count.nonzero()[0])"
   ]
  },
  {
   "cell_type": "code",
   "execution_count": 37,
   "metadata": {
    "collapsed": true
   },
   "outputs": [],
   "source": [
    "# effectively just extracting a number of items, price and user_id for each order\n",
    "orders = eda.groupby(\"orderID\").agg({\"ordered_item_count\": \"mean\", \"price\": \"mean\", \"user_id\": \"mean\"})"
   ]
  },
  {
   "cell_type": "code",
   "execution_count": 38,
   "metadata": {},
   "outputs": [
    {
     "data": {
      "text/plain": [
       "count   127683.00\n",
       "mean         4.37\n",
       "std          5.83\n",
       "min          1.00\n",
       "25%          1.00\n",
       "50%          3.00\n",
       "75%          5.00\n",
       "max        277.00\n",
       "Name: ordered_item_count, dtype: float64"
      ]
     },
     "execution_count": 38,
     "metadata": {},
     "output_type": "execute_result"
    }
   ],
   "source": [
    "orders.ordered_item_count.describe()"
   ]
  },
  {
   "cell_type": "markdown",
   "metadata": {},
   "source": [
    "And again, very skewed."
   ]
  },
  {
   "cell_type": "code",
   "execution_count": 39,
   "metadata": {},
   "outputs": [
    {
     "data": {
      "text/plain": [
       "<matplotlib.axes._subplots.AxesSubplot at 0x79e45c0f60>"
      ]
     },
     "execution_count": 39,
     "metadata": {},
     "output_type": "execute_result"
    },
    {
     "data": {
      "image/png": "[encoded data removed]",
      "text/plain": [
       "<matplotlib.figure.Figure at 0x79e45c9c88>"
      ]
     },
     "metadata": {},
     "output_type": "display_data"
    }
   ],
   "source": [
    "plot = orders.ordered_item_count.hist(bins=20, log=True)\n",
    "plot.set_xlabel(\"ordered_item_count\")\n",
    "plot.set_ylabel(\"count\")\n",
    "plot"
   ]
  },
  {
   "cell_type": "markdown",
   "metadata": {},
   "source": [
    "##### price"
   ]
  },
  {
   "cell_type": "code",
   "execution_count": 40,
   "metadata": {},
   "outputs": [
    {
     "data": {
      "text/plain": [
       "0"
      ]
     },
     "execution_count": 40,
     "metadata": {},
     "output_type": "execute_result"
    }
   ],
   "source": [
    "sum(eda.price.isnull())"
   ]
  },
  {
   "cell_type": "code",
   "execution_count": 41,
   "metadata": {},
   "outputs": [
    {
     "data": {
      "text/plain": [
       "0"
      ]
     },
     "execution_count": 41,
     "metadata": {},
     "output_type": "execute_result"
    }
   ],
   "source": [
    "len(eda.price) - len(eda.price.nonzero()[0])"
   ]
  },
  {
   "cell_type": "code",
   "execution_count": 42,
   "metadata": {
    "collapsed": true
   },
   "outputs": [],
   "source": [
    "# effectively just extracting a number of items, price and user_id for each order\n",
    "orders = eda.groupby(\"orderID\").agg({\"ordered_item_count\": \"mean\", \"price\": \"mean\", \"user_id\": \"mean\"})"
   ]
  },
  {
   "cell_type": "code",
   "execution_count": 43,
   "metadata": {},
   "outputs": [
    {
     "data": {
      "text/plain": [
       "count   127683.00\n",
       "mean      1666.75\n",
       "std       4134.88\n",
       "min          1.00\n",
       "25%        660.00\n",
       "50%       1088.00\n",
       "75%       1551.00\n",
       "max     386495.00\n",
       "Name: price, dtype: float64"
      ]
     },
     "execution_count": 43,
     "metadata": {},
     "output_type": "execute_result"
    }
   ],
   "source": [
    "orders.price.describe()"
   ]
  },
  {
   "cell_type": "code",
   "execution_count": 44,
   "metadata": {},
   "outputs": [
    {
     "data": {
      "text/plain": [
       "<matplotlib.axes._subplots.AxesSubplot at 0x79f3280ba8>"
      ]
     },
     "execution_count": 44,
     "metadata": {},
     "output_type": "execute_result"
    },
    {
     "data": {
      "image/png": "[encoded data removed]",
      "text/plain": [
       "<matplotlib.figure.Figure at 0x79f3276080>"
      ]
     },
     "metadata": {},
     "output_type": "display_data"
    }
   ],
   "source": [
    "plot = orders.price.hist(bins=20, log=True)\n",
    "plot.set_xlabel(\"price\")\n",
    "plot.set_ylabel(\"count\")\n",
    "plot"
   ]
  },
  {
   "cell_type": "markdown",
   "metadata": {},
   "source": [
    "##### user_id"
   ]
  },
  {
   "cell_type": "code",
   "execution_count": 45,
   "metadata": {},
   "outputs": [
    {
     "data": {
      "text/plain": [
       "0"
      ]
     },
     "execution_count": 45,
     "metadata": {},
     "output_type": "execute_result"
    }
   ],
   "source": [
    "sum(eda.user_id.isnull())"
   ]
  },
  {
   "cell_type": "code",
   "execution_count": 46,
   "metadata": {},
   "outputs": [
    {
     "data": {
      "text/plain": [
       "76258"
      ]
     },
     "execution_count": 46,
     "metadata": {},
     "output_type": "execute_result"
    }
   ],
   "source": [
    "len(eda.user_id.unique())"
   ]
  },
  {
   "cell_type": "code",
   "execution_count": 47,
   "metadata": {
    "collapsed": true
   },
   "outputs": [],
   "source": [
    "# effectively just extracting a number of items, price and user_id for each order\n",
    "orders = eda.groupby(\"orderID\").agg({\"ordered_item_count\": \"mean\", \"price\": \"mean\", \"user_id\": \"mean\"})"
   ]
  },
  {
   "cell_type": "code",
   "execution_count": 48,
   "metadata": {
    "collapsed": true
   },
   "outputs": [],
   "source": [
    "orders_by_user = orders.groupby(\"user_id\").sum()"
   ]
  },
  {
   "cell_type": "code",
   "execution_count": 49,
   "metadata": {},
   "outputs": [
    {
     "data": {
      "text/plain": [
       "count   76258.00\n",
       "mean        7.31\n",
       "std        18.69\n",
       "min         1.00\n",
       "25%         1.00\n",
       "50%         3.00\n",
       "75%         7.00\n",
       "max      2225.00\n",
       "Name: ordered_item_count, dtype: float64"
      ]
     },
     "execution_count": 49,
     "metadata": {},
     "output_type": "execute_result"
    }
   ],
   "source": [
    "orders_by_user.ordered_item_count.describe()"
   ]
  },
  {
   "cell_type": "code",
   "execution_count": 50,
   "metadata": {},
   "outputs": [
    {
     "data": {
      "text/plain": [
       "<matplotlib.axes._subplots.AxesSubplot at 0x79f34def28>"
      ]
     },
     "execution_count": 50,
     "metadata": {},
     "output_type": "execute_result"
    },
    {
     "data": {
      "image/png": "[encoded data removed]",
      "text/plain": [
       "<matplotlib.figure.Figure at 0x79f326d080>"
      ]
     },
     "metadata": {},
     "output_type": "display_data"
    }
   ],
   "source": [
    "orders_by_user.ordered_item_count.hist(bins=20, log=True)"
   ]
  },
  {
   "cell_type": "code",
   "execution_count": 51,
   "metadata": {},
   "outputs": [
    {
     "data": {
      "text/plain": [
       "count     76258.00\n",
       "mean       2790.73\n",
       "std       10422.42\n",
       "min           1.00\n",
       "25%         762.00\n",
       "50%        1224.96\n",
       "75%        2397.46\n",
       "max     1344584.40\n",
       "Name: price, dtype: float64"
      ]
     },
     "execution_count": 51,
     "metadata": {},
     "output_type": "execute_result"
    }
   ],
   "source": [
    "orders_by_user.price.describe()"
   ]
  },
  {
   "cell_type": "code",
   "execution_count": 52,
   "metadata": {},
   "outputs": [
    {
     "data": {
      "text/plain": [
       "<matplotlib.axes._subplots.AxesSubplot at 0x79f3e42b38>"
      ]
     },
     "execution_count": 52,
     "metadata": {},
     "output_type": "execute_result"
    },
    {
     "data": {
      "image/png": "[encoded data removed]",
      "text/plain": [
       "<matplotlib.figure.Figure at 0x79f3d9c9b0>"
      ]
     },
     "metadata": {},
     "output_type": "display_data"
    }
   ],
   "source": [
    "orders_by_user.price.hist(bins=20, log=True)"
   ]
  },
  {
   "cell_type": "markdown",
   "metadata": {},
   "source": [
    "##### Overall"
   ]
  },
  {
   "cell_type": "code",
   "execution_count": 53,
   "metadata": {},
   "outputs": [
    {
     "data": {
      "text/html": [
       "<div>\n",
       "<style>\n",
       "    .dataframe thead tr:only-child th {\n",
       "        text-align: right;\n",
       "    }\n",
       "\n",
       "    .dataframe thead th {\n",
       "        text-align: left;\n",
       "    }\n",
       "\n",
       "    .dataframe tbody tr th {\n",
       "        vertical-align: top;\n",
       "    }\n",
       "</style>\n",
       "<table border=\"1\" class=\"dataframe\">\n",
       "  <thead>\n",
       "    <tr style=\"text-align: right;\">\n",
       "      <th></th>\n",
       "      <th>DISCOUNT_VALUE</th>\n",
       "      <th>NAME</th>\n",
       "      <th>PRICE</th>\n",
       "      <th>QUANTITY</th>\n",
       "      <th>date_insert</th>\n",
       "      <th>discount</th>\n",
       "      <th>itemID</th>\n",
       "      <th>orderID</th>\n",
       "      <th>ordered_item_count</th>\n",
       "      <th>price</th>\n",
       "      <th>user_id</th>\n",
       "    </tr>\n",
       "  </thead>\n",
       "  <tbody>\n",
       "    <tr>\n",
       "      <th>0</th>\n",
       "      <td>23.55%</td>\n",
       "      <td>Хроники Амбера. Том 2</td>\n",
       "      <td>357.00</td>\n",
       "      <td>1</td>\n",
       "      <td>2017-03-19 22:25:20</td>\n",
       "      <td>110.00</td>\n",
       "      <td>169108</td>\n",
       "      <td>602051</td>\n",
       "      <td>1</td>\n",
       "      <td>527.00</td>\n",
       "      <td>911531</td>\n",
       "    </tr>\n",
       "  </tbody>\n",
       "</table>\n",
       "</div>"
      ],
      "text/plain": [
       "  DISCOUNT_VALUE                   NAME  PRICE  QUANTITY          date_insert  \\\n",
       "0         23.55%  Хроники Амбера. Том 2 357.00         1  2017-03-19 22:25:20   \n",
       "\n",
       "   discount  itemID  orderID  ordered_item_count  price  user_id  \n",
       "0    110.00  169108   602051                   1 527.00   911531  "
      ]
     },
     "execution_count": 53,
     "metadata": {},
     "output_type": "execute_result"
    }
   ],
   "source": [
    "order_602051 = eda[eda.orderID == 602051].copy()\n",
    "eda[eda.orderID == 602051]"
   ]
  },
  {
   "cell_type": "code",
   "execution_count": null,
   "metadata": {
    "collapsed": true
   },
   "outputs": [],
   "source": []
  },
  {
   "cell_type": "code",
   "execution_count": 54,
   "metadata": {},
   "outputs": [
    {
     "data": {
      "text/html": [
       "<div>\n",
       "<style>\n",
       "    .dataframe thead tr:only-child th {\n",
       "        text-align: right;\n",
       "    }\n",
       "\n",
       "    .dataframe thead th {\n",
       "        text-align: left;\n",
       "    }\n",
       "\n",
       "    .dataframe tbody tr th {\n",
       "        vertical-align: top;\n",
       "    }\n",
       "</style>\n",
       "<table border=\"1\" class=\"dataframe\">\n",
       "  <thead>\n",
       "    <tr style=\"text-align: right;\">\n",
       "      <th></th>\n",
       "      <th>DISCOUNT_VALUE</th>\n",
       "      <th>NAME</th>\n",
       "      <th>PRICE</th>\n",
       "      <th>QUANTITY</th>\n",
       "      <th>date_insert</th>\n",
       "      <th>discount</th>\n",
       "      <th>itemID</th>\n",
       "      <th>orderID</th>\n",
       "      <th>ordered_item_count</th>\n",
       "      <th>price</th>\n",
       "      <th>user_id</th>\n",
       "      <th>total</th>\n",
       "    </tr>\n",
       "  </thead>\n",
       "  <tbody>\n",
       "    <tr>\n",
       "      <th>0</th>\n",
       "      <td>23.55%</td>\n",
       "      <td>Хроники Амбера. Том 2</td>\n",
       "      <td>357.00</td>\n",
       "      <td>1</td>\n",
       "      <td>2017-03-19 22:25:20</td>\n",
       "      <td>110.00</td>\n",
       "      <td>169108</td>\n",
       "      <td>602051</td>\n",
       "      <td>1</td>\n",
       "      <td>527.00</td>\n",
       "      <td>911531</td>\n",
       "      <td>357.00</td>\n",
       "    </tr>\n",
       "  </tbody>\n",
       "</table>\n",
       "</div>"
      ],
      "text/plain": [
       "  DISCOUNT_VALUE                   NAME  PRICE  QUANTITY          date_insert  \\\n",
       "0         23.55%  Хроники Амбера. Том 2 357.00         1  2017-03-19 22:25:20   \n",
       "\n",
       "   discount  itemID  orderID  ordered_item_count  price  user_id  total  \n",
       "0    110.00  169108   602051                   1 527.00   911531 357.00  "
      ]
     },
     "execution_count": 54,
     "metadata": {},
     "output_type": "execute_result"
    }
   ],
   "source": [
    "order_602051[\"total\"] = order_602051.PRICE * order_602051.QUANTITY\n",
    "order_602051"
   ]
  },
  {
   "cell_type": "code",
   "execution_count": 55,
   "metadata": {},
   "outputs": [
    {
     "data": {
      "text/plain": [
       "orderID\n",
       "602051   170.00\n",
       "dtype: float64"
      ]
     },
     "execution_count": 55,
     "metadata": {},
     "output_type": "execute_result"
    }
   ],
   "source": [
    "agg_order = order_602051.groupby(\"orderID\").agg({\"total\": \"sum\", \"price\": \"mean\"})\n",
    "agg_order.price - agg_order.total # why?"
   ]
  },
  {
   "cell_type": "code",
   "execution_count": 56,
   "metadata": {},
   "outputs": [
    {
     "data": {
      "text/plain": [
       "290"
      ]
     },
     "execution_count": 56,
     "metadata": {},
     "output_type": "execute_result"
    }
   ],
   "source": [
    "sum(eda.discount < 0) # why?"
   ]
  },
  {
   "cell_type": "code",
   "execution_count": 57,
   "metadata": {},
   "outputs": [
    {
     "data": {
      "text/html": [
       "<div>\n",
       "<style>\n",
       "    .dataframe thead tr:only-child th {\n",
       "        text-align: right;\n",
       "    }\n",
       "\n",
       "    .dataframe thead th {\n",
       "        text-align: left;\n",
       "    }\n",
       "\n",
       "    .dataframe tbody tr th {\n",
       "        vertical-align: top;\n",
       "    }\n",
       "</style>\n",
       "<table border=\"1\" class=\"dataframe\">\n",
       "  <thead>\n",
       "    <tr style=\"text-align: right;\">\n",
       "      <th></th>\n",
       "      <th>DISCOUNT_VALUE</th>\n",
       "      <th>NAME</th>\n",
       "      <th>PRICE</th>\n",
       "      <th>QUANTITY</th>\n",
       "      <th>date_insert</th>\n",
       "      <th>discount</th>\n",
       "      <th>itemID</th>\n",
       "      <th>orderID</th>\n",
       "      <th>ordered_item_count</th>\n",
       "      <th>price</th>\n",
       "      <th>user_id</th>\n",
       "    </tr>\n",
       "  </thead>\n",
       "  <tbody>\n",
       "    <tr>\n",
       "      <th>555980</th>\n",
       "      <td>4.03%</td>\n",
       "      <td>Мой лучший друг - желудок : еда для умных людей</td>\n",
       "      <td>400.35</td>\n",
       "      <td>1</td>\n",
       "      <td>2017-09-25 20:09:52</td>\n",
       "      <td>237.60</td>\n",
       "      <td>1441562</td>\n",
       "      <td>724930</td>\n",
       "      <td>5</td>\n",
       "      <td>1346.40</td>\n",
       "      <td>969687</td>\n",
       "    </tr>\n",
       "    <tr>\n",
       "      <th>555981</th>\n",
       "      <td>22.9%</td>\n",
       "      <td>Замерзшие. 5 месяцев в снегах Гренландии</td>\n",
       "      <td>181.90</td>\n",
       "      <td>1</td>\n",
       "      <td>2017-09-25 20:09:52</td>\n",
       "      <td>237.60</td>\n",
       "      <td>665796</td>\n",
       "      <td>724930</td>\n",
       "      <td>5</td>\n",
       "      <td>1346.40</td>\n",
       "      <td>969687</td>\n",
       "    </tr>\n",
       "    <tr>\n",
       "      <th>555982</th>\n",
       "      <td>18.15%</td>\n",
       "      <td>Hygge. Рецепты уютной жизни по-скандинавски</td>\n",
       "      <td>266.90</td>\n",
       "      <td>1</td>\n",
       "      <td>2017-09-25 20:09:52</td>\n",
       "      <td>237.60</td>\n",
       "      <td>1603980</td>\n",
       "      <td>724930</td>\n",
       "      <td>5</td>\n",
       "      <td>1346.40</td>\n",
       "      <td>969687</td>\n",
       "    </tr>\n",
       "    <tr>\n",
       "      <th>555983</th>\n",
       "      <td>18.01%</td>\n",
       "      <td>Дрейф. Вдохновляющая история изобретателя, пот...</td>\n",
       "      <td>273.70</td>\n",
       "      <td>1</td>\n",
       "      <td>2017-09-25 20:09:52</td>\n",
       "      <td>237.60</td>\n",
       "      <td>219629</td>\n",
       "      <td>724930</td>\n",
       "      <td>5</td>\n",
       "      <td>1346.40</td>\n",
       "      <td>969687</td>\n",
       "    </tr>\n",
       "    <tr>\n",
       "      <th>555984</th>\n",
       "      <td>NaN</td>\n",
       "      <td>Куриный бульон для души: 101 история о чудесах</td>\n",
       "      <td>223.55</td>\n",
       "      <td>1</td>\n",
       "      <td>2017-09-25 20:09:52</td>\n",
       "      <td>237.60</td>\n",
       "      <td>1574300</td>\n",
       "      <td>724930</td>\n",
       "      <td>5</td>\n",
       "      <td>1346.40</td>\n",
       "      <td>969687</td>\n",
       "    </tr>\n",
       "  </tbody>\n",
       "</table>\n",
       "</div>"
      ],
      "text/plain": [
       "       DISCOUNT_VALUE                                               NAME  \\\n",
       "555980          4.03%    Мой лучший друг - желудок : еда для умных людей   \n",
       "555981          22.9%           Замерзшие. 5 месяцев в снегах Гренландии   \n",
       "555982         18.15%        Hygge. Рецепты уютной жизни по-скандинавски   \n",
       "555983         18.01%  Дрейф. Вдохновляющая история изобретателя, пот...   \n",
       "555984            NaN     Куриный бульон для души: 101 история о чудесах   \n",
       "\n",
       "        PRICE  QUANTITY          date_insert  discount   itemID  orderID  \\\n",
       "555980 400.35         1  2017-09-25 20:09:52    237.60  1441562   724930   \n",
       "555981 181.90         1  2017-09-25 20:09:52    237.60   665796   724930   \n",
       "555982 266.90         1  2017-09-25 20:09:52    237.60  1603980   724930   \n",
       "555983 273.70         1  2017-09-25 20:09:52    237.60   219629   724930   \n",
       "555984 223.55         1  2017-09-25 20:09:52    237.60  1574300   724930   \n",
       "\n",
       "        ordered_item_count   price  user_id  \n",
       "555980                   5 1346.40   969687  \n",
       "555981                   5 1346.40   969687  \n",
       "555982                   5 1346.40   969687  \n",
       "555983                   5 1346.40   969687  \n",
       "555984                   5 1346.40   969687  "
      ]
     },
     "execution_count": 57,
     "metadata": {},
     "output_type": "execute_result"
    }
   ],
   "source": [
    "eda[eda.orderID == 724930] # what?"
   ]
  },
  {
   "cell_type": "code",
   "execution_count": 58,
   "metadata": {},
   "outputs": [
    {
     "data": {
      "text/html": [
       "<div>\n",
       "<style>\n",
       "    .dataframe thead tr:only-child th {\n",
       "        text-align: right;\n",
       "    }\n",
       "\n",
       "    .dataframe thead th {\n",
       "        text-align: left;\n",
       "    }\n",
       "\n",
       "    .dataframe tbody tr th {\n",
       "        vertical-align: top;\n",
       "    }\n",
       "</style>\n",
       "<table border=\"1\" class=\"dataframe\">\n",
       "  <thead>\n",
       "    <tr style=\"text-align: right;\">\n",
       "      <th></th>\n",
       "      <th>DISCOUNT_VALUE</th>\n",
       "      <th>NAME</th>\n",
       "      <th>PRICE</th>\n",
       "      <th>QUANTITY</th>\n",
       "      <th>date_insert</th>\n",
       "      <th>discount</th>\n",
       "      <th>itemID</th>\n",
       "      <th>orderID</th>\n",
       "      <th>ordered_item_count</th>\n",
       "      <th>price</th>\n",
       "      <th>user_id</th>\n",
       "    </tr>\n",
       "  </thead>\n",
       "  <tbody>\n",
       "    <tr>\n",
       "      <th>556997</th>\n",
       "      <td>NaN</td>\n",
       "      <td>Негоже лилиям прясть</td>\n",
       "      <td>319.60</td>\n",
       "      <td>2</td>\n",
       "      <td>2017-09-30 12:35:45</td>\n",
       "      <td>401.85</td>\n",
       "      <td>1623401</td>\n",
       "      <td>729426</td>\n",
       "      <td>7</td>\n",
       "      <td>2916.35</td>\n",
       "      <td>216650</td>\n",
       "    </tr>\n",
       "    <tr>\n",
       "      <th>556998</th>\n",
       "      <td>NaN</td>\n",
       "      <td>Стихотворения. Поэмы</td>\n",
       "      <td>359.55</td>\n",
       "      <td>1</td>\n",
       "      <td>2017-09-30 12:35:45</td>\n",
       "      <td>401.85</td>\n",
       "      <td>1603446</td>\n",
       "      <td>729426</td>\n",
       "      <td>7</td>\n",
       "      <td>2916.35</td>\n",
       "      <td>216650</td>\n",
       "    </tr>\n",
       "    <tr>\n",
       "      <th>556999</th>\n",
       "      <td>NaN</td>\n",
       "      <td>Сравнительные жизнеописания</td>\n",
       "      <td>319.60</td>\n",
       "      <td>1</td>\n",
       "      <td>2017-09-30 12:35:45</td>\n",
       "      <td>401.85</td>\n",
       "      <td>1424444</td>\n",
       "      <td>729426</td>\n",
       "      <td>7</td>\n",
       "      <td>2916.35</td>\n",
       "      <td>216650</td>\n",
       "    </tr>\n",
       "    <tr>\n",
       "      <th>557000</th>\n",
       "      <td>13.03%</td>\n",
       "      <td>Узница Шато-Гайара</td>\n",
       "      <td>319.60</td>\n",
       "      <td>1</td>\n",
       "      <td>2017-09-30 12:35:45</td>\n",
       "      <td>401.85</td>\n",
       "      <td>1407019</td>\n",
       "      <td>729426</td>\n",
       "      <td>7</td>\n",
       "      <td>2916.35</td>\n",
       "      <td>216650</td>\n",
       "    </tr>\n",
       "    <tr>\n",
       "      <th>557001</th>\n",
       "      <td>13.03%</td>\n",
       "      <td>Яд и корона</td>\n",
       "      <td>319.60</td>\n",
       "      <td>1</td>\n",
       "      <td>2017-09-30 12:35:45</td>\n",
       "      <td>401.85</td>\n",
       "      <td>1574167</td>\n",
       "      <td>729426</td>\n",
       "      <td>7</td>\n",
       "      <td>2916.35</td>\n",
       "      <td>216650</td>\n",
       "    </tr>\n",
       "    <tr>\n",
       "      <th>557002</th>\n",
       "      <td>13.03%</td>\n",
       "      <td>Железный король</td>\n",
       "      <td>319.60</td>\n",
       "      <td>1</td>\n",
       "      <td>2017-09-30 12:35:45</td>\n",
       "      <td>401.85</td>\n",
       "      <td>728743</td>\n",
       "      <td>729426</td>\n",
       "      <td>7</td>\n",
       "      <td>2916.35</td>\n",
       "      <td>216650</td>\n",
       "    </tr>\n",
       "    <tr>\n",
       "      <th>557003</th>\n",
       "      <td>NaN</td>\n",
       "      <td>Французская волчица</td>\n",
       "      <td>319.60</td>\n",
       "      <td>2</td>\n",
       "      <td>2017-09-30 12:35:45</td>\n",
       "      <td>401.85</td>\n",
       "      <td>1645350</td>\n",
       "      <td>729426</td>\n",
       "      <td>7</td>\n",
       "      <td>2916.35</td>\n",
       "      <td>216650</td>\n",
       "    </tr>\n",
       "  </tbody>\n",
       "</table>\n",
       "</div>"
      ],
      "text/plain": [
       "       DISCOUNT_VALUE                         NAME  PRICE  QUANTITY  \\\n",
       "556997            NaN         Негоже лилиям прясть 319.60         2   \n",
       "556998            NaN         Стихотворения. Поэмы 359.55         1   \n",
       "556999            NaN  Сравнительные жизнеописания 319.60         1   \n",
       "557000         13.03%           Узница Шато-Гайара 319.60         1   \n",
       "557001         13.03%                  Яд и корона 319.60         1   \n",
       "557002         13.03%              Железный король 319.60         1   \n",
       "557003            NaN          Французская волчица 319.60         2   \n",
       "\n",
       "                date_insert  discount   itemID  orderID  ordered_item_count  \\\n",
       "556997  2017-09-30 12:35:45    401.85  1623401   729426                   7   \n",
       "556998  2017-09-30 12:35:45    401.85  1603446   729426                   7   \n",
       "556999  2017-09-30 12:35:45    401.85  1424444   729426                   7   \n",
       "557000  2017-09-30 12:35:45    401.85  1407019   729426                   7   \n",
       "557001  2017-09-30 12:35:45    401.85  1574167   729426                   7   \n",
       "557002  2017-09-30 12:35:45    401.85   728743   729426                   7   \n",
       "557003  2017-09-30 12:35:45    401.85  1645350   729426                   7   \n",
       "\n",
       "         price  user_id  \n",
       "556997 2916.35   216650  \n",
       "556998 2916.35   216650  \n",
       "556999 2916.35   216650  \n",
       "557000 2916.35   216650  \n",
       "557001 2916.35   216650  \n",
       "557002 2916.35   216650  \n",
       "557003 2916.35   216650  "
      ]
     },
     "execution_count": 58,
     "metadata": {},
     "output_type": "execute_result"
    }
   ],
   "source": [
    "eda[eda.orderID == 729426] # whaaat?"
   ]
  },
  {
   "cell_type": "markdown",
   "metadata": {},
   "source": [
    "# 2. Спланировать эксперимент \n",
    "\n",
    "Задача:\n",
    "* сегментация товаров + сегментация пользователей (по товарам, по поведению, скидкам и пр.)\n",
    "\n",
    "Дополнительнительные задачи (опционально, подумайте о них, могут появиться интересные идеи и находки):\n",
    "* поиск товаров-заменителей и товаров, дополняющих друг друга\n",
    "* поиск выбросов среди товаров\n",
    "* поиск выбросов среди заказов\n",
    "\n",
    "Эксперимент - составить план, по которому будет проделана исследовательская работа. Примерные пункты плана:\n",
    "* Составить первичный список признаков, необходимых для решения задачи\n",
    "* Сгенерировать список новых признаков, которые можно получить из данных\n",
    "* Применить понижение размерности для визуализации данных\n",
    "* Применить кластеризацию, визуализировать\n",
    "* Описание кластера\n",
    "* Любые другие пункты"
   ]
  },
  {
   "cell_type": "markdown",
   "metadata": {},
   "source": [
    "Two stages:\n",
    "1. Clusterize items  \n",
    "  a. Since there's not much information about items, we can use only PRICE and NAME from the original dataset; however, prices tend to change over time, so PRICE is irrelevant here   \n",
    "  b. NAME isn't very helpful as it is, we need to convert it to a bag of words OR some other vector representation  \n",
    "  c. Extract the most significant words with PCA \n",
    "  d. Compare different clustering algorithms\n",
    "2. Clusterize customers by the items they buy\n",
    "  a. Assign a most common cluster label from all customer's books to this customer.\n",
    "  b. Extract new features"
   ]
  },
  {
   "cell_type": "markdown",
   "metadata": {},
   "source": [
    "# 3. Выполнить подготовку данных для построения модели\n",
    "\n",
    "Выполнить необходимые преобразования данных"
   ]
  },
  {
   "cell_type": "markdown",
   "metadata": {},
   "source": [
    "### Part 1: items"
   ]
  },
  {
   "cell_type": "markdown",
   "metadata": {},
   "source": [
    "1. Get rid of weight, quotes, `&quot;` and everything that isn't a word\n",
    "2. Tokenize titles\n",
    "3. Stem tokens\n",
    "4. Prepare data points with different dimensions and nature: BoW, PCA(BoW), Word2vec, PCA(Word2vec)"
   ]
  },
  {
   "cell_type": "code",
   "execution_count": 59,
   "metadata": {
    "collapsed": true
   },
   "outputs": [],
   "source": [
    "def clean_names(data):\n",
    "    regex_words = re.compile(\"[\\W]+\")\n",
    "    regex_weight = re.compile(\" вес \\d+.*\")\n",
    "    regex_numbers = re.compile(\"[0-9]+\")\n",
    "\n",
    "    def clean(s):\n",
    "        s = s.lower()\n",
    "        s = html.unescape(s)\n",
    "        s = regex_words.sub(\" \", s, re.U).strip()\n",
    "        s = regex_weight.sub(\"\", s, re.U)\n",
    "        s = regex_numbers.sub(\"\", s, re.U)\n",
    "        s = regex_words.sub(\" \", s, re.U).strip()\n",
    "        return s\n",
    "    \n",
    "    return data.NAME.replace(np.nan, \"\").apply(clean)"
   ]
  },
  {
   "cell_type": "code",
   "execution_count": 60,
   "metadata": {
    "collapsed": true
   },
   "outputs": [],
   "source": [
    "def get_unique_clean_names(data):\n",
    "    return pd.DataFrame(data.clean_name.unique(), columns=[\"clean_name\"])"
   ]
  },
  {
   "cell_type": "code",
   "execution_count": 61,
   "metadata": {
    "collapsed": true
   },
   "outputs": [],
   "source": [
    "def get_tokenized_clean_names(sentences, lemmatize_words):\n",
    "    if lemmatize_words:\n",
    "        lemmatizer = Mystem()\n",
    "\n",
    "    def lemmatize(s):\n",
    "        return [x for x in lemmatizer.lemmatize(s) if x != \" \" and x != \"\\n\"]\n",
    "    \n",
    "    docs = []\n",
    "    word_count = Counter()\n",
    "    russian_stopwords = stopwords.words(\"russian\")\n",
    "    english_stopwords = stopwords.words(\"english\")\n",
    "    for s in sentences:\n",
    "        tokens = [x for x in lemmatize(s) if len(x) > 1] if lemmatize_words else s.split()\n",
    "        tokens = [x for x in tokens if x not in russian_stopwords and x not in english_stopwords]\n",
    "        docs.append(Counter(tokens))\n",
    "        for t in tokens:\n",
    "            word_count[t] += 1\n",
    "    \n",
    "    return (docs, word_count)"
   ]
  },
  {
   "cell_type": "code",
   "execution_count": 62,
   "metadata": {
    "collapsed": true
   },
   "outputs": [],
   "source": [
    "def get_top_n_words(docs, word_count, n):\n",
    "    top = dict(word_count.most_common(n))\n",
    "    return [{k: v for k, v in d.items() if k in top} for d in docs]"
   ]
  },
  {
   "cell_type": "markdown",
   "metadata": {},
   "source": [
    "We have forking paths here.  \n",
    "DBSCAN is fine with high-dimensional data (slow, but viable), but K-means becomes a memory hog as dimensions grow.  \n",
    "The one solution is to prepare two training datasets, one full and one processed with PCA."
   ]
  },
  {
   "cell_type": "code",
   "execution_count": 63,
   "metadata": {
    "collapsed": true
   },
   "outputs": [],
   "source": [
    "def get_bag_of_words(docs):\n",
    "    pipeline = Pipeline([\n",
    "        (\"vect\", DictVectorizer(sparse=False)),\n",
    "    ])\n",
    "    return pipeline.fit_transform(docs)"
   ]
  },
  {
   "cell_type": "markdown",
   "metadata": {},
   "source": [
    "And now for something completely different. Because why not. "
   ]
  },
  {
   "cell_type": "code",
   "execution_count": 64,
   "metadata": {
    "collapsed": true
   },
   "outputs": [],
   "source": [
    "def get_w2v_vecs(docs):\n",
    "    # https://nlpub.ru/Russian_Distributional_Thesaurus\n",
    "    w2v_fpath = \"tenth.norm-sz500-w7-cb0-it5-min5.w2v\"\n",
    "    w2v = gensim.models.KeyedVectors.load_word2vec_format(w2v_fpath, binary=True, unicode_errors='ignore')\n",
    "    w2v.init_sims(replace=True)  \n",
    "    vecs = []\n",
    "    for c in docs:\n",
    "        s, n = 0, 0\n",
    "        for w in c:\n",
    "            s += w2v.word_vec(w, use_norm=True) if w in w2v.vocab else np.zeros(500)\n",
    "            n += 1\n",
    "        if n < 1:\n",
    "            vecs.append(np.zeros(500))\n",
    "            continue\n",
    "        vecs.append(s / n)\n",
    "    del w2v # we'll need all this RAM later\n",
    "    return np.array(vecs).ravel().reshape(-1, 500)"
   ]
  },
  {
   "cell_type": "code",
   "execution_count": 65,
   "metadata": {
    "collapsed": true
   },
   "outputs": [],
   "source": [
    "def reduce_dims(points, n):\n",
    "    return PCA(n_components=n).fit_transform(points)"
   ]
  },
  {
   "cell_type": "markdown",
   "metadata": {},
   "source": [
    "### Part 2: users"
   ]
  },
  {
   "cell_type": "markdown",
   "metadata": {},
   "source": [
    "1. Restore NaN DISCOUNT_VALUE values\n",
    "2. Convert DISCOUNT_VALUE to float\n",
    "3. Group by user_id\n",
    "4. New feature — orders_count — a total number\n",
    "5. New feature — mean_rows_per_order — a mean number of types of books per customer's order\n",
    "6. New feature — mean_items_per_order — a mean number of books per customer's order\n",
    "7. New feature — total_items — a total number of books in all customer's orders\n",
    "8. New feature — mean_price_per_order — a mean price of customer's order\n",
    "9. New feature — total_price — a total price of all customer's orders\n",
    "10. New feature — mean_delta_per_order — a mean difference between true price and discounted price of an order\n",
    "11. New feature — total_delta — a total difference between true price and discounted price of all customer's orders\n",
    "12. New feature — mean_service_fee_per_order — a mean difference between a sum of prices of all items in an order and a price of an order\n",
    "13. New feature — total_service_fee — a total difference between a sum of prices of all items in customer's orders and a sum of prices of all customer's orders"
   ]
  },
  {
   "cell_type": "code",
   "execution_count": 66,
   "metadata": {
    "collapsed": true
   },
   "outputs": [],
   "source": [
    "# ugly and slow, but gets the job done\n",
    "def prepare_users_data(data):\n",
    "    orders = []\n",
    "    for g in data.groupby(\"user_id\"):\n",
    "        rows_per_order = {}\n",
    "        items_per_order = defaultdict(int)\n",
    "        full_price_per_order = defaultdict(float)\n",
    "        true_price_per_order = defaultdict(float)\n",
    "        delta_for_order = defaultdict(float)\n",
    "        price_per_order = {}\n",
    "        for r in g[1].iterrows():\n",
    "            row = r[1]\n",
    "            if row.orderID not in rows_per_order:\n",
    "                rows_per_order[row.orderID] = row.ordered_item_count\n",
    "            if row.orderID not in price_per_order:\n",
    "                price_per_order[row.orderID] = row.price\n",
    "                \n",
    "            items_per_order[row.orderID] += row.QUANTITY\n",
    "            full_price_per_order[row.orderID] += row.PRICE * row.QUANTITY\n",
    "            true_price_per_order[row.orderID] += row.true_price * row.QUANTITY\n",
    "            delta_for_order[row.orderID] += row.price_delta\n",
    "        \n",
    "        orders_count = len(rows_per_order)\n",
    "        mean_rows_per_order = sum(rows_per_order.values()) / orders_count\n",
    "        total_items = sum(items_per_order.values())\n",
    "        mean_items_per_order = total_items / orders_count\n",
    "        total_price = sum(full_price_per_order.values())\n",
    "        mean_price_per_order = total_price / orders_count\n",
    "        total_delta = sum(delta_for_order.values())\n",
    "        mean_delta_per_order = total_delta / orders_count\n",
    "        total_service_fee = sum([price_per_order[k] - full_price_per_order[k] for k in items_per_order]) \n",
    "        mean_service_fee_per_order = total_service_fee / orders_count\n",
    "                     \n",
    "        orders.append((g[0], orders_count, \n",
    "                       mean_rows_per_order, \n",
    "                       mean_items_per_order, total_items, \n",
    "                       mean_price_per_order, total_price, \n",
    "                       mean_delta_per_order, total_delta, \n",
    "                       mean_service_fee_per_order, total_service_fee))\n",
    "        \n",
    "    orders_df = pd.DataFrame(orders, columns=[\"user_id\", \n",
    "                                              \"orders_count\", \n",
    "                                              \"mean_rows_per_order\", \n",
    "                                              \"mean_items_per_order\", \"total_items\", \n",
    "                                              \"mean_price_per_order\", \"total_price\", \n",
    "                                              \"mean_delta_per_order\", \"total_delta\", \n",
    "                                              \"mean_service_fee_per_order\", \"total_service_fee\"])\n",
    "    orders_df = orders_df.set_index([\"user_id\"])\n",
    "    return orders_df"
   ]
  },
  {
   "cell_type": "code",
   "execution_count": 67,
   "metadata": {
    "collapsed": true
   },
   "outputs": [],
   "source": [
    "def prepare_data(data, clusters):\n",
    "    df = data.copy()\n",
    "    df[\"DISCOUNT_VALUE\"] = df.DISCOUNT_VALUE.fillna(\"100%\").apply(lambda x: float(x.strip(\"%\")) / 100)\n",
    "    df[\"true_price\"] = df.apply(lambda x: x.PRICE / (1 - x.DISCOUNT_VALUE + bool(x.DISCOUNT_VALUE == 1)), axis=1)\n",
    "    df[\"price_delta\"] = df.apply(lambda x: abs(x.PRICE * bool(x.DISCOUNT_VALUE != 1) - x.true_price), axis=1)\n",
    "    df = pd.merge(left=df, right=clusters, on=\"clean_name\")\n",
    "    users_data = prepare_users_data(df)\n",
    "    # using the most common cluster across all user's books\n",
    "    users_with_most_common_cluster = df.groupby([\"user_id\"]).agg({\"cluster\": lambda x: x.value_counts().index[0]})\n",
    "    combined = pd.merge(left=users_with_most_common_cluster, right=users_data, left_index=True, right_index=True)\n",
    "        \n",
    "    def get_num_cols(X):\n",
    "        return X[[\"orders_count\", \n",
    "                  \"mean_rows_per_order\", \n",
    "                  \"mean_items_per_order\", \n",
    "                  \"total_items\", \n",
    "                  \"mean_price_per_order\", \n",
    "                  \"total_price\", \n",
    "                  \"mean_delta_per_order\", \n",
    "                  \"total_delta\", \n",
    "                  \"mean_service_fee_per_order\", \n",
    "                  \"total_service_fee\"\n",
    "                 ]]\n",
    "    def get_cluster_col(X):\n",
    "        return X[[\"cluster\"]]\n",
    "    \n",
    "    pipeline = make_union(*[\n",
    "        make_pipeline(FunctionTransformer(get_num_cols, validate=False), StandardScaler()),\n",
    "        make_pipeline(FunctionTransformer(get_cluster_col, validate=False), OneHotEncoder(sparse=False))        \n",
    "    ])\n",
    "    return (combined, pipeline.fit_transform(combined))"
   ]
  },
  {
   "cell_type": "markdown",
   "metadata": {},
   "source": [
    "# 4. Провести построение модели "
   ]
  },
  {
   "cell_type": "code",
   "execution_count": 68,
   "metadata": {
    "collapsed": true
   },
   "outputs": [],
   "source": [
    "d = original.copy()"
   ]
  },
  {
   "cell_type": "code",
   "execution_count": 69,
   "metadata": {
    "collapsed": true
   },
   "outputs": [],
   "source": [
    "d[\"clean_name\"] = clean_names(d)"
   ]
  },
  {
   "cell_type": "code",
   "execution_count": 70,
   "metadata": {
    "collapsed": true
   },
   "outputs": [],
   "source": [
    "unique_names = get_unique_clean_names(d)"
   ]
  },
  {
   "cell_type": "code",
   "execution_count": 71,
   "metadata": {
    "collapsed": true
   },
   "outputs": [],
   "source": [
    "tokenized_names, tokenized_word_counts = get_tokenized_clean_names(unique_names.clean_name, False)"
   ]
  },
  {
   "cell_type": "code",
   "execution_count": 73,
   "metadata": {},
   "outputs": [],
   "source": [
    "if lemmatized_words_file.exists() and lemmatized_words_freqs_file.exists():\n",
    "    lemmatized_names = json.load(lemmatized_words_file.open(mode=\"r\", encoding=\"utf-8\"))\n",
    "    lemmatized_word_counts = json.load(lemmatized_words_freqs_file.open(mode=\"r\", encoding=\"utf-8\"))\n",
    "else:\n",
    "    lemmatized_names, lemmatized_word_counts = get_tokenized_clean_names(unique_names.clean_name, True)\n",
    "    json.dump(lemmatized_names, lemmatized_words_file.open(mode=\"w\", encoding=\"utf-8\"))\n",
    "    json.dump(lemmatized_word_counts, lemmatized_words_freqs_file.open(mode=\"w\", encoding=\"utf-8\"))"
   ]
  },
  {
   "cell_type": "code",
   "execution_count": 74,
   "metadata": {},
   "outputs": [],
   "source": [
    "top_500 = get_top_n_words(lemmatized_names, Counter(lemmatized_word_counts), 500)"
   ]
  },
  {
   "cell_type": "code",
   "execution_count": 75,
   "metadata": {
    "collapsed": true
   },
   "outputs": [],
   "source": [
    "bag_of_words = get_bag_of_words(top_500)\n",
    "reduced_bag_of_words = reduce_dims(bag_of_words, 0.75)"
   ]
  },
  {
   "cell_type": "code",
   "execution_count": 76,
   "metadata": {},
   "outputs": [
    {
     "data": {
      "text/plain": [
       "((42056, 500), (42056, 207))"
      ]
     },
     "execution_count": 76,
     "metadata": {},
     "output_type": "execute_result"
    }
   ],
   "source": [
    "bag_of_words.shape, reduced_bag_of_words.shape"
   ]
  },
  {
   "cell_type": "code",
   "execution_count": 77,
   "metadata": {
    "collapsed": true
   },
   "outputs": [],
   "source": [
    "w2v_points = get_w2v_vecs(tokenized_names)\n",
    "reduced_w2v_points = reduce_dims(w2v_points, 0.75)"
   ]
  },
  {
   "cell_type": "code",
   "execution_count": 78,
   "metadata": {},
   "outputs": [
    {
     "data": {
      "text/plain": [
       "((42056, 500), (42056, 193))"
      ]
     },
     "execution_count": 78,
     "metadata": {},
     "output_type": "execute_result"
    }
   ],
   "source": [
    "w2v_points.shape, reduced_w2v_points.shape"
   ]
  },
  {
   "cell_type": "code",
   "execution_count": 79,
   "metadata": {
    "collapsed": true
   },
   "outputs": [],
   "source": [
    "def mean_sorted_dist_for_n_neighbours(X, n):\n",
    "        tree = KDTree(X)\n",
    "        return sorted([tree.query([row], k=n+1)[0][0][1:].mean() for row in X])"
   ]
  },
  {
   "cell_type": "code",
   "execution_count": 80,
   "metadata": {
    "collapsed": true
   },
   "outputs": [],
   "source": [
    "def plot_elbow(points, title):\n",
    "    plt.figure(figsize=(20, 10))\n",
    "    plt.xlabel(\"sorted distances over all pairs\")\n",
    "    plt.ylabel('mean dist over n nearest neighbors')\n",
    "    \n",
    "    x = list(range(1, points.shape[0] + 1))\n",
    "    \n",
    "    for min_pts in list(range(1, 10)):\n",
    "        distances = mean_sorted_dist_for_n_neighbours(points, min_pts)\n",
    "        plt.plot(x, distances, label=\"min_pts = {}\".format(min_pts))\n",
    "        \n",
    "    plt.title(title)\n",
    "    plt.grid()\n",
    "    plt.legend()\n",
    "    plt.show()"
   ]
  },
  {
   "cell_type": "code",
   "execution_count": 81,
   "metadata": {
    "collapsed": true
   },
   "outputs": [],
   "source": [
    "def plot_kmeans_stats(data, n, title):\n",
    "    inertias = []\n",
    "    silhs = []\n",
    "    for n_clusters in range(3, n):        \n",
    "        kmeans = KMeans(random_state=0, max_iter=100, init='k-means++', n_clusters=n_clusters)\n",
    "        kmeans.fit(data)\n",
    "        clusters = kmeans.predict(data)\n",
    "        silhouette_avg = silhouette_score(data, clusters)\n",
    "        \n",
    "        print(\"For n_clusters =\", n_clusters, \n",
    "              \"The inertia_ is :\", kmeans.inertia_, \n",
    "              \"The average silhouette_score is :\", silhouette_avg)\n",
    "        \n",
    "        inertias.append(kmeans.inertia_)\n",
    "        silhs.append(silhouette_avg)\n",
    "    plt.title(title)\n",
    "    plt.plot(range(3, n), inertias)\n",
    "    plt.plot(range(3, n), silhs)"
   ]
  },
  {
   "cell_type": "code",
   "execution_count": 82,
   "metadata": {},
   "outputs": [
    {
     "name": "stdout",
     "output_type": "stream",
     "text": [
      "For n_clusters = 3 The inertia_ is : 61134.7323121 The average silhouette_score is : 0.27477964112\n",
      "For n_clusters = 4 The inertia_ is : 60476.4839841 The average silhouette_score is : 0.187076572652\n",
      "For n_clusters = 5 The inertia_ is : 59830.399707 The average silhouette_score is : 0.317726036501\n",
      "For n_clusters = 6 The inertia_ is : 58778.2627941 The average silhouette_score is : 0.237653134538\n",
      "For n_clusters = 7 The inertia_ is : 57572.2899933 The average silhouette_score is : 0.189156400659\n",
      "For n_clusters = 8 The inertia_ is : 57220.3468773 The average silhouette_score is : 0.277714874592\n",
      "For n_clusters = 9 The inertia_ is : 56770.5243895 The average silhouette_score is : 0.246818740043\n",
      "For n_clusters = 10 The inertia_ is : 56431.4246288 The average silhouette_score is : 0.255210041445\n",
      "For n_clusters = 11 The inertia_ is : 55340.70326 The average silhouette_score is : 0.204299510316\n",
      "For n_clusters = 12 The inertia_ is : 54662.5910117 The average silhouette_score is : 0.227701929088\n",
      "For n_clusters = 13 The inertia_ is : 54028.449231 The average silhouette_score is : 0.213470543392\n",
      "For n_clusters = 14 The inertia_ is : 53318.7924815 The average silhouette_score is : 0.217109590016\n",
      "For n_clusters = 15 The inertia_ is : 53195.0925407 The average silhouette_score is : 0.217870957112\n",
      "For n_clusters = 16 The inertia_ is : 52904.5818113 The average silhouette_score is : 0.23335198137\n",
      "For n_clusters = 17 The inertia_ is : 52588.3276708 The average silhouette_score is : 0.221718012571\n",
      "For n_clusters = 18 The inertia_ is : 52364.9299769 The average silhouette_score is : 0.22243852817\n",
      "For n_clusters = 19 The inertia_ is : 51321.3108941 The average silhouette_score is : 0.237050922761\n",
      "For n_clusters = 20 The inertia_ is : 51152.7546478 The average silhouette_score is : 0.239631037338\n"
     ]
    },
    {
     "data": {
      "image/png": "[encoded data removed]",
      "text/plain": [
       "<matplotlib.figure.Figure at 0x7981b32358>"
      ]
     },
     "metadata": {},
     "output_type": "display_data"
    }
   ],
   "source": [
    "plot_kmeans_stats(reduced_bag_of_words, 21, \"reduced_bag_of_words\")"
   ]
  },
  {
   "cell_type": "markdown",
   "metadata": {},
   "source": [
    "Silhouette isn't bad, but inertia is quite large."
   ]
  },
  {
   "cell_type": "code",
   "execution_count": 83,
   "metadata": {},
   "outputs": [
    {
     "name": "stdout",
     "output_type": "stream",
     "text": [
      "For n_clusters = 3 The inertia_ is : 9919.21849314 The average silhouette_score is : 0.0327319330024\n",
      "For n_clusters = 4 The inertia_ is : 9764.18526633 The average silhouette_score is : 0.0293834107764\n",
      "For n_clusters = 5 The inertia_ is : 9627.89791013 The average silhouette_score is : 0.0164184707284\n",
      "For n_clusters = 6 The inertia_ is : 9519.13129099 The average silhouette_score is : 0.018233597797\n",
      "For n_clusters = 7 The inertia_ is : 9417.0106333 The average silhouette_score is : 0.0211141169147\n",
      "For n_clusters = 8 The inertia_ is : 9324.50782339 The average silhouette_score is : 0.0194123798754\n",
      "For n_clusters = 9 The inertia_ is : 9240.97009844 The average silhouette_score is : 0.0151844110941\n",
      "For n_clusters = 10 The inertia_ is : 9162.35335813 The average silhouette_score is : 0.0159233105975\n",
      "For n_clusters = 11 The inertia_ is : 9096.40053612 The average silhouette_score is : 0.0151874697751\n",
      "For n_clusters = 12 The inertia_ is : 9027.31466867 The average silhouette_score is : 0.0129683919294\n",
      "For n_clusters = 13 The inertia_ is : 8968.82607211 The average silhouette_score is : 0.0131897511099\n",
      "For n_clusters = 14 The inertia_ is : 8907.77739976 The average silhouette_score is : 0.0140689003707\n",
      "For n_clusters = 15 The inertia_ is : 8860.49980804 The average silhouette_score is : 0.0150933217787\n",
      "For n_clusters = 16 The inertia_ is : 8818.28292871 The average silhouette_score is : 0.0147879251734\n",
      "For n_clusters = 17 The inertia_ is : 8775.1004917 The average silhouette_score is : 0.0128155352877\n",
      "For n_clusters = 18 The inertia_ is : 8733.18692987 The average silhouette_score is : 0.0154984734929\n",
      "For n_clusters = 19 The inertia_ is : 8695.91171378 The average silhouette_score is : 0.00810933112808\n",
      "For n_clusters = 20 The inertia_ is : 8653.116179 The average silhouette_score is : 0.0158475837547\n"
     ]
    },
    {
     "data": {
      "image/png": "[encoded data removed]",
      "text/plain": [
       "<matplotlib.figure.Figure at 0x7980839160>"
      ]
     },
     "metadata": {},
     "output_type": "display_data"
    }
   ],
   "source": [
    "plot_kmeans_stats(reduced_w2v_points, 21, \"reduced_w2v\")"
   ]
  },
  {
   "cell_type": "markdown",
   "metadata": {},
   "source": [
    "Looks like w2v points with reduced dimensions is a good trade-off. Alas, no \"elbows\" on either of plots.\n",
    "  \n",
    "Let's check if we can use DBSCAN."
   ]
  },
  {
   "cell_type": "code",
   "execution_count": 84,
   "metadata": {
    "scrolled": false
   },
   "outputs": [
    {
     "data": {
      "image/png": "[encoded data removed]",
      "text/plain": [
       "<matplotlib.figure.Figure at 0x79825aa2e8>"
      ]
     },
     "metadata": {},
     "output_type": "display_data"
    }
   ],
   "source": [
    "plot_elbow(reduced_bag_of_words, \"reduced_bag_of_words\")"
   ]
  },
  {
   "cell_type": "code",
   "execution_count": 85,
   "metadata": {},
   "outputs": [
    {
     "data": {
      "image/png": "[encoded data removed]",
      "text/plain": [
       "<matplotlib.figure.Figure at 0x79825df550>"
      ]
     },
     "metadata": {},
     "output_type": "display_data"
    }
   ],
   "source": [
    "plot_elbow(reduced_w2v_points, \"reduced_w2v\")"
   ]
  },
  {
   "cell_type": "markdown",
   "metadata": {},
   "source": [
    " W2v points yield funny plots with two (!) \"elbows\".\n",
    " \n",
    " Let's compare K-means and DBSCAN."
   ]
  },
  {
   "cell_type": "code",
   "execution_count": 86,
   "metadata": {},
   "outputs": [
    {
     "data": {
      "text/plain": [
       "Counter({0: 1523,\n",
       "         1: 1449,\n",
       "         2: 2615,\n",
       "         3: 2431,\n",
       "         4: 1228,\n",
       "         5: 1382,\n",
       "         6: 2262,\n",
       "         7: 3792,\n",
       "         8: 3499,\n",
       "         9: 1765,\n",
       "         10: 1552,\n",
       "         11: 3075,\n",
       "         12: 2457,\n",
       "         13: 1425,\n",
       "         14: 2112,\n",
       "         15: 2248,\n",
       "         16: 1572,\n",
       "         17: 2237,\n",
       "         18: 1333,\n",
       "         19: 2099})"
      ]
     },
     "execution_count": 86,
     "metadata": {},
     "output_type": "execute_result"
    }
   ],
   "source": [
    "km_clusters = KMeans(random_state=0, init=\"k-means++\",  n_clusters=20).fit_predict(reduced_w2v_points)\n",
    "Counter(km_clusters)"
   ]
  },
  {
   "cell_type": "code",
   "execution_count": 87,
   "metadata": {},
   "outputs": [
    {
     "data": {
      "text/plain": [
       "Counter({-1: 72, 0: 41971, 1: 7, 2: 6})"
      ]
     },
     "execution_count": 87,
     "metadata": {},
     "output_type": "execute_result"
    }
   ],
   "source": [
    "db_bow_clusters = DBSCAN(eps=2, min_samples=3, n_jobs=8).fit_predict(reduced_bag_of_words)\n",
    "Counter(db_bow_clusters)"
   ]
  },
  {
   "cell_type": "markdown",
   "metadata": {},
   "source": [
    "Too skewed."
   ]
  },
  {
   "cell_type": "code",
   "execution_count": 88,
   "metadata": {
    "scrolled": true
   },
   "outputs": [
    {
     "data": {
      "text/plain": [
       "Counter({-1: 34140,\n",
       "         0: 214,\n",
       "         1: 2521,\n",
       "         2: 3,\n",
       "         3: 5,\n",
       "         4: 4,\n",
       "         5: 3,\n",
       "         6: 42,\n",
       "         7: 5,\n",
       "         8: 14,\n",
       "         9: 4,\n",
       "         10: 31,\n",
       "         11: 3,\n",
       "         12: 4,\n",
       "         13: 5,\n",
       "         14: 5,\n",
       "         15: 3,\n",
       "         16: 3,\n",
       "         17: 5,\n",
       "         18: 4,\n",
       "         19: 3,\n",
       "         20: 5,\n",
       "         21: 3,\n",
       "         22: 6,\n",
       "         23: 11,\n",
       "         24: 3,\n",
       "         25: 4,\n",
       "         26: 13,\n",
       "         27: 4,\n",
       "         28: 8,\n",
       "         29: 4,\n",
       "         30: 19,\n",
       "         31: 7,\n",
       "         32: 7,\n",
       "         33: 4,\n",
       "         34: 5,\n",
       "         35: 5,\n",
       "         36: 7,\n",
       "         37: 205,\n",
       "         38: 3,\n",
       "         39: 26,\n",
       "         40: 5,\n",
       "         41: 25,\n",
       "         42: 70,\n",
       "         43: 10,\n",
       "         44: 4,\n",
       "         45: 446,\n",
       "         46: 5,\n",
       "         47: 3,\n",
       "         48: 7,\n",
       "         49: 8,\n",
       "         50: 35,\n",
       "         51: 3,\n",
       "         52: 8,\n",
       "         53: 3,\n",
       "         54: 3,\n",
       "         55: 3,\n",
       "         56: 3,\n",
       "         57: 6,\n",
       "         58: 26,\n",
       "         59: 14,\n",
       "         60: 4,\n",
       "         61: 7,\n",
       "         62: 7,\n",
       "         63: 7,\n",
       "         64: 10,\n",
       "         65: 4,\n",
       "         66: 12,\n",
       "         67: 5,\n",
       "         68: 3,\n",
       "         69: 5,\n",
       "         70: 7,\n",
       "         71: 6,\n",
       "         72: 8,\n",
       "         73: 5,\n",
       "         74: 18,\n",
       "         75: 32,\n",
       "         76: 4,\n",
       "         77: 3,\n",
       "         78: 3,\n",
       "         79: 35,\n",
       "         80: 5,\n",
       "         81: 7,\n",
       "         82: 4,\n",
       "         83: 51,\n",
       "         84: 5,\n",
       "         85: 17,\n",
       "         86: 9,\n",
       "         87: 20,\n",
       "         88: 3,\n",
       "         89: 9,\n",
       "         90: 12,\n",
       "         91: 5,\n",
       "         92: 3,\n",
       "         93: 19,\n",
       "         94: 3,\n",
       "         95: 16,\n",
       "         96: 10,\n",
       "         97: 20,\n",
       "         98: 10,\n",
       "         99: 35,\n",
       "         100: 5,\n",
       "         101: 5,\n",
       "         102: 5,\n",
       "         103: 3,\n",
       "         104: 8,\n",
       "         105: 4,\n",
       "         106: 17,\n",
       "         107: 6,\n",
       "         108: 3,\n",
       "         109: 4,\n",
       "         110: 4,\n",
       "         111: 3,\n",
       "         112: 4,\n",
       "         113: 3,\n",
       "         114: 3,\n",
       "         115: 4,\n",
       "         116: 4,\n",
       "         117: 6,\n",
       "         118: 11,\n",
       "         119: 17,\n",
       "         120: 6,\n",
       "         121: 3,\n",
       "         122: 8,\n",
       "         123: 4,\n",
       "         124: 3,\n",
       "         125: 3,\n",
       "         126: 4,\n",
       "         127: 4,\n",
       "         128: 3,\n",
       "         129: 6,\n",
       "         130: 9,\n",
       "         131: 19,\n",
       "         132: 4,\n",
       "         133: 23,\n",
       "         134: 9,\n",
       "         135: 11,\n",
       "         136: 3,\n",
       "         137: 11,\n",
       "         138: 15,\n",
       "         139: 3,\n",
       "         140: 11,\n",
       "         141: 33,\n",
       "         142: 20,\n",
       "         143: 4,\n",
       "         144: 4,\n",
       "         145: 7,\n",
       "         146: 17,\n",
       "         147: 6,\n",
       "         148: 8,\n",
       "         149: 4,\n",
       "         150: 6,\n",
       "         151: 7,\n",
       "         152: 6,\n",
       "         153: 8,\n",
       "         154: 4,\n",
       "         155: 3,\n",
       "         156: 5,\n",
       "         157: 26,\n",
       "         158: 3,\n",
       "         159: 6,\n",
       "         160: 4,\n",
       "         161: 3,\n",
       "         162: 3,\n",
       "         163: 4,\n",
       "         164: 3,\n",
       "         165: 5,\n",
       "         166: 4,\n",
       "         167: 5,\n",
       "         168: 7,\n",
       "         169: 7,\n",
       "         170: 4,\n",
       "         171: 6,\n",
       "         172: 5,\n",
       "         173: 4,\n",
       "         174: 9,\n",
       "         175: 9,\n",
       "         176: 8,\n",
       "         177: 8,\n",
       "         178: 8,\n",
       "         179: 3,\n",
       "         180: 12,\n",
       "         181: 5,\n",
       "         182: 6,\n",
       "         183: 3,\n",
       "         184: 3,\n",
       "         185: 12,\n",
       "         186: 5,\n",
       "         187: 5,\n",
       "         188: 3,\n",
       "         189: 8,\n",
       "         190: 9,\n",
       "         191: 3,\n",
       "         192: 3,\n",
       "         193: 5,\n",
       "         194: 3,\n",
       "         195: 8,\n",
       "         196: 31,\n",
       "         197: 4,\n",
       "         198: 3,\n",
       "         199: 3,\n",
       "         200: 3,\n",
       "         201: 7,\n",
       "         202: 3,\n",
       "         203: 4,\n",
       "         204: 3,\n",
       "         205: 3,\n",
       "         206: 7,\n",
       "         207: 55,\n",
       "         208: 4,\n",
       "         209: 17,\n",
       "         210: 4,\n",
       "         211: 8,\n",
       "         212: 4,\n",
       "         213: 11,\n",
       "         214: 3,\n",
       "         215: 8,\n",
       "         216: 5,\n",
       "         217: 5,\n",
       "         218: 9,\n",
       "         219: 3,\n",
       "         220: 5,\n",
       "         221: 3,\n",
       "         222: 6,\n",
       "         223: 4,\n",
       "         224: 3,\n",
       "         225: 3,\n",
       "         226: 6,\n",
       "         227: 4,\n",
       "         228: 3,\n",
       "         229: 4,\n",
       "         230: 11,\n",
       "         231: 5,\n",
       "         232: 3,\n",
       "         233: 4,\n",
       "         234: 4,\n",
       "         235: 8,\n",
       "         236: 3,\n",
       "         237: 8,\n",
       "         238: 5,\n",
       "         239: 10,\n",
       "         240: 7,\n",
       "         241: 3,\n",
       "         242: 3,\n",
       "         243: 5,\n",
       "         244: 3,\n",
       "         245: 8,\n",
       "         246: 3,\n",
       "         247: 11,\n",
       "         248: 3,\n",
       "         249: 3,\n",
       "         250: 5,\n",
       "         251: 20,\n",
       "         252: 8,\n",
       "         253: 6,\n",
       "         254: 4,\n",
       "         255: 3,\n",
       "         256: 5,\n",
       "         257: 5,\n",
       "         258: 7,\n",
       "         259: 4,\n",
       "         260: 3,\n",
       "         261: 4,\n",
       "         262: 4,\n",
       "         263: 4,\n",
       "         264: 5,\n",
       "         265: 4,\n",
       "         266: 3,\n",
       "         267: 3,\n",
       "         268: 3,\n",
       "         269: 3,\n",
       "         270: 4,\n",
       "         271: 5,\n",
       "         272: 7,\n",
       "         273: 6,\n",
       "         274: 3,\n",
       "         275: 3,\n",
       "         276: 3,\n",
       "         277: 6,\n",
       "         278: 3,\n",
       "         279: 6,\n",
       "         280: 7,\n",
       "         281: 3,\n",
       "         282: 3,\n",
       "         283: 9,\n",
       "         284: 4,\n",
       "         285: 7,\n",
       "         286: 6,\n",
       "         287: 3,\n",
       "         288: 4,\n",
       "         289: 3,\n",
       "         290: 3,\n",
       "         291: 3,\n",
       "         292: 3,\n",
       "         293: 3,\n",
       "         294: 3,\n",
       "         295: 10,\n",
       "         296: 12,\n",
       "         297: 8,\n",
       "         298: 16,\n",
       "         299: 8,\n",
       "         300: 9,\n",
       "         301: 3,\n",
       "         302: 3,\n",
       "         303: 4,\n",
       "         304: 6,\n",
       "         305: 17,\n",
       "         306: 8,\n",
       "         307: 3,\n",
       "         308: 3,\n",
       "         309: 7,\n",
       "         310: 4,\n",
       "         311: 15,\n",
       "         312: 5,\n",
       "         313: 4,\n",
       "         314: 3,\n",
       "         315: 4,\n",
       "         316: 6,\n",
       "         317: 4,\n",
       "         318: 3,\n",
       "         319: 9,\n",
       "         320: 3,\n",
       "         321: 3,\n",
       "         322: 3,\n",
       "         323: 20,\n",
       "         324: 3,\n",
       "         325: 4,\n",
       "         326: 13,\n",
       "         327: 4,\n",
       "         328: 4,\n",
       "         329: 3,\n",
       "         330: 5,\n",
       "         331: 7,\n",
       "         332: 3,\n",
       "         333: 3,\n",
       "         334: 3,\n",
       "         335: 4,\n",
       "         336: 6,\n",
       "         337: 3,\n",
       "         338: 4,\n",
       "         339: 3,\n",
       "         340: 9,\n",
       "         341: 3,\n",
       "         342: 8,\n",
       "         343: 3,\n",
       "         344: 6,\n",
       "         345: 3,\n",
       "         346: 3,\n",
       "         347: 3,\n",
       "         348: 3,\n",
       "         349: 8,\n",
       "         350: 3,\n",
       "         351: 4,\n",
       "         352: 9,\n",
       "         353: 5,\n",
       "         354: 3,\n",
       "         355: 3,\n",
       "         356: 5,\n",
       "         357: 3,\n",
       "         358: 3,\n",
       "         359: 5,\n",
       "         360: 7,\n",
       "         361: 4,\n",
       "         362: 3,\n",
       "         363: 3,\n",
       "         364: 4,\n",
       "         365: 3,\n",
       "         366: 5,\n",
       "         367: 3,\n",
       "         368: 3,\n",
       "         369: 3,\n",
       "         370: 3,\n",
       "         371: 40,\n",
       "         372: 3,\n",
       "         373: 6,\n",
       "         374: 3,\n",
       "         375: 3,\n",
       "         376: 3,\n",
       "         377: 3,\n",
       "         378: 3,\n",
       "         379: 3,\n",
       "         380: 34,\n",
       "         381: 3,\n",
       "         382: 3,\n",
       "         383: 3,\n",
       "         384: 4,\n",
       "         385: 3,\n",
       "         386: 3,\n",
       "         387: 3,\n",
       "         388: 6,\n",
       "         389: 3,\n",
       "         390: 5,\n",
       "         391: 4,\n",
       "         392: 3,\n",
       "         393: 5,\n",
       "         394: 6,\n",
       "         395: 3,\n",
       "         396: 3,\n",
       "         397: 3,\n",
       "         398: 3,\n",
       "         399: 7,\n",
       "         400: 10,\n",
       "         401: 3,\n",
       "         402: 4,\n",
       "         403: 4,\n",
       "         404: 4,\n",
       "         405: 9,\n",
       "         406: 3,\n",
       "         407: 6,\n",
       "         408: 4,\n",
       "         409: 5,\n",
       "         410: 5,\n",
       "         411: 3,\n",
       "         412: 6,\n",
       "         413: 3,\n",
       "         414: 3,\n",
       "         415: 3,\n",
       "         416: 4,\n",
       "         417: 3,\n",
       "         418: 3,\n",
       "         419: 3,\n",
       "         420: 3,\n",
       "         421: 10,\n",
       "         422: 3,\n",
       "         423: 30,\n",
       "         424: 4,\n",
       "         425: 3,\n",
       "         426: 4,\n",
       "         427: 3,\n",
       "         428: 3,\n",
       "         429: 9,\n",
       "         430: 3,\n",
       "         431: 3,\n",
       "         432: 7,\n",
       "         433: 3,\n",
       "         434: 9,\n",
       "         435: 6,\n",
       "         436: 3,\n",
       "         437: 3,\n",
       "         438: 4,\n",
       "         439: 9,\n",
       "         440: 10,\n",
       "         441: 3,\n",
       "         442: 3,\n",
       "         443: 5,\n",
       "         444: 3,\n",
       "         445: 5,\n",
       "         446: 3,\n",
       "         447: 3,\n",
       "         448: 4,\n",
       "         449: 3,\n",
       "         450: 4,\n",
       "         451: 3,\n",
       "         452: 3,\n",
       "         453: 3,\n",
       "         454: 9,\n",
       "         455: 3,\n",
       "         456: 3,\n",
       "         457: 6,\n",
       "         458: 3,\n",
       "         459: 4,\n",
       "         460: 5,\n",
       "         461: 3,\n",
       "         462: 15,\n",
       "         463: 5,\n",
       "         464: 3,\n",
       "         465: 4,\n",
       "         466: 3,\n",
       "         467: 3,\n",
       "         468: 6,\n",
       "         469: 3,\n",
       "         470: 4,\n",
       "         471: 3,\n",
       "         472: 6,\n",
       "         473: 3,\n",
       "         474: 3,\n",
       "         475: 4,\n",
       "         476: 4,\n",
       "         477: 3,\n",
       "         478: 3,\n",
       "         479: 4,\n",
       "         480: 3,\n",
       "         481: 3,\n",
       "         482: 4,\n",
       "         483: 3,\n",
       "         484: 3,\n",
       "         485: 3,\n",
       "         486: 3,\n",
       "         487: 3,\n",
       "         488: 5,\n",
       "         489: 3,\n",
       "         490: 3,\n",
       "         491: 10,\n",
       "         492: 3,\n",
       "         493: 3,\n",
       "         494: 3,\n",
       "         495: 3,\n",
       "         496: 5,\n",
       "         497: 3,\n",
       "         498: 4,\n",
       "         499: 3,\n",
       "         500: 4,\n",
       "         501: 3,\n",
       "         502: 3,\n",
       "         503: 8,\n",
       "         504: 3,\n",
       "         505: 4,\n",
       "         506: 3,\n",
       "         507: 3,\n",
       "         508: 4,\n",
       "         509: 3,\n",
       "         510: 4,\n",
       "         511: 3,\n",
       "         512: 3,\n",
       "         513: 4,\n",
       "         514: 4,\n",
       "         515: 10,\n",
       "         516: 5,\n",
       "         517: 4,\n",
       "         518: 3,\n",
       "         519: 5,\n",
       "         520: 5,\n",
       "         521: 10,\n",
       "         522: 6,\n",
       "         523: 3,\n",
       "         524: 6,\n",
       "         525: 3,\n",
       "         526: 3,\n",
       "         527: 5,\n",
       "         528: 3,\n",
       "         529: 5,\n",
       "         530: 3,\n",
       "         531: 10,\n",
       "         532: 10,\n",
       "         533: 3,\n",
       "         534: 4,\n",
       "         535: 4,\n",
       "         536: 3,\n",
       "         537: 3,\n",
       "         538: 4,\n",
       "         539: 3,\n",
       "         540: 4,\n",
       "         541: 3,\n",
       "         542: 3,\n",
       "         543: 11,\n",
       "         544: 3,\n",
       "         545: 3,\n",
       "         546: 5,\n",
       "         547: 3,\n",
       "         548: 3,\n",
       "         549: 3,\n",
       "         550: 6,\n",
       "         551: 3,\n",
       "         552: 3,\n",
       "         553: 3,\n",
       "         554: 6,\n",
       "         555: 3,\n",
       "         556: 7,\n",
       "         557: 4,\n",
       "         558: 3,\n",
       "         559: 4,\n",
       "         560: 5,\n",
       "         561: 6,\n",
       "         562: 4,\n",
       "         563: 3,\n",
       "         564: 5,\n",
       "         565: 3,\n",
       "         566: 4,\n",
       "         567: 4,\n",
       "         568: 4,\n",
       "         569: 3,\n",
       "         570: 3,\n",
       "         571: 6,\n",
       "         572: 4,\n",
       "         573: 3,\n",
       "         574: 10,\n",
       "         575: 5,\n",
       "         576: 4,\n",
       "         577: 3,\n",
       "         578: 12,\n",
       "         579: 3,\n",
       "         580: 3,\n",
       "         581: 5,\n",
       "         582: 4,\n",
       "         583: 3,\n",
       "         584: 3,\n",
       "         585: 9,\n",
       "         586: 3,\n",
       "         587: 3,\n",
       "         588: 3,\n",
       "         589: 6,\n",
       "         590: 4,\n",
       "         591: 3,\n",
       "         592: 5,\n",
       "         593: 5,\n",
       "         594: 3,\n",
       "         595: 3,\n",
       "         596: 5,\n",
       "         597: 3,\n",
       "         598: 3,\n",
       "         599: 4,\n",
       "         600: 3,\n",
       "         601: 4,\n",
       "         602: 4,\n",
       "         603: 4,\n",
       "         604: 3,\n",
       "         605: 4,\n",
       "         606: 4,\n",
       "         607: 4,\n",
       "         608: 3,\n",
       "         609: 4,\n",
       "         610: 4,\n",
       "         611: 5,\n",
       "         612: 3,\n",
       "         613: 3,\n",
       "         614: 7,\n",
       "         615: 3,\n",
       "         616: 3,\n",
       "         617: 3,\n",
       "         618: 3,\n",
       "         619: 4,\n",
       "         620: 3,\n",
       "         621: 3,\n",
       "         622: 3,\n",
       "         623: 3,\n",
       "         624: 8,\n",
       "         625: 3,\n",
       "         626: 5,\n",
       "         627: 3,\n",
       "         628: 4,\n",
       "         629: 6,\n",
       "         630: 4,\n",
       "         631: 3,\n",
       "         632: 17,\n",
       "         633: 6,\n",
       "         634: 3,\n",
       "         635: 4,\n",
       "         636: 3,\n",
       "         637: 3,\n",
       "         638: 3,\n",
       "         639: 3,\n",
       "         640: 3,\n",
       "         641: 4,\n",
       "         642: 4,\n",
       "         643: 4,\n",
       "         644: 3,\n",
       "         645: 4,\n",
       "         646: 3,\n",
       "         647: 3,\n",
       "         648: 3,\n",
       "         649: 3,\n",
       "         650: 5,\n",
       "         651: 4,\n",
       "         652: 3,\n",
       "         653: 3,\n",
       "         654: 5,\n",
       "         655: 3,\n",
       "         656: 4,\n",
       "         657: 4,\n",
       "         658: 3,\n",
       "         659: 3,\n",
       "         660: 4,\n",
       "         661: 7,\n",
       "         662: 3,\n",
       "         663: 4,\n",
       "         664: 3,\n",
       "         665: 3,\n",
       "         666: 5,\n",
       "         667: 3,\n",
       "         668: 5,\n",
       "         669: 4,\n",
       "         670: 3,\n",
       "         671: 5,\n",
       "         672: 3,\n",
       "         673: 3,\n",
       "         674: 3,\n",
       "         675: 3,\n",
       "         676: 9,\n",
       "         677: 4,\n",
       "         678: 3,\n",
       "         679: 3,\n",
       "         680: 4,\n",
       "         681: 3,\n",
       "         682: 4,\n",
       "         683: 5,\n",
       "         684: 3,\n",
       "         685: 3,\n",
       "         686: 4,\n",
       "         687: 3,\n",
       "         688: 3,\n",
       "         689: 4,\n",
       "         690: 3,\n",
       "         691: 4,\n",
       "         692: 3,\n",
       "         693: 3,\n",
       "         694: 5,\n",
       "         695: 8,\n",
       "         696: 4,\n",
       "         697: 3,\n",
       "         698: 4,\n",
       "         699: 3,\n",
       "         700: 3,\n",
       "         701: 5,\n",
       "         702: 8,\n",
       "         703: 3,\n",
       "         704: 3,\n",
       "         705: 4,\n",
       "         706: 6,\n",
       "         707: 3,\n",
       "         708: 3,\n",
       "         709: 3,\n",
       "         710: 5,\n",
       "         711: 7,\n",
       "         712: 3,\n",
       "         713: 3,\n",
       "         714: 3,\n",
       "         715: 3,\n",
       "         716: 4,\n",
       "         717: 3,\n",
       "         718: 3,\n",
       "         719: 10,\n",
       "         720: 3,\n",
       "         721: 3,\n",
       "         722: 6,\n",
       "         723: 3,\n",
       "         724: 3,\n",
       "         725: 3,\n",
       "         726: 3,\n",
       "         727: 3,\n",
       "         728: 5,\n",
       "         729: 3,\n",
       "         730: 3,\n",
       "         731: 3,\n",
       "         732: 4,\n",
       "         733: 5,\n",
       "         734: 3,\n",
       "         735: 6,\n",
       "         736: 4,\n",
       "         737: 3,\n",
       "         738: 3,\n",
       "         739: 3,\n",
       "         740: 5,\n",
       "         741: 4,\n",
       "         742: 3,\n",
       "         743: 3,\n",
       "         744: 3,\n",
       "         745: 3,\n",
       "         746: 3,\n",
       "         747: 3,\n",
       "         748: 3,\n",
       "         749: 3,\n",
       "         750: 3,\n",
       "         751: 3,\n",
       "         752: 3,\n",
       "         753: 3,\n",
       "         754: 3,\n",
       "         755: 3,\n",
       "         756: 3,\n",
       "         757: 3,\n",
       "         758: 3,\n",
       "         759: 5,\n",
       "         760: 3,\n",
       "         761: 4,\n",
       "         762: 4,\n",
       "         763: 3,\n",
       "         764: 5,\n",
       "         765: 3,\n",
       "         766: 3,\n",
       "         767: 3,\n",
       "         768: 3,\n",
       "         769: 3,\n",
       "         770: 3,\n",
       "         771: 3,\n",
       "         772: 3,\n",
       "         773: 3,\n",
       "         774: 3,\n",
       "         775: 3,\n",
       "         776: 3,\n",
       "         777: 3,\n",
       "         778: 4,\n",
       "         779: 6,\n",
       "         780: 3,\n",
       "         781: 3,\n",
       "         782: 3,\n",
       "         783: 3,\n",
       "         784: 3,\n",
       "         785: 3,\n",
       "         786: 3,\n",
       "         787: 3,\n",
       "         788: 3,\n",
       "         789: 6,\n",
       "         790: 3,\n",
       "         791: 3,\n",
       "         792: 3,\n",
       "         793: 3,\n",
       "         794: 3,\n",
       "         795: 7,\n",
       "         796: 3,\n",
       "         797: 3,\n",
       "         798: 3,\n",
       "         799: 4,\n",
       "         800: 6,\n",
       "         801: 4,\n",
       "         802: 3,\n",
       "         803: 4,\n",
       "         804: 3,\n",
       "         805: 3,\n",
       "         806: 3,\n",
       "         807: 3,\n",
       "         808: 3,\n",
       "         809: 4,\n",
       "         810: 3,\n",
       "         811: 3,\n",
       "         812: 3,\n",
       "         813: 3,\n",
       "         814: 5,\n",
       "         815: 3,\n",
       "         816: 3,\n",
       "         817: 4,\n",
       "         818: 3,\n",
       "         819: 3,\n",
       "         820: 3,\n",
       "         821: 6,\n",
       "         822: 3,\n",
       "         823: 3,\n",
       "         824: 3,\n",
       "         825: 3,\n",
       "         826: 3,\n",
       "         827: 3,\n",
       "         828: 3})"
      ]
     },
     "execution_count": 88,
     "metadata": {},
     "output_type": "execute_result"
    }
   ],
   "source": [
    "db_w2v_clusters = DBSCAN(eps=0.25, min_samples=3, n_jobs=-1).fit_predict(reduced_w2v_points)\n",
    "Counter(db_w2v_clusters)"
   ]
  },
  {
   "cell_type": "markdown",
   "metadata": {},
   "source": [
    "Very much noise, let's try second \"elbow\"."
   ]
  },
  {
   "cell_type": "code",
   "execution_count": 89,
   "metadata": {},
   "outputs": [
    {
     "data": {
      "text/plain": [
       "Counter({-1: 68, 0: 41988})"
      ]
     },
     "execution_count": 89,
     "metadata": {},
     "output_type": "execute_result"
    }
   ],
   "source": [
    "db_w2v_clusters = DBSCAN(eps=0.7, min_samples=3, n_jobs=-1).fit_predict(reduced_w2v_points)\n",
    "Counter(db_w2v_clusters)"
   ]
  },
  {
   "cell_type": "markdown",
   "metadata": {},
   "source": [
    "Too skewed.\n",
    "\n",
    "K-means on reduced w2v points it is, then."
   ]
  },
  {
   "cell_type": "code",
   "execution_count": 90,
   "metadata": {
    "collapsed": true
   },
   "outputs": [],
   "source": [
    "unique_names[\"cluster\"] = km_clusters"
   ]
  },
  {
   "cell_type": "markdown",
   "metadata": {},
   "source": [
    "Let's take a look at clusters."
   ]
  },
  {
   "cell_type": "code",
   "execution_count": 91,
   "metadata": {},
   "outputs": [
    {
     "data": {
      "text/html": [
       "<div>\n",
       "<style>\n",
       "    .dataframe thead tr:only-child th {\n",
       "        text-align: right;\n",
       "    }\n",
       "\n",
       "    .dataframe thead th {\n",
       "        text-align: left;\n",
       "    }\n",
       "\n",
       "    .dataframe tbody tr th {\n",
       "        vertical-align: top;\n",
       "    }\n",
       "</style>\n",
       "<table border=\"1\" class=\"dataframe\">\n",
       "  <thead>\n",
       "    <tr style=\"text-align: right;\">\n",
       "      <th></th>\n",
       "      <th>clean_name</th>\n",
       "      <th>cluster</th>\n",
       "    </tr>\n",
       "  </thead>\n",
       "  <tbody>\n",
       "    <tr>\n",
       "      <th>53</th>\n",
       "      <td>ареал один в поле не воин</td>\n",
       "      <td>0</td>\n",
       "    </tr>\n",
       "    <tr>\n",
       "      <th>59</th>\n",
       "      <td>ньютон и фальшивомонетчик как величайший учены...</td>\n",
       "      <td>0</td>\n",
       "    </tr>\n",
       "    <tr>\n",
       "      <th>66</th>\n",
       "      <td>очаровательный кишечник как самый могущественн...</td>\n",
       "      <td>0</td>\n",
       "    </tr>\n",
       "    <tr>\n",
       "      <th>83</th>\n",
       "      <td>финансист</td>\n",
       "      <td>0</td>\n",
       "    </tr>\n",
       "    <tr>\n",
       "      <th>85</th>\n",
       "      <td>стоик</td>\n",
       "      <td>0</td>\n",
       "    </tr>\n",
       "  </tbody>\n",
       "</table>\n",
       "</div>"
      ],
      "text/plain": [
       "                                           clean_name  cluster\n",
       "53                          ареал один в поле не воин        0\n",
       "59  ньютон и фальшивомонетчик как величайший учены...        0\n",
       "66  очаровательный кишечник как самый могущественн...        0\n",
       "83                                          финансист        0\n",
       "85                                              стоик        0"
      ]
     },
     "execution_count": 91,
     "metadata": {},
     "output_type": "execute_result"
    }
   ],
   "source": [
    "unique_names[unique_names.cluster == 0].head()"
   ]
  },
  {
   "cell_type": "code",
   "execution_count": 92,
   "metadata": {},
   "outputs": [
    {
     "data": {
      "text/html": [
       "<div>\n",
       "<style>\n",
       "    .dataframe thead tr:only-child th {\n",
       "        text-align: right;\n",
       "    }\n",
       "\n",
       "    .dataframe thead th {\n",
       "        text-align: left;\n",
       "    }\n",
       "\n",
       "    .dataframe tbody tr th {\n",
       "        vertical-align: top;\n",
       "    }\n",
       "</style>\n",
       "<table border=\"1\" class=\"dataframe\">\n",
       "  <thead>\n",
       "    <tr style=\"text-align: right;\">\n",
       "      <th></th>\n",
       "      <th>clean_name</th>\n",
       "      <th>cluster</th>\n",
       "    </tr>\n",
       "  </thead>\n",
       "  <tbody>\n",
       "    <tr>\n",
       "      <th>13</th>\n",
       "      <td>варкрафт узы братства</td>\n",
       "      <td>2</td>\n",
       "    </tr>\n",
       "    <tr>\n",
       "      <th>18</th>\n",
       "      <td>бремя страстей человеческих</td>\n",
       "      <td>2</td>\n",
       "    </tr>\n",
       "    <tr>\n",
       "      <th>26</th>\n",
       "      <td>кошмарная практика для кошмарной ведьмы</td>\n",
       "      <td>2</td>\n",
       "    </tr>\n",
       "    <tr>\n",
       "      <th>80</th>\n",
       "      <td>толкование сновидений</td>\n",
       "      <td>2</td>\n",
       "    </tr>\n",
       "    <tr>\n",
       "      <th>126</th>\n",
       "      <td>круг женской силы энергии стихий и тайны оболь...</td>\n",
       "      <td>2</td>\n",
       "    </tr>\n",
       "  </tbody>\n",
       "</table>\n",
       "</div>"
      ],
      "text/plain": [
       "                                            clean_name  cluster\n",
       "13                               варкрафт узы братства        2\n",
       "18                         бремя страстей человеческих        2\n",
       "26             кошмарная практика для кошмарной ведьмы        2\n",
       "80                               толкование сновидений        2\n",
       "126  круг женской силы энергии стихий и тайны оболь...        2"
      ]
     },
     "execution_count": 92,
     "metadata": {},
     "output_type": "execute_result"
    }
   ],
   "source": [
    "unique_names[unique_names.cluster == 2].head()"
   ]
  },
  {
   "cell_type": "code",
   "execution_count": 93,
   "metadata": {},
   "outputs": [
    {
     "data": {
      "text/html": [
       "<div>\n",
       "<style>\n",
       "    .dataframe thead tr:only-child th {\n",
       "        text-align: right;\n",
       "    }\n",
       "\n",
       "    .dataframe thead th {\n",
       "        text-align: left;\n",
       "    }\n",
       "\n",
       "    .dataframe tbody tr th {\n",
       "        vertical-align: top;\n",
       "    }\n",
       "</style>\n",
       "<table border=\"1\" class=\"dataframe\">\n",
       "  <thead>\n",
       "    <tr style=\"text-align: right;\">\n",
       "      <th></th>\n",
       "      <th>clean_name</th>\n",
       "      <th>cluster</th>\n",
       "    </tr>\n",
       "  </thead>\n",
       "  <tbody>\n",
       "    <tr>\n",
       "      <th>6</th>\n",
       "      <td>пеппи длинныйчулок в стране веселии</td>\n",
       "      <td>9</td>\n",
       "    </tr>\n",
       "    <tr>\n",
       "      <th>9</th>\n",
       "      <td>дядя стёпа</td>\n",
       "      <td>9</td>\n",
       "    </tr>\n",
       "    <tr>\n",
       "      <th>28</th>\n",
       "      <td>пеппи длинныйчулок</td>\n",
       "      <td>9</td>\n",
       "    </tr>\n",
       "    <tr>\n",
       "      <th>41</th>\n",
       "      <td>цири</td>\n",
       "      <td>9</td>\n",
       "    </tr>\n",
       "    <tr>\n",
       "      <th>63</th>\n",
       "      <td>русская канарейка голос</td>\n",
       "      <td>9</td>\n",
       "    </tr>\n",
       "  </tbody>\n",
       "</table>\n",
       "</div>"
      ],
      "text/plain": [
       "                             clean_name  cluster\n",
       "6   пеппи длинныйчулок в стране веселии        9\n",
       "9                            дядя стёпа        9\n",
       "28                   пеппи длинныйчулок        9\n",
       "41                                 цири        9\n",
       "63              русская канарейка голос        9"
      ]
     },
     "execution_count": 93,
     "metadata": {},
     "output_type": "execute_result"
    }
   ],
   "source": [
    "unique_names[unique_names.cluster == 9].head()"
   ]
  },
  {
   "cell_type": "markdown",
   "metadata": {},
   "source": [
    "Well, maybe it's not ideal, but it could work."
   ]
  },
  {
   "cell_type": "code",
   "execution_count": 94,
   "metadata": {
    "collapsed": true,
    "scrolled": true
   },
   "outputs": [],
   "source": [
    "users, data_points = prepare_data(data=d, clusters=unique_names)"
   ]
  },
  {
   "cell_type": "code",
   "execution_count": 95,
   "metadata": {},
   "outputs": [
    {
     "data": {
      "text/plain": [
       "((76258, 11), (76258, 30))"
      ]
     },
     "execution_count": 95,
     "metadata": {},
     "output_type": "execute_result"
    }
   ],
   "source": [
    "users.shape, data_points.shape"
   ]
  },
  {
   "cell_type": "markdown",
   "metadata": {},
   "source": [
    "KMeans is a memory hog (128 GB is not enough, obviously), let's create a reduced data set."
   ]
  },
  {
   "cell_type": "code",
   "execution_count": 96,
   "metadata": {},
   "outputs": [
    {
     "data": {
      "text/plain": [
       "(76258, 9)"
      ]
     },
     "execution_count": 96,
     "metadata": {},
     "output_type": "execute_result"
    }
   ],
   "source": [
    "reduced_data_points = reduce_dims(data_points, 0.9)\n",
    "reduced_data_points.shape"
   ]
  },
  {
   "cell_type": "code",
   "execution_count": 97,
   "metadata": {},
   "outputs": [
    {
     "name": "stdout",
     "output_type": "stream",
     "text": [
      "For n_clusters = 3 The inertia_ is : 567137.618781 The average silhouette_score is : 0.855714321536\n",
      "For n_clusters = 4 The inertia_ is : 507593.614107 The average silhouette_score is : 0.531171301412\n",
      "For n_clusters = 5 The inertia_ is : 460452.688316 The average silhouette_score is : 0.541726026636\n",
      "For n_clusters = 6 The inertia_ is : 422378.100777 The average silhouette_score is : 0.537417204949\n",
      "For n_clusters = 7 The inertia_ is : 381743.505373 The average silhouette_score is : 0.539849089613\n",
      "For n_clusters = 8 The inertia_ is : 348228.253472 The average silhouette_score is : 0.433712875809\n",
      "For n_clusters = 9 The inertia_ is : 325298.385174 The average silhouette_score is : 0.311837135543\n",
      "For n_clusters = 10 The inertia_ is : 303883.312569 The average silhouette_score is : 0.319850377366\n",
      "For n_clusters = 11 The inertia_ is : 284436.899363 The average silhouette_score is : 0.254416464337\n",
      "For n_clusters = 12 The inertia_ is : 267224.686847 The average silhouette_score is : 0.256747974001\n",
      "For n_clusters = 13 The inertia_ is : 249598.117356 The average silhouette_score is : 0.296124881227\n",
      "For n_clusters = 14 The inertia_ is : 234353.864356 The average silhouette_score is : 0.266708607678\n",
      "For n_clusters = 15 The inertia_ is : 224681.745135 The average silhouette_score is : 0.252769502791\n",
      "For n_clusters = 16 The inertia_ is : 214598.546766 The average silhouette_score is : 0.261001623234\n",
      "For n_clusters = 17 The inertia_ is : 206973.139734 The average silhouette_score is : 0.247050260363\n",
      "For n_clusters = 18 The inertia_ is : 195895.837812 The average silhouette_score is : 0.261607399032\n",
      "For n_clusters = 19 The inertia_ is : 189853.325198 The average silhouette_score is : 0.268205421793\n",
      "For n_clusters = 20 The inertia_ is : 180150.998365 The average silhouette_score is : 0.251572566207\n"
     ]
    },
    {
     "data": {
      "image/png": "[encoded data removed]",
      "text/plain": [
       "<matplotlib.figure.Figure at 0x7982702780>"
      ]
     },
     "metadata": {},
     "output_type": "display_data"
    }
   ],
   "source": [
    "plot_kmeans_stats(reduced_data_points, 21, \"users_data_points\")"
   ]
  },
  {
   "cell_type": "markdown",
   "metadata": {},
   "source": [
    "No \"elbow\" here either."
   ]
  },
  {
   "cell_type": "code",
   "execution_count": 98,
   "metadata": {},
   "outputs": [
    {
     "data": {
      "image/png": "[encoded data removed]",
      "text/plain": [
       "<matplotlib.figure.Figure at 0x79f3eb94a8>"
      ]
     },
     "metadata": {},
     "output_type": "display_data"
    }
   ],
   "source": [
    "plot_elbow(data_points, \"users_data_points\")"
   ]
  },
  {
   "cell_type": "markdown",
   "metadata": {},
   "source": [
    "*\"Good luck guessing elbow here\"*"
   ]
  },
  {
   "cell_type": "markdown",
   "metadata": {},
   "source": [
    "And again, let's compare:"
   ]
  },
  {
   "cell_type": "code",
   "execution_count": 99,
   "metadata": {},
   "outputs": [
    {
     "data": {
      "text/plain": [
       "Counter({-1: 1818,\n",
       "         0: 2424,\n",
       "         1: 5816,\n",
       "         2: 2825,\n",
       "         3: 5081,\n",
       "         4: 3661,\n",
       "         5: 8116,\n",
       "         6: 10133,\n",
       "         7: 3392,\n",
       "         8: 1388,\n",
       "         9: 3363,\n",
       "         10: 6027,\n",
       "         11: 1224,\n",
       "         12: 1802,\n",
       "         13: 1915,\n",
       "         14: 1478,\n",
       "         15: 1090,\n",
       "         16: 6341,\n",
       "         17: 3451,\n",
       "         18: 3645,\n",
       "         19: 1162,\n",
       "         20: 6,\n",
       "         21: 5,\n",
       "         22: 7,\n",
       "         23: 4,\n",
       "         24: 15,\n",
       "         25: 4,\n",
       "         26: 4,\n",
       "         27: 6,\n",
       "         28: 4,\n",
       "         29: 12,\n",
       "         30: 4,\n",
       "         31: 10,\n",
       "         32: 5,\n",
       "         33: 4,\n",
       "         34: 4,\n",
       "         35: 4,\n",
       "         36: 4,\n",
       "         37: 4})"
      ]
     },
     "execution_count": 99,
     "metadata": {},
     "output_type": "execute_result"
    }
   ],
   "source": [
    "users_clusters_db = DBSCAN(eps=1.4, min_samples=4, n_jobs=-1).fit_predict(data_points)\n",
    "Counter(users_clusters_db)"
   ]
  },
  {
   "cell_type": "code",
   "execution_count": 100,
   "metadata": {},
   "outputs": [
    {
     "data": {
      "text/plain": [
       "Counter({0: 21036,\n",
       "         1: 3,\n",
       "         2: 2048,\n",
       "         3: 335,\n",
       "         4: 43,\n",
       "         5: 14905,\n",
       "         6: 1,\n",
       "         7: 1,\n",
       "         8: 72,\n",
       "         9: 508,\n",
       "         10: 378,\n",
       "         11: 5,\n",
       "         12: 3956,\n",
       "         13: 5,\n",
       "         14: 5,\n",
       "         15: 148,\n",
       "         16: 1858,\n",
       "         17: 28450,\n",
       "         18: 44,\n",
       "         19: 2457})"
      ]
     },
     "execution_count": 100,
     "metadata": {},
     "output_type": "execute_result"
    }
   ],
   "source": [
    "users_clusters_km = KMeans(random_state=0, init=\"k-means++\", n_clusters=20).fit_predict(reduced_data_points)\n",
    "Counter(users_clusters_km)"
   ]
  },
  {
   "cell_type": "markdown",
   "metadata": {},
   "source": [
    "KMeans basically assigns 80% of users into 3 clusters, it just couldn't be true. 1-user clusters look not plausible too."
   ]
  },
  {
   "cell_type": "markdown",
   "metadata": {},
   "source": [
    "At this time DBSCAN (after some trial and error with hyperparams) manages to find more consistently-sized clusters."
   ]
  },
  {
   "cell_type": "code",
   "execution_count": 101,
   "metadata": {
    "collapsed": true
   },
   "outputs": [],
   "source": [
    "users[\"user_c\"] = users_clusters_db"
   ]
  },
  {
   "cell_type": "code",
   "execution_count": 102,
   "metadata": {},
   "outputs": [
    {
     "data": {
      "text/plain": [
       "<matplotlib.collections.PathCollection at 0x79825b04e0>"
      ]
     },
     "execution_count": 102,
     "metadata": {},
     "output_type": "execute_result"
    },
    {
     "data": {
      "image/png": "[encoded data removed]",
      "text/plain": [
       "<matplotlib.figure.Figure at 0x79827155f8>"
      ]
     },
     "metadata": {},
     "output_type": "display_data"
    }
   ],
   "source": [
    "p = plt.scatter(users[users.user_c != -1].cluster, users[users.user_c != -1].user_c)\n",
    "plt.xlabel(\"book cluster\")\n",
    "plt.ylabel(\"user cluster\")\n",
    "p"
   ]
  },
  {
   "cell_type": "markdown",
   "metadata": {},
   "source": [
    "# 5. Проанализировать результат\n",
    "получилось или нет, почему, что можно улучшить, можно ли интерпретировать результат"
   ]
  },
  {
   "cell_type": "markdown",
   "metadata": {},
   "source": [
    "Loks like `cluster` feature, extracted from the books is a really big deal when it comes to clustering, because, if we remove noise (`cluster == -1`), classes of customers and books are quite aligned with each other and rarely share an axis.  \n",
    "Maybe, each of these cases is, actually, a cluster, erroneously separated in two. Or, they are *actually* love the same books, but have a bit different behaviour patterns."
   ]
  },
  {
   "cell_type": "markdown",
   "metadata": {},
   "source": [
    "Result is pretty interpretable, if we join users `cluster` with unique names or, even better, with lemmatized unique names that  this cluster, we'll be able to predict whether custormer will like an arbitrary book or not."
   ]
  },
  {
   "cell_type": "markdown",
   "metadata": {},
   "source": [
    "# 6. Повторить при необходимости "
   ]
  },
  {
   "cell_type": "markdown",
   "metadata": {},
   "source": [
    "# Подсказки\n",
    "\n",
    "* Проводить EDA и работу с признаками на всем датасете\n",
    "* Для построения модели отсеивать данные тем или иным способом (обосновать выбор) - уменьшить объем данных для анализа\n",
    "* Оформлять для сдачи задания все эксперименты (в том числе неудачные). Так мы сможем увидеть процесс работы над заданием\n",
    "* Не тратить 90% времени на первый этап. Планировать время так, чтобы успеть поработать над моделью (в равной степени над каждым пунктом)."
   ]
  }
 ],
 "metadata": {
  "kernelspec": {
   "display_name": "Python 3",
   "language": "python",
   "name": "python3"
  },
  "language_info": {
   "codemirror_mode": {
    "name": "ipython",
    "version": 3
   },
   "file_extension": ".py",
   "mimetype": "text/x-python",
   "name": "python",
   "nbconvert_exporter": "python",
   "pygments_lexer": "ipython3",
   "version": "3.6.3"
  }
 },
 "nbformat": 4,
 "nbformat_minor": 2
}
