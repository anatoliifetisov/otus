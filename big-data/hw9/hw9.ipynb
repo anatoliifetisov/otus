{
 "cells": [
  {
   "cell_type": "code",
   "execution_count": 1,
   "metadata": {},
   "outputs": [],
   "source": [
    "import sqlite3\n",
    "import datetime\n",
    "import nltk\n",
    "import pymorphy2\n",
    "import ftfy\n",
    "import re\n",
    "import dill\n",
    "\n",
    "import numpy as np\n",
    "import pandas as pd\n",
    "\n",
    "from sklearn.pipeline import make_union, make_pipeline\n",
    "from sklearn.preprocessing import FunctionTransformer, StandardScaler, OneHotEncoder, LabelEncoder, Imputer\n",
    "from sklearn.feature_extraction.text import TfidfVectorizer, CountVectorizer\n",
    "from sklearn.model_selection import train_test_split, GridSearchCV\n",
    "from sklearn.linear_model import SGDRegressor, SGDClassifier\n",
    "from sklearn.metrics import mean_squared_error, roc_auc_score\n",
    "\n",
    "dill.settings['recurse']=True"
   ]
  },
  {
   "cell_type": "code",
   "execution_count": 2,
   "metadata": {},
   "outputs": [],
   "source": [
    "conn = sqlite3.connect(\"vk.db\")\n",
    "df = pd.read_sql(\"\"\"SELECT u.*, p.posts\n",
    "                    FROM Users AS u\n",
    "                    LEFT JOIN (SELECT from_id, group_concat(text) AS posts\n",
    "                          FROM Posts\n",
    "                          GROUP BY from_id) AS p\n",
    "                    ON u.id = p.from_id\"\"\", conn)\n",
    "conn.close()"
   ]
  },
  {
   "cell_type": "code",
   "execution_count": 3,
   "metadata": {},
   "outputs": [],
   "source": [
    "df.set_index(\"id\", inplace=True)"
   ]
  },
  {
   "cell_type": "code",
   "execution_count": 4,
   "metadata": {},
   "outputs": [
    {
     "data": {
      "text/plain": [
       "15393"
      ]
     },
     "execution_count": 4,
     "metadata": {},
     "output_type": "execute_result"
    }
   ],
   "source": [
    "len(df.dropna(axis=0, thresh=2))"
   ]
  },
  {
   "cell_type": "code",
   "execution_count": 5,
   "metadata": {},
   "outputs": [],
   "source": [
    "df.dropna(axis=0, thresh=2, inplace=True)"
   ]
  },
  {
   "cell_type": "markdown",
   "metadata": {},
   "source": [
    "So, out of 25k collected users we have only 15393 that have any information except sex (actually, it's a users's decision to hide their profile from anything they haven't authorized explicitly)"
   ]
  },
  {
   "cell_type": "code",
   "execution_count": 6,
   "metadata": {},
   "outputs": [
    {
     "data": {
      "text/html": [
       "<div>\n",
       "<style>\n",
       "    .dataframe thead tr:only-child th {\n",
       "        text-align: right;\n",
       "    }\n",
       "\n",
       "    .dataframe thead th {\n",
       "        text-align: left;\n",
       "    }\n",
       "\n",
       "    .dataframe tbody tr th {\n",
       "        vertical-align: top;\n",
       "    }\n",
       "</style>\n",
       "<table border=\"1\" class=\"dataframe\">\n",
       "  <thead>\n",
       "    <tr style=\"text-align: right;\">\n",
       "      <th></th>\n",
       "      <th>sex</th>\n",
       "      <th>bdate</th>\n",
       "      <th>activities</th>\n",
       "      <th>interests</th>\n",
       "      <th>music</th>\n",
       "      <th>movies</th>\n",
       "      <th>tv</th>\n",
       "      <th>books</th>\n",
       "      <th>games</th>\n",
       "      <th>about</th>\n",
       "      <th>quotes</th>\n",
       "      <th>posts</th>\n",
       "    </tr>\n",
       "    <tr>\n",
       "      <th>id</th>\n",
       "      <th></th>\n",
       "      <th></th>\n",
       "      <th></th>\n",
       "      <th></th>\n",
       "      <th></th>\n",
       "      <th></th>\n",
       "      <th></th>\n",
       "      <th></th>\n",
       "      <th></th>\n",
       "      <th></th>\n",
       "      <th></th>\n",
       "      <th></th>\n",
       "    </tr>\n",
       "  </thead>\n",
       "  <tbody>\n",
       "    <tr>\n",
       "      <th>1</th>\n",
       "      <td>2</td>\n",
       "      <td>10.10.1984</td>\n",
       "      <td>None</td>\n",
       "      <td>None</td>\n",
       "      <td>None</td>\n",
       "      <td>12 Angry Men</td>\n",
       "      <td>None</td>\n",
       "      <td>None</td>\n",
       "      <td>None</td>\n",
       "      <td>None</td>\n",
       "      <td>Being free, being truly free consists of not b...</td>\n",
       "      <td>Visions are worth fighting for. Why spend your...</td>\n",
       "    </tr>\n",
       "    <tr>\n",
       "      <th>5</th>\n",
       "      <td>2</td>\n",
       "      <td>18.11</td>\n",
       "      <td>None</td>\n",
       "      <td>None</td>\n",
       "      <td>None</td>\n",
       "      <td>None</td>\n",
       "      <td>None</td>\n",
       "      <td>None</td>\n",
       "      <td>None</td>\n",
       "      <td>None</td>\n",
       "      <td>None</td>\n",
       "      <td>Уезжаем из Петербурга на 10 дней .,Svershilos....</td>\n",
       "    </tr>\n",
       "    <tr>\n",
       "      <th>8</th>\n",
       "      <td>2</td>\n",
       "      <td>None</td>\n",
       "      <td>▄██▄██▄░██░░░▄█▀▀█▄░█▌░░▐█░██▀▀▀░▄██▄██▄ ▀████...</td>\n",
       "      <td>▄██▄██▄░██░░░▄█▀▀█▄░█▌░░▐█░██▀▀▀░▄██▄██▄ ▀████...</td>\n",
       "      <td>▄██▄██▄░██░░░▄█▀▀█▄░█▌░░▐█░██▀▀▀░▄██▄██▄ ▀████...</td>\n",
       "      <td>▄██▄██▄░██░░░▄█▀▀█▄░█▌░░▐█░██▀▀▀░▄██▄██▄ ▀████...</td>\n",
       "      <td>▄██▄██▄░██░░░▄█▀▀█▄░█▌░░▐█░██▀▀▀░▄██▄██▄ ▀████...</td>\n",
       "      <td>▄██▄██▄░██░░░▄█▀▀█▄░█▌░░▐█░██▀▀▀░▄██▄██▄ ▀████...</td>\n",
       "      <td>▄██▄██▄░██░░░▄█▀▀█▄░█▌░░▐█░██▀▀▀░▄██▄██▄ ▀████...</td>\n",
       "      <td>▄██▄██▄░██░░░▄█▀▀█▄░█▌░░▐█░██▀▀▀░▄██▄██▄ ▀████...</td>\n",
       "      <td>▄██▄██▄░██░░░▄█▀▀█▄░█▌░░▐█░██▀▀▀░▄██▄██▄ ▀████...</td>\n",
       "      <td>Утепление квартир. \\n380951216778\\nкачественно...</td>\n",
       "    </tr>\n",
       "    <tr>\n",
       "      <th>9</th>\n",
       "      <td>1</td>\n",
       "      <td>None</td>\n",
       "      <td>Не до неё :)</td>\n",
       "      <td>Активный отдых на природе, охрана природы и эк...</td>\n",
       "      <td>svoeradio.fm</td>\n",
       "      <td>Форрест Гамп, Властелин Колец, Алые паруса, Ос...</td>\n",
       "      <td>Что это?</td>\n",
       "      <td>\"Книга об отце\" Лив Нансен-Хейер, \"Фрам в поля...</td>\n",
       "      <td>Жизнь</td>\n",
       "      <td>»\\n— Вы сумасшедший?\\n— Напротив, я так нормал...</td>\n",
       "      <td>Охохо!\\n(Катя-some)\\n\\nJa,ja das ist phantasti...</td>\n",
       "      <td>пью йад.,\"дайте мне мой кусок жизни, пока я не...</td>\n",
       "    </tr>\n",
       "    <tr>\n",
       "      <th>10</th>\n",
       "      <td>2</td>\n",
       "      <td>None</td>\n",
       "      <td>None</td>\n",
       "      <td>None</td>\n",
       "      <td>None</td>\n",
       "      <td>None</td>\n",
       "      <td>None</td>\n",
       "      <td>None</td>\n",
       "      <td>None</td>\n",
       "      <td>None</td>\n",
       "      <td>None</td>\n",
       "      <td>дамы, не читайте мою стену, пожалуйста.,обозва...</td>\n",
       "    </tr>\n",
       "  </tbody>\n",
       "</table>\n",
       "</div>"
      ],
      "text/plain": [
       "    sex       bdate                                         activities  \\\n",
       "id                                                                       \n",
       "1     2  10.10.1984                                               None   \n",
       "5     2       18.11                                               None   \n",
       "8     2        None  ▄██▄██▄░██░░░▄█▀▀█▄░█▌░░▐█░██▀▀▀░▄██▄██▄ ▀████...   \n",
       "9     1        None                                       Не до неё :)   \n",
       "10    2        None                                               None   \n",
       "\n",
       "                                            interests  \\\n",
       "id                                                      \n",
       "1                                                None   \n",
       "5                                                None   \n",
       "8   ▄██▄██▄░██░░░▄█▀▀█▄░█▌░░▐█░██▀▀▀░▄██▄██▄ ▀████...   \n",
       "9   Активный отдых на природе, охрана природы и эк...   \n",
       "10                                               None   \n",
       "\n",
       "                                                music  \\\n",
       "id                                                      \n",
       "1                                                None   \n",
       "5                                                None   \n",
       "8   ▄██▄██▄░██░░░▄█▀▀█▄░█▌░░▐█░██▀▀▀░▄██▄██▄ ▀████...   \n",
       "9                                        svoeradio.fm   \n",
       "10                                               None   \n",
       "\n",
       "                                               movies  \\\n",
       "id                                                      \n",
       "1                                        12 Angry Men   \n",
       "5                                                None   \n",
       "8   ▄██▄██▄░██░░░▄█▀▀█▄░█▌░░▐█░██▀▀▀░▄██▄██▄ ▀████...   \n",
       "9   Форрест Гамп, Властелин Колец, Алые паруса, Ос...   \n",
       "10                                               None   \n",
       "\n",
       "                                                   tv  \\\n",
       "id                                                      \n",
       "1                                                None   \n",
       "5                                                None   \n",
       "8   ▄██▄██▄░██░░░▄█▀▀█▄░█▌░░▐█░██▀▀▀░▄██▄██▄ ▀████...   \n",
       "9                                            Что это?   \n",
       "10                                               None   \n",
       "\n",
       "                                                books  \\\n",
       "id                                                      \n",
       "1                                                None   \n",
       "5                                                None   \n",
       "8   ▄██▄██▄░██░░░▄█▀▀█▄░█▌░░▐█░██▀▀▀░▄██▄██▄ ▀████...   \n",
       "9   \"Книга об отце\" Лив Нансен-Хейер, \"Фрам в поля...   \n",
       "10                                               None   \n",
       "\n",
       "                                                games  \\\n",
       "id                                                      \n",
       "1                                                None   \n",
       "5                                                None   \n",
       "8   ▄██▄██▄░██░░░▄█▀▀█▄░█▌░░▐█░██▀▀▀░▄██▄██▄ ▀████...   \n",
       "9                                               Жизнь   \n",
       "10                                               None   \n",
       "\n",
       "                                                about  \\\n",
       "id                                                      \n",
       "1                                                None   \n",
       "5                                                None   \n",
       "8   ▄██▄██▄░██░░░▄█▀▀█▄░█▌░░▐█░██▀▀▀░▄██▄██▄ ▀████...   \n",
       "9   »\\n— Вы сумасшедший?\\n— Напротив, я так нормал...   \n",
       "10                                               None   \n",
       "\n",
       "                                               quotes  \\\n",
       "id                                                      \n",
       "1   Being free, being truly free consists of not b...   \n",
       "5                                                None   \n",
       "8   ▄██▄██▄░██░░░▄█▀▀█▄░█▌░░▐█░██▀▀▀░▄██▄██▄ ▀████...   \n",
       "9   Охохо!\\n(Катя-some)\\n\\nJa,ja das ist phantasti...   \n",
       "10                                               None   \n",
       "\n",
       "                                                posts  \n",
       "id                                                     \n",
       "1   Visions are worth fighting for. Why spend your...  \n",
       "5   Уезжаем из Петербурга на 10 дней .,Svershilos....  \n",
       "8   Утепление квартир. \\n380951216778\\nкачественно...  \n",
       "9   пью йад.,\"дайте мне мой кусок жизни, пока я не...  \n",
       "10  дамы, не читайте мою стену, пожалуйста.,обозва...  "
      ]
     },
     "execution_count": 6,
     "metadata": {},
     "output_type": "execute_result"
    }
   ],
   "source": [
    "df.head()"
   ]
  },
  {
   "cell_type": "code",
   "execution_count": 7,
   "metadata": {},
   "outputs": [
    {
     "data": {
      "text/plain": [
       "8570"
      ]
     },
     "execution_count": 7,
     "metadata": {},
     "output_type": "execute_result"
    }
   ],
   "source": [
    "len(df[df.bdate.str.contains(\"\\d{1,2}\\.\\d{1,2}\\.\\d{4}\") == True])"
   ]
  },
  {
   "cell_type": "markdown",
   "metadata": {},
   "source": [
    "We have 8570 entries with complete birthday date  \n",
    "Not much, but this might work out just fine"
   ]
  },
  {
   "cell_type": "code",
   "execution_count": 8,
   "metadata": {},
   "outputs": [],
   "source": [
    "def get_entries_with_complete_bdate(data):\n",
    "    return df[df.bdate.str.contains(\"\\d{1,2}\\.\\d{1,2}\\.\\d{4}\") == True]"
   ]
  },
  {
   "cell_type": "code",
   "execution_count": 9,
   "metadata": {},
   "outputs": [],
   "source": [
    "def get_age_from_bdate(s):\n",
    "    if s is None:\n",
    "        return np.nan\n",
    "    \n",
    "    d = None\n",
    "    try:\n",
    "        d = datetime.datetime.strptime(s, \"%d.%m.%Y\")\n",
    "    except ValueError:\n",
    "        if len(s) > 4 and s[:4] == \"29.2\": # apparently, VK just can't perform leap years check reliably\n",
    "            d = datetime.datetime.strptime(\"28.2.\" + s[-4:], \"%d.%m.%Y\")\n",
    "    if d is not None:\n",
    "        return (datetime.datetime.now() - d).days // 365.25\n",
    "    return np.nan"
   ]
  },
  {
   "cell_type": "code",
   "execution_count": 10,
   "metadata": {},
   "outputs": [
    {
     "data": {
      "text/plain": [
       "<matplotlib.axes._subplots.AxesSubplot at 0x1a1854d2b0>"
      ]
     },
     "execution_count": 10,
     "metadata": {},
     "output_type": "execute_result"
    },
    {
     "data": {
      "image/png": "[encoded data removed]",
      "text/plain": [
       "<matplotlib.figure.Figure at 0x1a1ff27ba8>"
      ]
     },
     "metadata": {},
     "output_type": "display_data"
    }
   ],
   "source": [
    "%matplotlib inline\n",
    "get_entries_with_complete_bdate(df).bdate.apply(get_age_from_bdate).hist(bins=50, log=True)"
   ]
  },
  {
   "cell_type": "markdown",
   "metadata": {},
   "source": [
    "Age distribution is very skewed to the 25-30 range with a peak at around 30   \n",
    "It might be an inherent feature of this specific users subset (first 25k ids), because, obviously, these users have one trait in common — they are early adopters, they age may has something to do with it"
   ]
  },
  {
   "cell_type": "code",
   "execution_count": 11,
   "metadata": {},
   "outputs": [
    {
     "data": {
      "text/plain": [
       "15393"
      ]
     },
     "execution_count": 11,
     "metadata": {},
     "output_type": "execute_result"
    }
   ],
   "source": [
    "len(df[df.sex != 0])"
   ]
  },
  {
   "cell_type": "markdown",
   "metadata": {},
   "source": [
    "And all users have their sex filled, good"
   ]
  },
  {
   "cell_type": "code",
   "execution_count": 12,
   "metadata": {},
   "outputs": [
    {
     "data": {
      "text/plain": [
       "<matplotlib.axes._subplots.AxesSubplot at 0x1a18774e80>"
      ]
     },
     "execution_count": 12,
     "metadata": {},
     "output_type": "execute_result"
    },
    {
     "data": {
      "image/png": "[encoded data removed]",
      "text/plain": [
       "<matplotlib.figure.Figure at 0x1a18787748>"
      ]
     },
     "metadata": {},
     "output_type": "display_data"
    }
   ],
   "source": [
    "df.sex.hist()"
   ]
  },
  {
   "cell_type": "markdown",
   "metadata": {},
   "source": [
    "Sex distribution is almost uniform, no problems here"
   ]
  },
  {
   "cell_type": "code",
   "execution_count": 13,
   "metadata": {},
   "outputs": [],
   "source": [
    "train_age, test_age = train_test_split(get_entries_with_complete_bdate(df), test_size=.2, random_state=0, shuffle=True)"
   ]
  },
  {
   "cell_type": "code",
   "execution_count": 14,
   "metadata": {},
   "outputs": [],
   "source": [
    "train_sex, test_sex = train_test_split(df, test_size=0.2, random_state=0, shuffle=True)"
   ]
  },
  {
   "cell_type": "markdown",
   "metadata": {},
   "source": [
    "We need to transform all text features into TF-IDF form and train two models.  \n",
    "Frist model will try to predict age using these features and sex, second one is going to predict sex using the same features and age."
   ]
  },
  {
   "cell_type": "code",
   "execution_count": 15,
   "metadata": {},
   "outputs": [],
   "source": [
    "def get_pipeline(for_age_prediction=False):\n",
    "    \n",
    "    ma = pymorphy2.MorphAnalyzer()\n",
    "    stopwords = nltk.corpus.stopwords.words(\"english\") + nltk.corpus.stopwords.words(\"russian\")\n",
    "    words_regex = re.compile(r\"[\\W]+\")\n",
    "    links_regex = re.compile(r\"\"\"\\b((?:https?:\\/\\/|www\\d{0,3}[.]|[a-z0-9.\\-]+[.][a-z]{2,4}\\/)(?:[^\\s()<>]+|\\(([^\\s()<>]+|(\\([^\\s()<>]+\\)))*\\))+(?:\\(([^\\s()<>]+|(\\([^\\s()<>]+\\)))*\\)|[^\\s`!()\\[\\]{};:'\".,<>?«»“”‘’]))\"\"\")\n",
    "    numbers_regex = re.compile(\"[0-9]+\")\n",
    "    \n",
    "    def tokenize(s):\n",
    "        s = s.lower()\n",
    "        s = ftfy.fix_text(s)\n",
    "        s = s.replace(\"\\n\", \" \")\n",
    "        s = links_regex.sub(\" \", s).strip() # remove all links\n",
    "        s = words_regex.sub(\" \", s).strip() # extract words\n",
    "        s = numbers_regex.sub(\" \", s).strip() # remove numbers\n",
    "        tokens = [ma.parse(w)[0].normal_form for w in s.split()] # get normalized words\n",
    "        return [w for w in tokens if w not in stopwords] # exclude stopwords\n",
    "    \n",
    "    def get_var_col_pipeline():\n",
    "        if for_age_prediction:\n",
    "            return make_pipeline(FunctionTransformer(get_sex_col, validate=False), Imputer(strategy=\"most_frequent\"))\n",
    "        else:\n",
    "            return make_pipeline(FunctionTransformer(get_age_col, validate=False), Imputer(), StandardScaler())\n",
    "    \n",
    "    def get_age_col(d):\n",
    "        return d.bdate.apply(get_age_from_bdate).values.reshape(-1, 1)\n",
    "    \n",
    "    def get_sex_col(d):\n",
    "        return (d[[\"sex\"]].fillna(0.0) - 1.0).replace([-1.0], [np.nan])\n",
    "    \n",
    "    def get_activities_col(d):\n",
    "        return d[\"activities\"].fillna(\"None\")\n",
    "    \n",
    "    def get_interests_col(d):\n",
    "        return d[\"interests\"].fillna(\"None\")\n",
    "    \n",
    "    def get_music_col(d):\n",
    "        return d[\"music\"].fillna(\"None\")\n",
    "    \n",
    "    def get_movies_col(d):\n",
    "        return d[\"movies\"].fillna(\"None\")\n",
    "    \n",
    "    def get_tv_col(d):\n",
    "        return d[\"tv\"].fillna(\"None\")\n",
    "    \n",
    "    def get_books_col(d):\n",
    "        return d[\"books\"].fillna(\"None\")\n",
    "    \n",
    "    def get_games_col(d):\n",
    "        return d[\"games\"].fillna(\"None\")\n",
    "    \n",
    "    def get_about_col(d):\n",
    "        return d[\"about\"].fillna(\"None\")\n",
    "    \n",
    "    def get_quotes_col(d):\n",
    "        return d[\"quotes\"].fillna(\"None\")\n",
    "    \n",
    "    def get_posts_col(d):\n",
    "        return d[\"posts\"].fillna(\"None\")\n",
    "    \n",
    "    p = make_union(*[\n",
    "        get_var_col_pipeline(),\n",
    "        make_pipeline(FunctionTransformer(get_activities_col, validate=False),\n",
    "                      TfidfVectorizer(max_features=1000, ngram_range=(1, 3), tokenizer=tokenize)),\n",
    "        make_pipeline(FunctionTransformer(get_interests_col, validate=False),\n",
    "                      TfidfVectorizer(max_features=1000, ngram_range=(1, 3), tokenizer=tokenize)),\n",
    "        make_pipeline(FunctionTransformer(get_music_col, validate=False),\n",
    "                      TfidfVectorizer(max_features=1000, ngram_range=(1, 3), tokenizer=tokenize)),\n",
    "        make_pipeline(FunctionTransformer(get_movies_col, validate=False),\n",
    "                      TfidfVectorizer(max_features=1000, ngram_range=(1, 3), tokenizer=tokenize)),\n",
    "        make_pipeline(FunctionTransformer(get_tv_col, validate=False),\n",
    "                      TfidfVectorizer(max_features=1000, ngram_range=(1, 3), tokenizer=tokenize)),\n",
    "        make_pipeline(FunctionTransformer(get_books_col, validate=False),\n",
    "                      TfidfVectorizer(max_features=1000, ngram_range=(1, 3), tokenizer=tokenize)),\n",
    "        make_pipeline(FunctionTransformer(get_games_col, validate=False),\n",
    "                      TfidfVectorizer(max_features=1000, ngram_range=(1, 3), tokenizer=tokenize)),\n",
    "        make_pipeline(FunctionTransformer(get_about_col, validate=False),\n",
    "                      TfidfVectorizer(max_features=1000, ngram_range=(1, 3), tokenizer=tokenize)),\n",
    "        make_pipeline(FunctionTransformer(get_quotes_col, validate=False),\n",
    "                      TfidfVectorizer(max_features=1000, ngram_range=(1, 3), tokenizer=tokenize)),\n",
    "        make_pipeline(FunctionTransformer(get_posts_col, validate=False),\n",
    "                      TfidfVectorizer(max_features=1000, ngram_range=(1, 3), tokenizer=tokenize))\n",
    "    ])\n",
    "    return p"
   ]
  },
  {
   "cell_type": "markdown",
   "metadata": {},
   "source": [
    "Model will learn from new users, requested over time, so we need to choose models that support `partial_fit`  \n",
    "Given this constraint, SGDRegressor and SGDClassifier are good candidates"
   ]
  },
  {
   "cell_type": "code",
   "execution_count": 16,
   "metadata": {},
   "outputs": [],
   "source": [
    "pipeline_age = get_pipeline(True)\n",
    "X_age, y_age = pipeline_age.fit_transform(train_age), train_age.bdate.apply(get_age_from_bdate)\n",
    "X_age_test, y_age_test = pipeline_age.transform(test_age), test_age.bdate.apply(get_age_from_bdate)"
   ]
  },
  {
   "cell_type": "code",
   "execution_count": 17,
   "metadata": {},
   "outputs": [],
   "source": [
    "age_params = {\n",
    "                \"loss\" : [\"squared_loss\", \"huber\"],\n",
    "                \"penalty\" : [\"l2\", \"l1\", \"elasticnet\"],\n",
    "                \"alpha\" : [0.001, 0.01, 0.1, 1],\n",
    "                \"l1_ratio\" : [0.25, 0.5, 0.75],\n",
    "                \"max_iter\" : [10000],\n",
    "                \"random_state\" : [0]\n",
    "             }"
   ]
  },
  {
   "cell_type": "code",
   "execution_count": 18,
   "metadata": {
    "scrolled": true
   },
   "outputs": [
    {
     "name": "stdout",
     "output_type": "stream",
     "text": [
      "Fitting 10 folds for each of 72 candidates, totalling 720 fits\n"
     ]
    },
    {
     "name": "stderr",
     "output_type": "stream",
     "text": [
      "[Parallel(n_jobs=-1)]: Done  34 tasks      | elapsed:  2.0min\n",
      "[Parallel(n_jobs=-1)]: Done 184 tasks      | elapsed: 11.5min\n",
      "[Parallel(n_jobs=-1)]: Done 434 tasks      | elapsed: 26.1min\n",
      "[Parallel(n_jobs=-1)]: Done 720 out of 720 | elapsed: 42.2min finished\n"
     ]
    },
    {
     "name": "stdout",
     "output_type": "stream",
     "text": [
      "-48.4971275552\n"
     ]
    }
   ],
   "source": [
    "gs_age = GridSearchCV(SGDRegressor(), age_params, cv=10, scoring=\"neg_mean_squared_error\", verbose=1, n_jobs=-1)\n",
    "gs_age.fit(X_age, y_age)\n",
    "print(gs_age.best_score_)\n",
    "age_model = gs_age.best_estimator_"
   ]
  },
  {
   "cell_type": "code",
   "execution_count": 19,
   "metadata": {},
   "outputs": [],
   "source": [
    "pipeline_sex = get_pipeline()\n",
    "X_sex, y_sex = pipeline_sex.fit_transform(train_sex), train_sex.sex - 1.0\n",
    "X_sex_test, y_sex_test = pipeline_sex.transform(test_sex), test_sex.sex - 1.0"
   ]
  },
  {
   "cell_type": "code",
   "execution_count": 20,
   "metadata": {},
   "outputs": [],
   "source": [
    "sex_params = age_params.copy()\n",
    "sex_params[\"loss\"] = [\"hinge\", \"log\", \"modified_huber\"]"
   ]
  },
  {
   "cell_type": "code",
   "execution_count": 21,
   "metadata": {},
   "outputs": [
    {
     "name": "stdout",
     "output_type": "stream",
     "text": [
      "Fitting 10 folds for each of 108 candidates, totalling 1080 fits\n"
     ]
    },
    {
     "name": "stderr",
     "output_type": "stream",
     "text": [
      "[Parallel(n_jobs=-1)]: Done  34 tasks      | elapsed:  3.0min\n",
      "[Parallel(n_jobs=-1)]: Done 184 tasks      | elapsed: 16.9min\n",
      "[Parallel(n_jobs=-1)]: Done 434 tasks      | elapsed: 40.4min\n",
      "[Parallel(n_jobs=-1)]: Done 784 tasks      | elapsed: 73.8min\n",
      "[Parallel(n_jobs=-1)]: Done 1080 out of 1080 | elapsed: 101.8min finished\n"
     ]
    },
    {
     "name": "stdout",
     "output_type": "stream",
     "text": [
      "0.564710700269\n"
     ]
    }
   ],
   "source": [
    "gs_sex = GridSearchCV(SGDClassifier(), sex_params, cv=10, scoring='roc_auc', verbose=1, n_jobs=-1)\n",
    "gs_sex.fit(X_sex, y_sex)\n",
    "print(gs_sex.best_score_)\n",
    "sex_model = gs_sex.best_estimator_"
   ]
  },
  {
   "cell_type": "code",
   "execution_count": 22,
   "metadata": {},
   "outputs": [
    {
     "data": {
      "text/plain": [
       "SGDRegressor(alpha=0.1, average=False, epsilon=0.1, eta0=0.01,\n",
       "       fit_intercept=True, l1_ratio=0.25, learning_rate='invscaling',\n",
       "       loss='squared_loss', max_iter=10000, n_iter=None,\n",
       "       penalty='elasticnet', power_t=0.25, random_state=0, shuffle=True,\n",
       "       tol=None, verbose=0, warm_start=False)"
      ]
     },
     "execution_count": 22,
     "metadata": {},
     "output_type": "execute_result"
    }
   ],
   "source": [
    "age_model"
   ]
  },
  {
   "cell_type": "code",
   "execution_count": 23,
   "metadata": {},
   "outputs": [
    {
     "data": {
      "text/plain": [
       "SGDClassifier(alpha=0.001, average=False, class_weight=None, epsilon=0.1,\n",
       "       eta0=0.0, fit_intercept=True, l1_ratio=0.25,\n",
       "       learning_rate='optimal', loss='modified_huber', max_iter=10000,\n",
       "       n_iter=None, n_jobs=1, penalty='l2', power_t=0.5, random_state=0,\n",
       "       shuffle=True, tol=None, verbose=0, warm_start=False)"
      ]
     },
     "execution_count": 23,
     "metadata": {},
     "output_type": "execute_result"
    }
   ],
   "source": [
    "sex_model"
   ]
  },
  {
   "cell_type": "code",
   "execution_count": 24,
   "metadata": {},
   "outputs": [
    {
     "data": {
      "text/plain": [
       "63.754040568235112"
      ]
     },
     "execution_count": 24,
     "metadata": {},
     "output_type": "execute_result"
    }
   ],
   "source": [
    "age_preds = age_model.predict(X_age_test)\n",
    "age_mse = mean_squared_error(y_age_test, age_preds)\n",
    "age_mse"
   ]
  },
  {
   "cell_type": "code",
   "execution_count": 25,
   "metadata": {},
   "outputs": [
    {
     "data": {
      "text/plain": [
       "0.55796392372734682"
      ]
     },
     "execution_count": 25,
     "metadata": {},
     "output_type": "execute_result"
    }
   ],
   "source": [
    "sex_preds = sex_model.predict(X_sex_test)\n",
    "sex_auc = roc_auc_score(y_sex_test, sex_preds)\n",
    "sex_auc"
   ]
  },
  {
   "cell_type": "markdown",
   "metadata": {},
   "source": [
    "Results of both models aren't too impressive, but we should keep in mind that the dataset was quite skewed in the first place. Moreover, results will improve greatly with new observations."
   ]
  },
  {
   "cell_type": "markdown",
   "metadata": {},
   "source": [
    "Let's save the pipeline and the models for the future reuse"
   ]
  },
  {
   "cell_type": "code",
   "execution_count": 26,
   "metadata": {},
   "outputs": [],
   "source": [
    "with open(\"pipeline_age.pkl\", \"wb\") as f:\n",
    "    dill.dump(pipeline_age, f)\n",
    "with open(\"age_model.pkl\", \"wb\") as f:\n",
    "    dill.dump(age_model, f)"
   ]
  },
  {
   "cell_type": "code",
   "execution_count": 27,
   "metadata": {},
   "outputs": [],
   "source": [
    "with open(\"pipeline_sex.pkl\", \"wb\") as f:\n",
    "    dill.dump(pipeline_sex, f)\n",
    "with open(\"sex_model.pkl\", \"wb\") as f:\n",
    "    dill.dump(sex_model, f)"
   ]
  },
  {
   "cell_type": "markdown",
   "metadata": {},
   "source": [
    "Things to improve:  \n",
    "\n",
    " - use more features, like 10k per text column\n",
    " - skip words normalization, since gender-specific verb endings can give model a hint about user's sex; some suffixes could be an indication of age\n",
    " - use randomized training sample"
   ]
  }
 ],
 "metadata": {
  "kernelspec": {
   "display_name": "Python 3",
   "language": "python",
   "name": "python3"
  },
  "language_info": {
   "codemirror_mode": {
    "name": "ipython",
    "version": 3
   },
   "file_extension": ".py",
   "mimetype": "text/x-python",
   "name": "python",
   "nbconvert_exporter": "python",
   "pygments_lexer": "ipython3",
   "version": "3.6.3"
  }
 },
 "nbformat": 4,
 "nbformat_minor": 2
}
