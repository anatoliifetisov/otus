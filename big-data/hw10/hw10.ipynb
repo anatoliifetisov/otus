{
 "cells": [
  {
   "cell_type": "code",
   "execution_count": null,
   "metadata": {
    "collapsed": true
   },
   "outputs": [],
   "source": [
    "import numpy as np\n",
    "import pandas as pd\n",
    "import matplotlib\n",
    "import scipy.sparse as sp\n",
    "# import flurs\n",
    "\n",
    "# from flurs.recommender.fm import FMRecommender\n",
    "# from flurs.evaluator import Evaluator\n",
    "# from flurs.data.entity import User, Item, Event\n",
    "\n",
    "import pandas_profiling\n",
    "\n",
    "%matplotlib inline"
   ]
  },
  {
   "cell_type": "code",
   "execution_count": null,
   "metadata": {
    "collapsed": true
   },
   "outputs": [],
   "source": [
    "movies_df = pd.read_csv(r\"ml-1m\\movies.dat\", delimiter=\"::\", engine=\"python\",\n",
    "                        names=[\"id\", \"name\", \"genre\"], index_col=0, header=None)"
   ]
  },
  {
   "cell_type": "code",
   "execution_count": null,
   "metadata": {
    "collapsed": true
   },
   "outputs": [],
   "source": [
    "ratings_df = pd.read_csv(r\"ml-1m\\ratings.dat\", delimiter=\"::\", engine=\"python\", \n",
    "                        names=[\"user_id\", \"movie_id\", \"rating\", \"timestamp\"], header=None)"
   ]
  },
  {
   "cell_type": "code",
   "execution_count": null,
   "metadata": {
    "collapsed": true
   },
   "outputs": [],
   "source": [
    "users_df = pd.read_csv(r\"ml-1m\\users.dat\", delimiter=\"::\", engine=\"python\",\n",
    "                      names=[\"id\", \"gender\", \"age\", \"occupation\", \"zip\"], index_col=0, header=None)"
   ]
  },
  {
   "cell_type": "markdown",
   "metadata": {},
   "source": [
    "### EDA"
   ]
  },
  {
   "cell_type": "markdown",
   "metadata": {},
   "source": [
    "#### Movies"
   ]
  },
  {
   "cell_type": "code",
   "execution_count": null,
   "metadata": {},
   "outputs": [],
   "source": [
    "movies_df.head()"
   ]
  },
  {
   "cell_type": "code",
   "execution_count": null,
   "metadata": {},
   "outputs": [],
   "source": [
    "movies_df.info()"
   ]
  },
  {
   "cell_type": "markdown",
   "metadata": {},
   "source": [
    "Genre field doesn't look too convinient to work with, let's replace it with a set"
   ]
  },
  {
   "cell_type": "code",
   "execution_count": null,
   "metadata": {
    "collapsed": true
   },
   "outputs": [],
   "source": [
    "movies_df[\"genre\"] = movies_df.genre.apply(lambda x: frozenset(x.split(\"|\")))"
   ]
  },
  {
   "cell_type": "code",
   "execution_count": null,
   "metadata": {},
   "outputs": [],
   "source": [
    "len(movies_df.genre.unique())"
   ]
  },
  {
   "cell_type": "code",
   "execution_count": null,
   "metadata": {
    "collapsed": true
   },
   "outputs": [],
   "source": [
    "class set_plus(set):\n",
    "    def __init__(self, s):\n",
    "        self.__set = s\n",
    "    \n",
    "    def __add__(self, other):\n",
    "        return self.__set | other\n",
    "    \n",
    "    def __radd__(self, other):\n",
    "        return self.__add__(other)"
   ]
  },
  {
   "cell_type": "code",
   "execution_count": null,
   "metadata": {},
   "outputs": [],
   "source": [
    "all_unique_genres = movies_df.genre.apply(lambda x: set_plus(x)).sum()\n",
    "print(\" \".join(all_unique_genres))\n",
    "print(len(all_unique_genres))"
   ]
  },
  {
   "cell_type": "code",
   "execution_count": null,
   "metadata": {},
   "outputs": [],
   "source": [
    "movies_df.genre.apply(lambda x: len(x & all_unique_genres)).hist()"
   ]
  },
  {
   "cell_type": "markdown",
   "metadata": {},
   "source": [
    "Users"
   ]
  },
  {
   "cell_type": "code",
   "execution_count": null,
   "metadata": {},
   "outputs": [],
   "source": [
    "users_df.head()"
   ]
  },
  {
   "cell_type": "code",
   "execution_count": null,
   "metadata": {},
   "outputs": [],
   "source": [
    "users_df.info()"
   ]
  },
  {
   "cell_type": "code",
   "execution_count": null,
   "metadata": {},
   "outputs": [],
   "source": [
    "len(users_df.occupation.unique())"
   ]
  },
  {
   "cell_type": "code",
   "execution_count": null,
   "metadata": {},
   "outputs": [],
   "source": [
    "users_df.groupby(\"age\").age.agg([\"count\"]).plot(kind=\"bar\")"
   ]
  },
  {
   "cell_type": "code",
   "execution_count": null,
   "metadata": {},
   "outputs": [],
   "source": [
    "users_df.groupby(\"occupation\").occupation.agg([\"count\"]).plot(kind=\"bar\")"
   ]
  },
  {
   "cell_type": "code",
   "execution_count": null,
   "metadata": {},
   "outputs": [],
   "source": [
    "users_df.groupby(\"gender\").gender.agg([\"count\"]).plot(kind=\"bar\")"
   ]
  },
  {
   "cell_type": "markdown",
   "metadata": {},
   "source": [
    "Ratings"
   ]
  },
  {
   "cell_type": "code",
   "execution_count": null,
   "metadata": {},
   "outputs": [],
   "source": [
    "ratings_df.head()"
   ]
  },
  {
   "cell_type": "code",
   "execution_count": null,
   "metadata": {},
   "outputs": [],
   "source": [
    "ratings_df.info()"
   ]
  },
  {
   "cell_type": "code",
   "execution_count": null,
   "metadata": {},
   "outputs": [],
   "source": [
    "ratings_df.groupby(\"user_id\").user_id.agg([\"count\"]).hist(bins=100)"
   ]
  },
  {
   "cell_type": "code",
   "execution_count": null,
   "metadata": {},
   "outputs": [],
   "source": [
    "np.log(ratings_df.groupby(\"user_id\").user_id.agg([\"count\"])).hist(bins=100)"
   ]
  },
  {
   "cell_type": "code",
   "execution_count": null,
   "metadata": {},
   "outputs": [],
   "source": [
    "ratings_df.groupby(\"movie_id\").movie_id.agg([\"count\"]).hist(bins=100)"
   ]
  },
  {
   "cell_type": "code",
   "execution_count": null,
   "metadata": {},
   "outputs": [],
   "source": [
    "np.log(ratings_df.groupby(\"movie_id\").movie_id.agg([\"count\"])).hist(bins=100)"
   ]
  },
  {
   "cell_type": "code",
   "execution_count": null,
   "metadata": {},
   "outputs": [],
   "source": [
    "mean_rating = ratings_df.rating.mean()\n",
    "mean_rating"
   ]
  },
  {
   "cell_type": "code",
   "execution_count": null,
   "metadata": {},
   "outputs": [],
   "source": [
    "movies_diff_with_mean = ratings_df.groupby(\"movie_id\").rating.mean() - mean_rating\n",
    "movies_diff_with_mean.hist(bins=100)"
   ]
  },
  {
   "cell_type": "code",
   "execution_count": null,
   "metadata": {},
   "outputs": [],
   "source": [
    "movies_diff_with_mean.describe()"
   ]
  },
  {
   "cell_type": "code",
   "execution_count": null,
   "metadata": {},
   "outputs": [],
   "source": [
    "sum(abs(movies_diff_with_mean) <= 0.5) / len(movies_diff_with_mean)"
   ]
  },
  {
   "cell_type": "code",
   "execution_count": null,
   "metadata": {},
   "outputs": [],
   "source": [
    "users_diff_with_mean = ratings_df.groupby(\"user_id\").rating.mean() - mean_rating\n",
    "users_diff_with_mean.hist(bins=100)"
   ]
  },
  {
   "cell_type": "code",
   "execution_count": null,
   "metadata": {},
   "outputs": [],
   "source": [
    "users_diff_with_mean.describe()"
   ]
  },
  {
   "cell_type": "code",
   "execution_count": null,
   "metadata": {},
   "outputs": [],
   "source": [
    "sum(abs(users_diff_with_mean) <= 0.5) / len(users_diff_with_mean)"
   ]
  },
  {
   "cell_type": "code",
   "execution_count": null,
   "metadata": {
    "collapsed": true
   },
   "outputs": [],
   "source": [
    "df = users_df.merge(ratings_df, left_index=True, right_on=\"user_id\").merge(movies_df, left_on=\"movie_id\", right_index=True)"
   ]
  },
  {
   "cell_type": "code",
   "execution_count": null,
   "metadata": {
    "collapsed": true
   },
   "outputs": [],
   "source": [
    "def get_interactions(df):\n",
    "    max_user_id_plus_one = df.user_id.max() + 1\n",
    "    max_movie_id_plus_one = df.movie_id.max() + 1\n",
    "    \n",
    "    interactions = sp.lil_matrix((max_user_id_plus_one, max_movie_id_plus_one), dtype=np.float32)\n",
    "    \n",
    "    for row in df.itertuples():\n",
    "        user_id = row.user_id\n",
    "        movie_id = row.movie_id\n",
    "        rating = row.rating\n",
    "        \n",
    "        interactions[user_id, movie_id] = rating\n",
    "#         if rating >= 4.0:\n",
    "#             interactions[user_id, movie_id] = 1.0\n",
    "#         else:\n",
    "#             interactions[user_id, movie_id] = -1.0\n",
    "    \n",
    "    return interactions.tocsr()"
   ]
  },
  {
   "cell_type": "code",
   "execution_count": null,
   "metadata": {
    "collapsed": true
   },
   "outputs": [],
   "source": [
    "def get_users_meta(df):\n",
    "    max_user_id_plus_one = df.user_id.max() + 1\n",
    "    \n",
    "    unique_genders = sorted(df.gender.unique())\n",
    "    genders_map = dict(zip(unique_genders, range(len(unique_genders))))\n",
    "    \n",
    "    unique_ages = sorted(df.age.unique())\n",
    "    ages_map = dict(zip(unique_ages, range(len(unique_ages))))\n",
    "    \n",
    "    unique_occupations = sorted(df.occupation.unique())\n",
    "    occupations_map = dict(zip(unique_occupations, range(len(unique_occupations))))\n",
    "    \n",
    "    genders = sp.lil_matrix((max_user_id_plus_one, len(unique_genders)), dtype=np.float32)\n",
    "    ages = sp.lil_matrix((max_user_id_plus_one, len(unique_ages)))\n",
    "    occupations = sp.lil_matrix((max_user_id_plus_one, len(unique_occupations)))\n",
    "    identity = sp.identity(max_user_id_plus_one, format='csr', dtype=np.float32) # identity matrix makes model more expressive\n",
    "    \n",
    "    for row in df.itertuples():\n",
    "        user_id = row.user_id\n",
    "        gender = row.gender\n",
    "        age = row.age\n",
    "        occupation = row.occupation\n",
    "        \n",
    "        gender_index = genders_map[gender]\n",
    "        age_index = ages_map[age]\n",
    "        occupation_index = occupations_map[occupation]\n",
    "        \n",
    "        genders[user_id, gender_index] = 1.0\n",
    "        ages[user_id, age_index] = 1.0\n",
    "        occupations[user_id, occupation_index] = 1.0\n",
    "        \n",
    "#     return sp.hstack([genders, ages, occupations]).tocsr(), {\"genders\": genders_map, \"ages\": ages_map, \"occupations\": occupations_map}\n",
    "    return sp.hstack([genders, ages, occupations, identity]).tocsr(), {\"genders\": genders_map, \"ages\": ages_map, \"occupations\": occupations_map}"
   ]
  },
  {
   "cell_type": "code",
   "execution_count": null,
   "metadata": {
    "collapsed": true
   },
   "outputs": [],
   "source": [
    "def get_movies_meta(df):\n",
    "    max_movie_id_plus_one = df.movie_id.max() + 1\n",
    "\n",
    "    unique_genres = sorted(df.genre.apply(lambda x: set_plus(x)).sum())\n",
    "    genres_map = dict(zip(unique_genres, range(len(unique_genres))))\n",
    "    \n",
    "    genres = sp.lil_matrix((max_movie_id_plus_one, len(unique_genres)), dtype=np.float32)\n",
    "    identity = sp.identity(max_movie_id_plus_one, format='csr', dtype=np.float32)\n",
    "    \n",
    "    for row in df.itertuples():\n",
    "        movie_id = row.movie_id\n",
    "        genre = row.genre\n",
    "        \n",
    "        for g in genre:\n",
    "            genre_index = genres_map[g]\n",
    "            genres[movie_id, genre_index] = 1.0\n",
    "    \n",
    "    return sp.hstack([genres, identity]).tocsr(), {\"genre\": genres_map}\n",
    "#     return genres.tocsr(), {\"genre\": genres_map}"
   ]
  },
  {
   "cell_type": "code",
   "execution_count": null,
   "metadata": {
    "collapsed": true
   },
   "outputs": [],
   "source": [
    "interactions = get_interactions(df)\n",
    "users_meta, user_meta_maps = get_users_meta(df)\n",
    "movies_meta, movies_meta_maps = get_movies_meta(df)"
   ]
  },
  {
   "cell_type": "code",
   "execution_count": null,
   "metadata": {
    "collapsed": true
   },
   "outputs": [],
   "source": [
    "from lightfm import LightFM, cross_validation, evaluation"
   ]
  },
  {
   "cell_type": "code",
   "execution_count": null,
   "metadata": {
    "collapsed": true
   },
   "outputs": [],
   "source": [
    "def prepare_model(interactions, users_meta, movies_meta, model=None):\n",
    "    partial = model is not None\n",
    "    \n",
    "    if partial:\n",
    "        new_model = model.fit_partial(interactions=interactions, user_features=users_meta, item_features=movies_meta)\n",
    "    else:\n",
    "        np.random.seed(0)\n",
    "        train, test = cross_validation.random_train_test_split(interactions, test_percentage=0.2, random_state=np.random)\n",
    "        lfm = LightFM(loss=\"warp\", no_components=100, max_sampled=100)    \n",
    "        new_model = lfm.fit(interactions=train, user_features=users_meta, item_features=movies_meta, epochs=20)\n",
    "        \n",
    "        train_auc = evaluation.auc_score(new_model, train, user_features=users_meta, item_features=movies_meta)\n",
    "        test_auc = evaluation.auc_score(new_model, test, user_features=users_meta, item_features=movies_meta)\n",
    "        train_precision_at_10 = evaluation.precision_at_k(new_model, train, user_features=users_meta, item_features=movies_meta, k=10)\n",
    "        test_precision_at_10 = evaluation.precision_at_k(new_model, test, user_features=users_meta, item_features=movies_meta, k=10)\n",
    "        train_recall_at_10 = evaluation.recall_at_k(new_model, train, user_features=users_meta, item_features=movies_meta, k=10)\n",
    "        test_recall_at_10 = evaluation.recall_at_k(new_model, test, user_features=users_meta, item_features=movies_meta, k=10)\n",
    "    \n",
    "        print(\"AUC\\n\\ttrain: {}\\n\\ttest: {}\".format(train_auc.mean(), test_auc.mean()))\n",
    "        print(\"Precision (percentage of relevant items in prediction) at 10\\n\\ttrain: {}\\n\\ttest: {}\"\n",
    "              .format(train_precision_at_10.mean(), test_precision_at_10.mean()))\n",
    "        print(\"Recall (number of  relevant items in prediction / total number of relevant items) at 10\\n\\ttrain: {}\\n\\ttest: {}\"\n",
    "              .format(train_recall_at_10.mean(), test_recall_at_10.mean()))\n",
    "    \n",
    "    return new_model"
   ]
  },
  {
   "cell_type": "code",
   "execution_count": null,
   "metadata": {},
   "outputs": [],
   "source": [
    "model = prepare_model(interactions, users_meta, movies_meta)\n",
    "# lfm = LightFM(loss=\"warp\", no_components=10, max_sampled=10)#, k=5, n=10, learning_schedule=’adagrad’, loss=’logistic’, learning_rate=0.05, rho=0.95, epsilon=1e-06, item_alpha=0.0, user_alpha=0.0, max_sampled=10, random_state=None)\n",
    "\n",
    "# np.random.seed(0)\n",
    "# train, test = cross_validation.random_train_test_split(interactions, test_percentage=0.2, random_state=np.random)\n",
    "\n",
    "# model = lfm.fit(interactions=train, user_features=users_meta, item_features=movies_meta, epochs=20)"
   ]
  },
  {
   "cell_type": "code",
   "execution_count": null,
   "metadata": {
    "collapsed": true
   },
   "outputs": [],
   "source": [
    "def get_top_10(df, min_ratings):\n",
    "    means_and_counts = df.groupby(\"name\").agg({\"rating\": [\"mean\", \"count\"]})\n",
    "    top = means_and_counts[means_and_counts.rating[\"count\"] >= min_ratings].sort_values((\"rating\", \"mean\"), ascending=False)\n",
    "    return list(top.head(10).index)"
   ]
  },
  {
   "cell_type": "code",
   "execution_count": null,
   "metadata": {
    "collapsed": true
   },
   "outputs": [],
   "source": [
    "def add_new_user(gender, age, occupation, users_meta, user_meta_maps, interactions, for_full_refit=False):\n",
    "    new_user = sp.lil_matrix((1, users_meta.shape[1]), dtype=np.float32)\n",
    "    new_user[0, user_meta_maps[\"genders\"][gender]] = 1.0\n",
    "    new_user[0, len(user_meta_maps[\"genders\"]) + user_meta_maps[\"ages\"][age]] = 1.0\n",
    "    new_user[0, len(user_meta_maps[\"genders\"]) + len(user_meta_maps[\"ages\"]) + user_meta_maps[\"occupations\"][occupation]] = 1.0\n",
    "    \n",
    "    new_users_meta = sp.vstack([users_meta, new_user])\n",
    "    new_interactions = sp.vstack([interactions, sp.lil_matrix((1, interactions.shape[1]))])\n",
    "    \n",
    "    # identity feature improves model's prediction ability, but makes fit_partial impossible\n",
    "    if for_full_refit:\n",
    "        new_user_identity = sp.lil_matrix((new_users_meta.shape[0], 1), dtype=np.float32)\n",
    "        new_user_identity[-1, 0] = 1.0\n",
    "        new_users_meta = sp.hstack([new_users_meta, new_user_identity])\n",
    "    \n",
    "    return (new_users_meta.shape[0] - 1, new_users_meta, new_interactions)"
   ]
  },
  {
   "cell_type": "code",
   "execution_count": null,
   "metadata": {
    "collapsed": true
   },
   "outputs": [],
   "source": [
    "def add_ratings_for_user_manual(user_id, interactions, movies_df):\n",
    "    print(\"1-5 to rate a movie, 0 to skip, anything else to stop\")\n",
    "    new_interactions = interactions.tolil()\n",
    "    while True:\n",
    "        movie_id = np.random.choice(movies_df.index)\n",
    "        title = df.loc[movie_id][\"name\"]\n",
    "        rating = float(input(title + \": \"))\n",
    "        if rating <= 0.0 or rating >= 5.0:\n",
    "            break\n",
    "        elif rating == 0.0:\n",
    "            continue\n",
    "               \n",
    "        new_interactions[user_id, movie_id] = rating\n",
    "    return new_interactions.tocsr()"
   ]
  },
  {
   "cell_type": "code",
   "execution_count": null,
   "metadata": {
    "collapsed": true
   },
   "outputs": [],
   "source": [
    "def add_ratings_for_user(n, user_id, interactions, movies_df):\n",
    "    new_interactions = interactions.tolil()\n",
    "    for _ in range(n):\n",
    "        movie_id = np.random.choice(movies_df.index)\n",
    "        rating = np.random.randint(1, 5)\n",
    "        new_interactions[user_id, movie_id] = rating\n",
    "        \n",
    "    return new_interactions.tocsr()"
   ]
  },
  {
   "cell_type": "code",
   "execution_count": null,
   "metadata": {
    "collapsed": true
   },
   "outputs": [],
   "source": [
    "new_user_id, new_users_meta, new_interactions_empty = add_new_user(\"M\", 25, 12, users_meta, user_meta_maps, interactions)\n",
    "new_model = prepare_model(new_interactions_empty, new_users_meta, movies_meta, model)"
   ]
  },
  {
   "cell_type": "code",
   "execution_count": null,
   "metadata": {},
   "outputs": [],
   "source": [
    "predictions_without_ratigs = new_model.predict(new_user_id, np.array(range(new_interactions_empty.shape[1])), \n",
    "                                               user_features=new_users_meta, \n",
    "                                               item_features=movies_meta)\n",
    "\n",
    "print (\"Top-10 recommended movies without any ratings from the new user\\n\")\n",
    "for ind, movie_id in enumerate(predictions_without_ratigs.argsort()[-20:][::-1]):\n",
    "    print(ind+1, movies_df.loc[movie_id][\"name\"])"
   ]
  },
  {
   "cell_type": "code",
   "execution_count": null,
   "metadata": {},
   "outputs": [],
   "source": [
    "new_interactions = add_ratings_for_user_manual(new_user_id, dummy_interactions, movies_df)"
   ]
  },
  {
   "cell_type": "code",
   "execution_count": null,
   "metadata": {},
   "outputs": [],
   "source": [
    "new_model_with_ratings = prepare_model(new_interactions, new_users_meta, movies_meta, model)\n",
    "predictions_with_ratings = new_model_with_ratings.predict(new_user_id, np.array(range(new_new.shape[1])), \n",
    "                                                            user_features=new_users_meta, \n",
    "                                                            item_features=movies_meta)\n",
    "\n",
    "print (\"Top-10 recommended movies with ratings from the new user\\n\")\n",
    "for ind, movie_id in enumerate(predictions_with_ratings.argsort()[-20:][::-1]):\n",
    "    print(ind+1, movies_df.loc[movie_id][\"name\"])"
   ]
  }
 ],
 "metadata": {
  "kernelspec": {
   "display_name": "Python 3",
   "language": "python",
   "name": "python3"
  },
  "language_info": {
   "codemirror_mode": {
    "name": "ipython",
    "version": 3
   },
   "file_extension": ".py",
   "mimetype": "text/x-python",
   "name": "python",
   "nbconvert_exporter": "python",
   "pygments_lexer": "ipython3",
   "version": "3.6.2"
  }
 },
 "nbformat": 4,
 "nbformat_minor": 2
}
