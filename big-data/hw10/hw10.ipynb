{
 "cells": [
  {
   "cell_type": "code",
   "execution_count": 1,
   "metadata": {},
   "outputs": [
    {
     "name": "stderr",
     "output_type": "stream",
     "text": [
      "/Users/afetisov/anaconda/envs/BD/lib/python3.6/site-packages/lightfm/_lightfm_fast.py:9: UserWarning: LightFM was compiled without OpenMP support. Only a single thread will be used.\n",
      "  warnings.warn('LightFM was compiled without OpenMP support. '\n"
     ]
    }
   ],
   "source": [
    "import numpy as np\n",
    "import pandas as pd\n",
    "import matplotlib\n",
    "import scipy.sparse as sp\n",
    "from lightfm import LightFM, cross_validation, evaluation\n",
    "\n",
    "%matplotlib inline"
   ]
  },
  {
   "cell_type": "code",
   "execution_count": 2,
   "metadata": {},
   "outputs": [],
   "source": [
    "movies_df = pd.read_csv(r\"ml-1m/movies.dat\", delimiter=\"::\", engine=\"python\",\n",
    "                        names=[\"id\", \"name\", \"genre\"], index_col=0, header=None)"
   ]
  },
  {
   "cell_type": "code",
   "execution_count": 3,
   "metadata": {},
   "outputs": [],
   "source": [
    "ratings_df = pd.read_csv(r\"ml-1m/ratings.dat\", delimiter=\"::\", engine=\"python\", \n",
    "                        names=[\"user_id\", \"movie_id\", \"rating\", \"timestamp\"], header=None)"
   ]
  },
  {
   "cell_type": "code",
   "execution_count": 4,
   "metadata": {},
   "outputs": [],
   "source": [
    "users_df = pd.read_csv(r\"ml-1m/users.dat\", delimiter=\"::\", engine=\"python\",\n",
    "                      names=[\"id\", \"gender\", \"age\", \"occupation\", \"zip\"], index_col=0, header=None)"
   ]
  },
  {
   "cell_type": "markdown",
   "metadata": {},
   "source": [
    "### EDA"
   ]
  },
  {
   "cell_type": "markdown",
   "metadata": {},
   "source": [
    "#### Movies"
   ]
  },
  {
   "cell_type": "code",
   "execution_count": 5,
   "metadata": {},
   "outputs": [
    {
     "data": {
      "text/html": [
       "<div>\n",
       "<style>\n",
       "    .dataframe thead tr:only-child th {\n",
       "        text-align: right;\n",
       "    }\n",
       "\n",
       "    .dataframe thead th {\n",
       "        text-align: left;\n",
       "    }\n",
       "\n",
       "    .dataframe tbody tr th {\n",
       "        vertical-align: top;\n",
       "    }\n",
       "</style>\n",
       "<table border=\"1\" class=\"dataframe\">\n",
       "  <thead>\n",
       "    <tr style=\"text-align: right;\">\n",
       "      <th></th>\n",
       "      <th>name</th>\n",
       "      <th>genre</th>\n",
       "    </tr>\n",
       "    <tr>\n",
       "      <th>id</th>\n",
       "      <th></th>\n",
       "      <th></th>\n",
       "    </tr>\n",
       "  </thead>\n",
       "  <tbody>\n",
       "    <tr>\n",
       "      <th>1</th>\n",
       "      <td>Toy Story (1995)</td>\n",
       "      <td>Animation|Children's|Comedy</td>\n",
       "    </tr>\n",
       "    <tr>\n",
       "      <th>2</th>\n",
       "      <td>Jumanji (1995)</td>\n",
       "      <td>Adventure|Children's|Fantasy</td>\n",
       "    </tr>\n",
       "    <tr>\n",
       "      <th>3</th>\n",
       "      <td>Grumpier Old Men (1995)</td>\n",
       "      <td>Comedy|Romance</td>\n",
       "    </tr>\n",
       "    <tr>\n",
       "      <th>4</th>\n",
       "      <td>Waiting to Exhale (1995)</td>\n",
       "      <td>Comedy|Drama</td>\n",
       "    </tr>\n",
       "    <tr>\n",
       "      <th>5</th>\n",
       "      <td>Father of the Bride Part II (1995)</td>\n",
       "      <td>Comedy</td>\n",
       "    </tr>\n",
       "  </tbody>\n",
       "</table>\n",
       "</div>"
      ],
      "text/plain": [
       "                                  name                         genre\n",
       "id                                                                  \n",
       "1                     Toy Story (1995)   Animation|Children's|Comedy\n",
       "2                       Jumanji (1995)  Adventure|Children's|Fantasy\n",
       "3              Grumpier Old Men (1995)                Comedy|Romance\n",
       "4             Waiting to Exhale (1995)                  Comedy|Drama\n",
       "5   Father of the Bride Part II (1995)                        Comedy"
      ]
     },
     "execution_count": 5,
     "metadata": {},
     "output_type": "execute_result"
    }
   ],
   "source": [
    "movies_df.head()"
   ]
  },
  {
   "cell_type": "code",
   "execution_count": 6,
   "metadata": {},
   "outputs": [
    {
     "name": "stdout",
     "output_type": "stream",
     "text": [
      "<class 'pandas.core.frame.DataFrame'>\n",
      "Int64Index: 3883 entries, 1 to 3952\n",
      "Data columns (total 2 columns):\n",
      "name     3883 non-null object\n",
      "genre    3883 non-null object\n",
      "dtypes: object(2)\n",
      "memory usage: 91.0+ KB\n"
     ]
    }
   ],
   "source": [
    "movies_df.info()"
   ]
  },
  {
   "cell_type": "markdown",
   "metadata": {},
   "source": [
    "Genre field doesn't look too convinient to work with, let's replace it with a set"
   ]
  },
  {
   "cell_type": "code",
   "execution_count": 7,
   "metadata": {},
   "outputs": [],
   "source": [
    "movies_df[\"genre\"] = movies_df.genre.apply(lambda x: frozenset(x.split(\"|\")))"
   ]
  },
  {
   "cell_type": "markdown",
   "metadata": {},
   "source": [
    "There're two possible approaches:  \n",
    "- treat every genre combination as a unique feature\n",
    "- treat every genre as a separate feature"
   ]
  },
  {
   "cell_type": "code",
   "execution_count": 8,
   "metadata": {},
   "outputs": [
    {
     "data": {
      "text/plain": [
       "301"
      ]
     },
     "execution_count": 8,
     "metadata": {},
     "output_type": "execute_result"
    }
   ],
   "source": [
    "len(movies_df.genre.unique())"
   ]
  },
  {
   "cell_type": "markdown",
   "metadata": {},
   "source": [
    "So there're 301 unique genre combinations"
   ]
  },
  {
   "cell_type": "markdown",
   "metadata": {},
   "source": [
    "A little helper class that will allow to sum over genres sets to get a set of all genres"
   ]
  },
  {
   "cell_type": "code",
   "execution_count": 9,
   "metadata": {},
   "outputs": [],
   "source": [
    "class set_plus(set):\n",
    "    def __init__(self, s):\n",
    "        self.__set = s\n",
    "    \n",
    "    def __add__(self, other):\n",
    "        return self.__set | other\n",
    "    \n",
    "    def __radd__(self, other):\n",
    "        return self.__add__(other)"
   ]
  },
  {
   "cell_type": "code",
   "execution_count": 10,
   "metadata": {},
   "outputs": [
    {
     "name": "stdout",
     "output_type": "stream",
     "text": [
      "Film-Noir Animation Fantasy Crime War Drama Horror Documentary Musical Western Sci-Fi Adventure Children's Mystery Comedy Action Romance Thriller\n",
      "18\n"
     ]
    }
   ],
   "source": [
    "all_unique_genres = movies_df.genre.apply(lambda x: set_plus(x)).sum()\n",
    "print(\" \".join(all_unique_genres))\n",
    "print(len(all_unique_genres))"
   ]
  },
  {
   "cell_type": "markdown",
   "metadata": {},
   "source": [
    "And only 18 genres  \n",
    "For the sake of performance, it's better to go the latter way"
   ]
  },
  {
   "cell_type": "markdown",
   "metadata": {},
   "source": [
    "A quick glance into genres count per movie"
   ]
  },
  {
   "cell_type": "code",
   "execution_count": 11,
   "metadata": {},
   "outputs": [
    {
     "data": {
      "text/plain": [
       "<matplotlib.axes._subplots.AxesSubplot at 0x10b25fe10>"
      ]
     },
     "execution_count": 11,
     "metadata": {},
     "output_type": "execute_result"
    },
    {
     "data": {
      "image/png": "[encoded data removed]",
      "text/plain": [
       "<matplotlib.figure.Figure at 0x10b25fb00>"
      ]
     },
     "metadata": {},
     "output_type": "display_data"
    }
   ],
   "source": [
    "movies_df.genre.apply(lambda x: len(x)).hist()"
   ]
  },
  {
   "cell_type": "markdown",
   "metadata": {},
   "source": [
    "#### Users"
   ]
  },
  {
   "cell_type": "code",
   "execution_count": 12,
   "metadata": {},
   "outputs": [
    {
     "data": {
      "text/html": [
       "<div>\n",
       "<style>\n",
       "    .dataframe thead tr:only-child th {\n",
       "        text-align: right;\n",
       "    }\n",
       "\n",
       "    .dataframe thead th {\n",
       "        text-align: left;\n",
       "    }\n",
       "\n",
       "    .dataframe tbody tr th {\n",
       "        vertical-align: top;\n",
       "    }\n",
       "</style>\n",
       "<table border=\"1\" class=\"dataframe\">\n",
       "  <thead>\n",
       "    <tr style=\"text-align: right;\">\n",
       "      <th></th>\n",
       "      <th>gender</th>\n",
       "      <th>age</th>\n",
       "      <th>occupation</th>\n",
       "      <th>zip</th>\n",
       "    </tr>\n",
       "    <tr>\n",
       "      <th>id</th>\n",
       "      <th></th>\n",
       "      <th></th>\n",
       "      <th></th>\n",
       "      <th></th>\n",
       "    </tr>\n",
       "  </thead>\n",
       "  <tbody>\n",
       "    <tr>\n",
       "      <th>1</th>\n",
       "      <td>F</td>\n",
       "      <td>1</td>\n",
       "      <td>10</td>\n",
       "      <td>48067</td>\n",
       "    </tr>\n",
       "    <tr>\n",
       "      <th>2</th>\n",
       "      <td>M</td>\n",
       "      <td>56</td>\n",
       "      <td>16</td>\n",
       "      <td>70072</td>\n",
       "    </tr>\n",
       "    <tr>\n",
       "      <th>3</th>\n",
       "      <td>M</td>\n",
       "      <td>25</td>\n",
       "      <td>15</td>\n",
       "      <td>55117</td>\n",
       "    </tr>\n",
       "    <tr>\n",
       "      <th>4</th>\n",
       "      <td>M</td>\n",
       "      <td>45</td>\n",
       "      <td>7</td>\n",
       "      <td>02460</td>\n",
       "    </tr>\n",
       "    <tr>\n",
       "      <th>5</th>\n",
       "      <td>M</td>\n",
       "      <td>25</td>\n",
       "      <td>20</td>\n",
       "      <td>55455</td>\n",
       "    </tr>\n",
       "  </tbody>\n",
       "</table>\n",
       "</div>"
      ],
      "text/plain": [
       "   gender  age  occupation    zip\n",
       "id                               \n",
       "1       F    1          10  48067\n",
       "2       M   56          16  70072\n",
       "3       M   25          15  55117\n",
       "4       M   45           7  02460\n",
       "5       M   25          20  55455"
      ]
     },
     "execution_count": 12,
     "metadata": {},
     "output_type": "execute_result"
    }
   ],
   "source": [
    "users_df.head()"
   ]
  },
  {
   "cell_type": "code",
   "execution_count": 13,
   "metadata": {},
   "outputs": [
    {
     "name": "stdout",
     "output_type": "stream",
     "text": [
      "<class 'pandas.core.frame.DataFrame'>\n",
      "Int64Index: 6040 entries, 1 to 6040\n",
      "Data columns (total 4 columns):\n",
      "gender        6040 non-null object\n",
      "age           6040 non-null int64\n",
      "occupation    6040 non-null int64\n",
      "zip           6040 non-null object\n",
      "dtypes: int64(2), object(2)\n",
      "memory usage: 235.9+ KB\n"
     ]
    }
   ],
   "source": [
    "users_df.info()"
   ]
  },
  {
   "cell_type": "markdown",
   "metadata": {},
   "source": [
    "##### Age"
   ]
  },
  {
   "cell_type": "code",
   "execution_count": 14,
   "metadata": {},
   "outputs": [
    {
     "data": {
      "text/plain": [
       "<matplotlib.axes._subplots.AxesSubplot at 0x10b3049b0>"
      ]
     },
     "execution_count": 14,
     "metadata": {},
     "output_type": "execute_result"
    },
    {
     "data": {
      "image/png": "[encoded data removed]",
      "text/plain": [
       "<matplotlib.figure.Figure at 0x10b2ffb38>"
      ]
     },
     "metadata": {},
     "output_type": "display_data"
    }
   ],
   "source": [
    "users_df.groupby(\"age\").age.agg([\"count\"]).plot(kind=\"bar\")"
   ]
  },
  {
   "cell_type": "markdown",
   "metadata": {},
   "source": [
    "##### Occupation"
   ]
  },
  {
   "cell_type": "code",
   "execution_count": 15,
   "metadata": {},
   "outputs": [
    {
     "data": {
      "text/plain": [
       "<matplotlib.axes._subplots.AxesSubplot at 0x11c221ba8>"
      ]
     },
     "execution_count": 15,
     "metadata": {},
     "output_type": "execute_result"
    },
    {
     "data": {
      "image/png": "[encoded data removed]",
      "text/plain": [
       "<matplotlib.figure.Figure at 0x11c2223c8>"
      ]
     },
     "metadata": {},
     "output_type": "display_data"
    }
   ],
   "source": [
    "users_df.groupby(\"occupation\").occupation.agg([\"count\"]).plot(kind=\"bar\")"
   ]
  },
  {
   "cell_type": "markdown",
   "metadata": {},
   "source": [
    "##### Gender"
   ]
  },
  {
   "cell_type": "code",
   "execution_count": 16,
   "metadata": {},
   "outputs": [
    {
     "data": {
      "text/plain": [
       "<matplotlib.axes._subplots.AxesSubplot at 0x11ad9f048>"
      ]
     },
     "execution_count": 16,
     "metadata": {},
     "output_type": "execute_result"
    },
    {
     "data": {
      "image/png": "[encoded data removed]",
      "text/plain": [
       "<matplotlib.figure.Figure at 0x11ad8ddd8>"
      ]
     },
     "metadata": {},
     "output_type": "display_data"
    }
   ],
   "source": [
    "users_df.groupby(\"gender\").gender.agg([\"count\"]).plot(kind=\"bar\")"
   ]
  },
  {
   "cell_type": "markdown",
   "metadata": {},
   "source": [
    "#### Ratings"
   ]
  },
  {
   "cell_type": "code",
   "execution_count": 17,
   "metadata": {},
   "outputs": [
    {
     "data": {
      "text/html": [
       "<div>\n",
       "<style>\n",
       "    .dataframe thead tr:only-child th {\n",
       "        text-align: right;\n",
       "    }\n",
       "\n",
       "    .dataframe thead th {\n",
       "        text-align: left;\n",
       "    }\n",
       "\n",
       "    .dataframe tbody tr th {\n",
       "        vertical-align: top;\n",
       "    }\n",
       "</style>\n",
       "<table border=\"1\" class=\"dataframe\">\n",
       "  <thead>\n",
       "    <tr style=\"text-align: right;\">\n",
       "      <th></th>\n",
       "      <th>user_id</th>\n",
       "      <th>movie_id</th>\n",
       "      <th>rating</th>\n",
       "      <th>timestamp</th>\n",
       "    </tr>\n",
       "  </thead>\n",
       "  <tbody>\n",
       "    <tr>\n",
       "      <th>0</th>\n",
       "      <td>1</td>\n",
       "      <td>1193</td>\n",
       "      <td>5</td>\n",
       "      <td>978300760</td>\n",
       "    </tr>\n",
       "    <tr>\n",
       "      <th>1</th>\n",
       "      <td>1</td>\n",
       "      <td>661</td>\n",
       "      <td>3</td>\n",
       "      <td>978302109</td>\n",
       "    </tr>\n",
       "    <tr>\n",
       "      <th>2</th>\n",
       "      <td>1</td>\n",
       "      <td>914</td>\n",
       "      <td>3</td>\n",
       "      <td>978301968</td>\n",
       "    </tr>\n",
       "    <tr>\n",
       "      <th>3</th>\n",
       "      <td>1</td>\n",
       "      <td>3408</td>\n",
       "      <td>4</td>\n",
       "      <td>978300275</td>\n",
       "    </tr>\n",
       "    <tr>\n",
       "      <th>4</th>\n",
       "      <td>1</td>\n",
       "      <td>2355</td>\n",
       "      <td>5</td>\n",
       "      <td>978824291</td>\n",
       "    </tr>\n",
       "  </tbody>\n",
       "</table>\n",
       "</div>"
      ],
      "text/plain": [
       "   user_id  movie_id  rating  timestamp\n",
       "0        1      1193       5  978300760\n",
       "1        1       661       3  978302109\n",
       "2        1       914       3  978301968\n",
       "3        1      3408       4  978300275\n",
       "4        1      2355       5  978824291"
      ]
     },
     "execution_count": 17,
     "metadata": {},
     "output_type": "execute_result"
    }
   ],
   "source": [
    "ratings_df.head()"
   ]
  },
  {
   "cell_type": "code",
   "execution_count": 18,
   "metadata": {},
   "outputs": [
    {
     "name": "stdout",
     "output_type": "stream",
     "text": [
      "<class 'pandas.core.frame.DataFrame'>\n",
      "RangeIndex: 1000209 entries, 0 to 1000208\n",
      "Data columns (total 4 columns):\n",
      "user_id      1000209 non-null int64\n",
      "movie_id     1000209 non-null int64\n",
      "rating       1000209 non-null int64\n",
      "timestamp    1000209 non-null int64\n",
      "dtypes: int64(4)\n",
      "memory usage: 30.5 MB\n"
     ]
    }
   ],
   "source": [
    "ratings_df.info()"
   ]
  },
  {
   "cell_type": "markdown",
   "metadata": {},
   "source": [
    "##### Ratings count per user"
   ]
  },
  {
   "cell_type": "code",
   "execution_count": 19,
   "metadata": {},
   "outputs": [
    {
     "data": {
      "text/plain": [
       "array([[<matplotlib.axes._subplots.AxesSubplot object at 0x1174819b0>]], dtype=object)"
      ]
     },
     "execution_count": 19,
     "metadata": {},
     "output_type": "execute_result"
    },
    {
     "data": {
      "image/png": "[encoded data removed]",
      "text/plain": [
       "<matplotlib.figure.Figure at 0x11747c908>"
      ]
     },
     "metadata": {},
     "output_type": "display_data"
    }
   ],
   "source": [
    "ratings_df.groupby(\"user_id\").user_id.agg([\"count\"]).hist(bins=100)"
   ]
  },
  {
   "cell_type": "code",
   "execution_count": 20,
   "metadata": {},
   "outputs": [
    {
     "data": {
      "text/plain": [
       "array([[<matplotlib.axes._subplots.AxesSubplot object at 0x117454a20>]], dtype=object)"
      ]
     },
     "execution_count": 20,
     "metadata": {},
     "output_type": "execute_result"
    },
    {
     "data": {
      "image/png": "[encoded data removed]",
      "text/plain": [
       "<matplotlib.figure.Figure at 0x11747ea20>"
      ]
     },
     "metadata": {},
     "output_type": "display_data"
    }
   ],
   "source": [
    "ratings_df.groupby(\"user_id\").user_id.agg([\"count\"]).hist(bins=100, log=True)"
   ]
  },
  {
   "cell_type": "markdown",
   "metadata": {},
   "source": [
    "##### Ratings count per movie"
   ]
  },
  {
   "cell_type": "code",
   "execution_count": 21,
   "metadata": {},
   "outputs": [
    {
     "data": {
      "text/plain": [
       "array([[<matplotlib.axes._subplots.AxesSubplot object at 0x11c1d3ef0>]], dtype=object)"
      ]
     },
     "execution_count": 21,
     "metadata": {},
     "output_type": "execute_result"
    },
    {
     "data": {
      "image/png": "[encoded data removed]",
      "text/plain": [
       "<matplotlib.figure.Figure at 0x11654e6a0>"
      ]
     },
     "metadata": {},
     "output_type": "display_data"
    }
   ],
   "source": [
    "ratings_df.groupby(\"movie_id\").movie_id.agg([\"count\"]).hist(bins=100)"
   ]
  },
  {
   "cell_type": "code",
   "execution_count": 22,
   "metadata": {},
   "outputs": [
    {
     "data": {
      "text/plain": [
       "array([[<matplotlib.axes._subplots.AxesSubplot object at 0x11c1d3320>]], dtype=object)"
      ]
     },
     "execution_count": 22,
     "metadata": {},
     "output_type": "execute_result"
    },
    {
     "data": {
      "image/png": "[encoded data removed]",
      "text/plain": [
       "<matplotlib.figure.Figure at 0x1171b5e10>"
      ]
     },
     "metadata": {},
     "output_type": "display_data"
    }
   ],
   "source": [
    "ratings_df.groupby(\"movie_id\").movie_id.agg([\"count\"]).hist(bins=100, log=True)"
   ]
  },
  {
   "cell_type": "markdown",
   "metadata": {},
   "source": [
    "##### Mean rating"
   ]
  },
  {
   "cell_type": "code",
   "execution_count": 23,
   "metadata": {},
   "outputs": [
    {
     "data": {
      "text/plain": [
       "3.5815644530293169"
      ]
     },
     "execution_count": 23,
     "metadata": {},
     "output_type": "execute_result"
    }
   ],
   "source": [
    "mean_rating = ratings_df.rating.mean()\n",
    "mean_rating"
   ]
  },
  {
   "cell_type": "markdown",
   "metadata": {},
   "source": [
    "##### Diif with mean rating distribution by movies"
   ]
  },
  {
   "cell_type": "code",
   "execution_count": 24,
   "metadata": {},
   "outputs": [
    {
     "data": {
      "text/plain": [
       "<matplotlib.axes._subplots.AxesSubplot at 0x1173a5908>"
      ]
     },
     "execution_count": 24,
     "metadata": {},
     "output_type": "execute_result"
    },
    {
     "data": {
      "image/png": "[encoded data removed]",
      "text/plain": [
       "<matplotlib.figure.Figure at 0x117131f98>"
      ]
     },
     "metadata": {},
     "output_type": "display_data"
    }
   ],
   "source": [
    "movies_diff_with_mean = ratings_df.groupby(\"movie_id\").rating.mean() - mean_rating\n",
    "movies_diff_with_mean.hist(bins=100)"
   ]
  },
  {
   "cell_type": "code",
   "execution_count": 25,
   "metadata": {},
   "outputs": [
    {
     "data": {
      "text/plain": [
       "count    3706.000000\n",
       "mean       -0.342672\n",
       "std         0.672925\n",
       "min        -2.581564\n",
       "25%        -0.758860\n",
       "50%        -0.250018\n",
       "75%         0.159176\n",
       "max         1.418436\n",
       "Name: rating, dtype: float64"
      ]
     },
     "execution_count": 25,
     "metadata": {},
     "output_type": "execute_result"
    }
   ],
   "source": [
    "movies_diff_with_mean.describe()"
   ]
  },
  {
   "cell_type": "markdown",
   "metadata": {},
   "source": [
    "IQR of movies' ratings difference with mean rating is 0.918036"
   ]
  },
  {
   "cell_type": "code",
   "execution_count": 26,
   "metadata": {},
   "outputs": [
    {
     "data": {
      "text/plain": [
       "0.55963302752293576"
      ]
     },
     "execution_count": 26,
     "metadata": {},
     "output_type": "execute_result"
    }
   ],
   "source": [
    "sum(abs(movies_diff_with_mean) <= 0.5) / len(movies_diff_with_mean)"
   ]
  },
  {
   "cell_type": "markdown",
   "metadata": {},
   "source": [
    "~56% of movies' ratings lie in an interval 3.58±0.5"
   ]
  },
  {
   "cell_type": "markdown",
   "metadata": {},
   "source": [
    "##### Mean rating by movie"
   ]
  },
  {
   "cell_type": "code",
   "execution_count": 27,
   "metadata": {},
   "outputs": [
    {
     "data": {
      "text/plain": [
       "array([[<matplotlib.axes._subplots.AxesSubplot object at 0x116683a90>]], dtype=object)"
      ]
     },
     "execution_count": 27,
     "metadata": {},
     "output_type": "execute_result"
    },
    {
     "data": {
      "image/png": "[encoded data removed]",
      "text/plain": [
       "<matplotlib.figure.Figure at 0x117fb0780>"
      ]
     },
     "metadata": {},
     "output_type": "display_data"
    }
   ],
   "source": [
    "ratings_df.groupby(\"movie_id\").agg({\"rating\" : \"mean\"}).hist(bins=100, log=True)"
   ]
  },
  {
   "cell_type": "markdown",
   "metadata": {},
   "source": [
    "##### Diif with mean rating distribution by users"
   ]
  },
  {
   "cell_type": "code",
   "execution_count": 28,
   "metadata": {},
   "outputs": [
    {
     "data": {
      "text/plain": [
       "<matplotlib.axes._subplots.AxesSubplot at 0x1183d3b38>"
      ]
     },
     "execution_count": 28,
     "metadata": {},
     "output_type": "execute_result"
    },
    {
     "data": {
      "image/png": "[encoded data removed]",
      "text/plain": [
       "<matplotlib.figure.Figure at 0x117e4ed68>"
      ]
     },
     "metadata": {},
     "output_type": "display_data"
    }
   ],
   "source": [
    "users_diff_with_mean = ratings_df.groupby(\"user_id\").rating.mean() - mean_rating\n",
    "users_diff_with_mean.hist(bins=100)"
   ]
  },
  {
   "cell_type": "code",
   "execution_count": 29,
   "metadata": {},
   "outputs": [
    {
     "data": {
      "text/plain": [
       "count    6040.000000\n",
       "mean        0.121140\n",
       "std         0.429622\n",
       "min        -2.566180\n",
       "25%        -0.137120\n",
       "50%         0.153730\n",
       "75%         0.418436\n",
       "max         1.381399\n",
       "Name: rating, dtype: float64"
      ]
     },
     "execution_count": 29,
     "metadata": {},
     "output_type": "execute_result"
    }
   ],
   "source": [
    "users_diff_with_mean.describe()"
   ]
  },
  {
   "cell_type": "markdown",
   "metadata": {},
   "source": [
    "IQR of users' ratings difference with mean rating is 0.555556"
   ]
  },
  {
   "cell_type": "code",
   "execution_count": 30,
   "metadata": {},
   "outputs": [
    {
     "data": {
      "text/plain": [
       "0.73261589403973515"
      ]
     },
     "execution_count": 30,
     "metadata": {},
     "output_type": "execute_result"
    }
   ],
   "source": [
    "sum(abs(users_diff_with_mean) <= 0.5) / len(users_diff_with_mean)"
   ]
  },
  {
   "cell_type": "markdown",
   "metadata": {},
   "source": [
    "~73% of users' ratings lie in an interval 3.58±0.5"
   ]
  },
  {
   "cell_type": "markdown",
   "metadata": {},
   "source": [
    "##### Mean rating by user"
   ]
  },
  {
   "cell_type": "code",
   "execution_count": 31,
   "metadata": {},
   "outputs": [
    {
     "data": {
      "text/plain": [
       "array([[<matplotlib.axes._subplots.AxesSubplot object at 0x1184b0f60>]], dtype=object)"
      ]
     },
     "execution_count": 31,
     "metadata": {},
     "output_type": "execute_result"
    },
    {
     "data": {
      "image/png": "[encoded data removed]",
      "text/plain": [
       "<matplotlib.figure.Figure at 0x11842a9b0>"
      ]
     },
     "metadata": {},
     "output_type": "display_data"
    }
   ],
   "source": [
    "ratings_df.groupby(\"user_id\").agg({\"rating\" : \"mean\"}).hist(bins=100, log=True)"
   ]
  },
  {
   "cell_type": "markdown",
   "metadata": {},
   "source": [
    "##### Movies, that everyone (dis)likes"
   ]
  },
  {
   "cell_type": "markdown",
   "metadata": {},
   "source": [
    "Let's define a criteria for \"everyone likes\" and \"everyone dislikes\".  \n",
    "First of all, \"everyone\". Obviously the entire population can't be \"everyone\", because not every member of this population is even aware about every single movie, let alone watching or rating it. So \"everyone\" in this context should mean \"every user that rated this movie\".  \n",
    "Next one, \"likes\". We have only one way of saying whether user likes something or not - rating, it makes sense to consider 4.0 and 5.0 as a \"like\". The same principle applies to \"dislikes\": 1.0 and 2.0 quite clearly indicate that a user doesn't like a movie.  \n",
    "Considering everything aforementioned, we define \"movie that everyone likes\" as a movie, that has no ratings other than 4.0 and 5.0 and \"movie that everyone dislikes\" as a movie, that has no ratings other than 1.0 and 2.0."
   ]
  },
  {
   "cell_type": "code",
   "execution_count": 32,
   "metadata": {},
   "outputs": [],
   "source": [
    "min_rating = ratings_df.groupby(\"movie_id\").agg({\"rating\": \"min\"})\n",
    "max_rating = ratings_df.groupby(\"movie_id\").agg({\"rating\": \"max\"})"
   ]
  },
  {
   "cell_type": "code",
   "execution_count": 33,
   "metadata": {},
   "outputs": [],
   "source": [
    "everyone_likes = min_rating[min_rating.rating > 3]\n",
    "everyone_dislikes = max_rating[max_rating.rating < 3]"
   ]
  },
  {
   "cell_type": "code",
   "execution_count": 34,
   "metadata": {},
   "outputs": [
    {
     "data": {
      "text/html": [
       "<div>\n",
       "<style>\n",
       "    .dataframe thead tr:only-child th {\n",
       "        text-align: right;\n",
       "    }\n",
       "\n",
       "    .dataframe thead th {\n",
       "        text-align: left;\n",
       "    }\n",
       "\n",
       "    .dataframe tbody tr th {\n",
       "        vertical-align: top;\n",
       "    }\n",
       "</style>\n",
       "<table border=\"1\" class=\"dataframe\">\n",
       "  <thead>\n",
       "    <tr style=\"text-align: right;\">\n",
       "      <th></th>\n",
       "      <th>name</th>\n",
       "    </tr>\n",
       "  </thead>\n",
       "  <tbody>\n",
       "    <tr>\n",
       "      <th>53</th>\n",
       "      <td>Lamerica (1994)</td>\n",
       "    </tr>\n",
       "    <tr>\n",
       "      <th>134</th>\n",
       "      <td>Sonic Outlaws (1995)</td>\n",
       "    </tr>\n",
       "    <tr>\n",
       "      <th>139</th>\n",
       "      <td>Target (1995)</td>\n",
       "    </tr>\n",
       "    <tr>\n",
       "      <th>396</th>\n",
       "      <td>Fall Time (1995)</td>\n",
       "    </tr>\n",
       "    <tr>\n",
       "      <th>398</th>\n",
       "      <td>Frank and Ollie (1995)</td>\n",
       "    </tr>\n",
       "    <tr>\n",
       "      <th>439</th>\n",
       "      <td>Dangerous Game (1993)</td>\n",
       "    </tr>\n",
       "    <tr>\n",
       "      <th>557</th>\n",
       "      <td>Mamma Roma (1962)</td>\n",
       "    </tr>\n",
       "    <tr>\n",
       "      <th>578</th>\n",
       "      <td>Hour of the Pig, The (1993)</td>\n",
       "    </tr>\n",
       "    <tr>\n",
       "      <th>584</th>\n",
       "      <td>I Don't Want to Talk About It (De eso no se ha...</td>\n",
       "    </tr>\n",
       "    <tr>\n",
       "      <th>624</th>\n",
       "      <td>Condition Red (1995)</td>\n",
       "    </tr>\n",
       "    <tr>\n",
       "      <th>701</th>\n",
       "      <td>Daens (1992)</td>\n",
       "    </tr>\n",
       "    <tr>\n",
       "      <th>717</th>\n",
       "      <td>Mouth to Mouth (Boca a boca) (1995)</td>\n",
       "    </tr>\n",
       "    <tr>\n",
       "      <th>758</th>\n",
       "      <td>Jar, The (Khomreh) (1992)</td>\n",
       "    </tr>\n",
       "    <tr>\n",
       "      <th>774</th>\n",
       "      <td>Wend Kuuni (God's Gift) (1982)</td>\n",
       "    </tr>\n",
       "    <tr>\n",
       "      <th>787</th>\n",
       "      <td>Gate of Heavenly Peace, The (1995)</td>\n",
       "    </tr>\n",
       "    <tr>\n",
       "      <th>792</th>\n",
       "      <td>Hungarian Fairy Tale, A (1987)</td>\n",
       "    </tr>\n",
       "    <tr>\n",
       "      <th>878</th>\n",
       "      <td>Bye-Bye (1995)</td>\n",
       "    </tr>\n",
       "    <tr>\n",
       "      <th>989</th>\n",
       "      <td>Schlafes Bruder (Brother of Sleep) (1995)</td>\n",
       "    </tr>\n",
       "    <tr>\n",
       "      <th>1139</th>\n",
       "      <td>Everything Relative (1996)</td>\n",
       "    </tr>\n",
       "    <tr>\n",
       "      <th>1316</th>\n",
       "      <td>Anna (1996)</td>\n",
       "    </tr>\n",
       "    <tr>\n",
       "      <th>1434</th>\n",
       "      <td>Stranger, The (1994)</td>\n",
       "    </tr>\n",
       "    <tr>\n",
       "      <th>1470</th>\n",
       "      <td>Rhyme &amp; Reason (1997)</td>\n",
       "    </tr>\n",
       "    <tr>\n",
       "      <th>1795</th>\n",
       "      <td>Callej�n de los milagros, El (1995)</td>\n",
       "    </tr>\n",
       "    <tr>\n",
       "      <th>1830</th>\n",
       "      <td>Follow the Bitch (1998)</td>\n",
       "    </tr>\n",
       "    <tr>\n",
       "      <th>1832</th>\n",
       "      <td>Heaven's Burning (1997)</td>\n",
       "    </tr>\n",
       "    <tr>\n",
       "      <th>1842</th>\n",
       "      <td>Illtown (1996)</td>\n",
       "    </tr>\n",
       "    <tr>\n",
       "      <th>1851</th>\n",
       "      <td>Leather Jacket Love Story (1997)</td>\n",
       "    </tr>\n",
       "    <tr>\n",
       "      <th>1915</th>\n",
       "      <td>Voyage to the Beginning of the World (1997)</td>\n",
       "    </tr>\n",
       "    <tr>\n",
       "      <th>2309</th>\n",
       "      <td>Inheritors, The (Die Siebtelbauern) (1998)</td>\n",
       "    </tr>\n",
       "    <tr>\n",
       "      <th>2438</th>\n",
       "      <td>Outside Ozona (1998)</td>\n",
       "    </tr>\n",
       "    <tr>\n",
       "      <th>2480</th>\n",
       "      <td>Dry Cleaning (Nettoyage � sec) (1997)</td>\n",
       "    </tr>\n",
       "    <tr>\n",
       "      <th>2503</th>\n",
       "      <td>Apple, The (Sib) (1998)</td>\n",
       "    </tr>\n",
       "    <tr>\n",
       "      <th>2811</th>\n",
       "      <td>With Friends Like These... (1998)</td>\n",
       "    </tr>\n",
       "    <tr>\n",
       "      <th>2909</th>\n",
       "      <td>Five Wives, Three Secretaries and Me (1998)</td>\n",
       "    </tr>\n",
       "    <tr>\n",
       "      <th>3057</th>\n",
       "      <td>Where's Marlowe? (1999)</td>\n",
       "    </tr>\n",
       "    <tr>\n",
       "      <th>3065</th>\n",
       "      <td>Ten Benny (1997)</td>\n",
       "    </tr>\n",
       "    <tr>\n",
       "      <th>3126</th>\n",
       "      <td>End of the Affair, The (1955)</td>\n",
       "    </tr>\n",
       "    <tr>\n",
       "      <th>3164</th>\n",
       "      <td>Alley Cats, The (1968)</td>\n",
       "    </tr>\n",
       "    <tr>\n",
       "      <th>3172</th>\n",
       "      <td>Ulysses (Ulisse) (1954)</td>\n",
       "    </tr>\n",
       "    <tr>\n",
       "      <th>3229</th>\n",
       "      <td>Another Man's Poison (1952)</td>\n",
       "    </tr>\n",
       "    <tr>\n",
       "      <th>3233</th>\n",
       "      <td>Smashing Time (1967)</td>\n",
       "    </tr>\n",
       "    <tr>\n",
       "      <th>3245</th>\n",
       "      <td>I Am Cuba (Soy Cuba/Ya Kuba) (1964)</td>\n",
       "    </tr>\n",
       "    <tr>\n",
       "      <th>3277</th>\n",
       "      <td>Beloved/Friend (Amigo/Amado) (1999)</td>\n",
       "    </tr>\n",
       "    <tr>\n",
       "      <th>3280</th>\n",
       "      <td>Baby, The (1973)</td>\n",
       "    </tr>\n",
       "    <tr>\n",
       "      <th>3305</th>\n",
       "      <td>Bluebeard (1944)</td>\n",
       "    </tr>\n",
       "    <tr>\n",
       "      <th>3353</th>\n",
       "      <td>Closer You Get, The (2000)</td>\n",
       "    </tr>\n",
       "    <tr>\n",
       "      <th>3382</th>\n",
       "      <td>Song of Freedom (1936)</td>\n",
       "    </tr>\n",
       "    <tr>\n",
       "      <th>3517</th>\n",
       "      <td>Bells, The (1926)</td>\n",
       "    </tr>\n",
       "    <tr>\n",
       "      <th>3530</th>\n",
       "      <td>Smoking/No Smoking (1993)</td>\n",
       "    </tr>\n",
       "    <tr>\n",
       "      <th>3601</th>\n",
       "      <td>Castaway Cowboy, The (1974)</td>\n",
       "    </tr>\n",
       "    <tr>\n",
       "      <th>3607</th>\n",
       "      <td>One Little Indian (1973)</td>\n",
       "    </tr>\n",
       "    <tr>\n",
       "      <th>3647</th>\n",
       "      <td>Running Free (2000)</td>\n",
       "    </tr>\n",
       "    <tr>\n",
       "      <th>3656</th>\n",
       "      <td>Lured (1947)</td>\n",
       "    </tr>\n",
       "    <tr>\n",
       "      <th>3881</th>\n",
       "      <td>Bittersweet Motel (2000)</td>\n",
       "    </tr>\n",
       "    <tr>\n",
       "      <th>3888</th>\n",
       "      <td>Skipped Parts (2000)</td>\n",
       "    </tr>\n",
       "  </tbody>\n",
       "</table>\n",
       "</div>"
      ],
      "text/plain": [
       "                                                   name\n",
       "53                                      Lamerica (1994)\n",
       "134                                Sonic Outlaws (1995)\n",
       "139                                       Target (1995)\n",
       "396                                    Fall Time (1995)\n",
       "398                              Frank and Ollie (1995)\n",
       "439                               Dangerous Game (1993)\n",
       "557                                   Mamma Roma (1962)\n",
       "578                         Hour of the Pig, The (1993)\n",
       "584   I Don't Want to Talk About It (De eso no se ha...\n",
       "624                                Condition Red (1995)\n",
       "701                                        Daens (1992)\n",
       "717                 Mouth to Mouth (Boca a boca) (1995)\n",
       "758                           Jar, The (Khomreh) (1992)\n",
       "774                      Wend Kuuni (God's Gift) (1982)\n",
       "787                  Gate of Heavenly Peace, The (1995)\n",
       "792                      Hungarian Fairy Tale, A (1987)\n",
       "878                                      Bye-Bye (1995)\n",
       "989           Schlafes Bruder (Brother of Sleep) (1995)\n",
       "1139                         Everything Relative (1996)\n",
       "1316                                        Anna (1996)\n",
       "1434                               Stranger, The (1994)\n",
       "1470                              Rhyme & Reason (1997)\n",
       "1795                Callej�n de los milagros, El (1995)\n",
       "1830                            Follow the Bitch (1998)\n",
       "1832                            Heaven's Burning (1997)\n",
       "1842                                     Illtown (1996)\n",
       "1851                   Leather Jacket Love Story (1997)\n",
       "1915        Voyage to the Beginning of the World (1997)\n",
       "2309         Inheritors, The (Die Siebtelbauern) (1998)\n",
       "2438                               Outside Ozona (1998)\n",
       "2480              Dry Cleaning (Nettoyage � sec) (1997)\n",
       "2503                            Apple, The (Sib) (1998)\n",
       "2811                  With Friends Like These... (1998)\n",
       "2909        Five Wives, Three Secretaries and Me (1998)\n",
       "3057                            Where's Marlowe? (1999)\n",
       "3065                                   Ten Benny (1997)\n",
       "3126                      End of the Affair, The (1955)\n",
       "3164                             Alley Cats, The (1968)\n",
       "3172                            Ulysses (Ulisse) (1954)\n",
       "3229                        Another Man's Poison (1952)\n",
       "3233                               Smashing Time (1967)\n",
       "3245                I Am Cuba (Soy Cuba/Ya Kuba) (1964)\n",
       "3277                Beloved/Friend (Amigo/Amado) (1999)\n",
       "3280                                   Baby, The (1973)\n",
       "3305                                   Bluebeard (1944)\n",
       "3353                         Closer You Get, The (2000)\n",
       "3382                             Song of Freedom (1936)\n",
       "3517                                  Bells, The (1926)\n",
       "3530                          Smoking/No Smoking (1993)\n",
       "3601                        Castaway Cowboy, The (1974)\n",
       "3607                           One Little Indian (1973)\n",
       "3647                                Running Free (2000)\n",
       "3656                                       Lured (1947)\n",
       "3881                           Bittersweet Motel (2000)\n",
       "3888                               Skipped Parts (2000)"
      ]
     },
     "execution_count": 34,
     "metadata": {},
     "output_type": "execute_result"
    }
   ],
   "source": [
    "everyone_likes.merge(movies_df, left_index=True, right_index=True)[[\"name\"]]"
   ]
  },
  {
   "cell_type": "code",
   "execution_count": 35,
   "metadata": {},
   "outputs": [
    {
     "data": {
      "text/html": [
       "<div>\n",
       "<style>\n",
       "    .dataframe thead tr:only-child th {\n",
       "        text-align: right;\n",
       "    }\n",
       "\n",
       "    .dataframe thead th {\n",
       "        text-align: left;\n",
       "    }\n",
       "\n",
       "    .dataframe tbody tr th {\n",
       "        vertical-align: top;\n",
       "    }\n",
       "</style>\n",
       "<table border=\"1\" class=\"dataframe\">\n",
       "  <thead>\n",
       "    <tr style=\"text-align: right;\">\n",
       "      <th></th>\n",
       "      <th>name</th>\n",
       "    </tr>\n",
       "  </thead>\n",
       "  <tbody>\n",
       "    <tr>\n",
       "      <th>127</th>\n",
       "      <td>Silence of the Palace, The (Saimt el Qusur) (1...</td>\n",
       "    </tr>\n",
       "    <tr>\n",
       "      <th>133</th>\n",
       "      <td>Nueba Yol (1995)</td>\n",
       "    </tr>\n",
       "    <tr>\n",
       "      <th>142</th>\n",
       "      <td>Shadows (Cienie) (1988)</td>\n",
       "    </tr>\n",
       "    <tr>\n",
       "      <th>226</th>\n",
       "      <td>Dream Man (1995)</td>\n",
       "    </tr>\n",
       "    <tr>\n",
       "      <th>545</th>\n",
       "      <td>Harlem (1993)</td>\n",
       "    </tr>\n",
       "    <tr>\n",
       "      <th>579</th>\n",
       "      <td>Scorta, La (1993)</td>\n",
       "    </tr>\n",
       "    <tr>\n",
       "      <th>641</th>\n",
       "      <td>Little Indian, Big City (Un indien dans la vil...</td>\n",
       "    </tr>\n",
       "    <tr>\n",
       "      <th>642</th>\n",
       "      <td>Roula (1995)</td>\n",
       "    </tr>\n",
       "    <tr>\n",
       "      <th>644</th>\n",
       "      <td>Happy Weekend (1996)</td>\n",
       "    </tr>\n",
       "    <tr>\n",
       "      <th>651</th>\n",
       "      <td>Superweib, Das (1996)</td>\n",
       "    </tr>\n",
       "    <tr>\n",
       "      <th>655</th>\n",
       "      <td>Mutters Courage (1995)</td>\n",
       "    </tr>\n",
       "    <tr>\n",
       "      <th>660</th>\n",
       "      <td>August (1996)</td>\n",
       "    </tr>\n",
       "    <tr>\n",
       "      <th>672</th>\n",
       "      <td>Tarantella (1995)</td>\n",
       "    </tr>\n",
       "    <tr>\n",
       "      <th>684</th>\n",
       "      <td>Windows (1980)</td>\n",
       "    </tr>\n",
       "    <tr>\n",
       "      <th>730</th>\n",
       "      <td>Low Life, The (1994)</td>\n",
       "    </tr>\n",
       "    <tr>\n",
       "      <th>826</th>\n",
       "      <td>Diebinnen (1995)</td>\n",
       "    </tr>\n",
       "    <tr>\n",
       "      <th>843</th>\n",
       "      <td>Lotto Land (1995)</td>\n",
       "    </tr>\n",
       "    <tr>\n",
       "      <th>859</th>\n",
       "      <td>Hippie Revolution, The (1996)</td>\n",
       "    </tr>\n",
       "    <tr>\n",
       "      <th>865</th>\n",
       "      <td>Small Faces (1995)</td>\n",
       "    </tr>\n",
       "    <tr>\n",
       "      <th>895</th>\n",
       "      <td>Venice/Venice (1992)</td>\n",
       "    </tr>\n",
       "    <tr>\n",
       "      <th>975</th>\n",
       "      <td>Something to Sing About (1937)</td>\n",
       "    </tr>\n",
       "    <tr>\n",
       "      <th>977</th>\n",
       "      <td>Moonlight Murder (1936)</td>\n",
       "    </tr>\n",
       "    <tr>\n",
       "      <th>1115</th>\n",
       "      <td>Sleepover (1995)</td>\n",
       "    </tr>\n",
       "    <tr>\n",
       "      <th>1118</th>\n",
       "      <td>Tashunga (1995)</td>\n",
       "    </tr>\n",
       "    <tr>\n",
       "      <th>1142</th>\n",
       "      <td>Get Over It (1996)</td>\n",
       "    </tr>\n",
       "    <tr>\n",
       "      <th>1165</th>\n",
       "      <td>Bloody Child, The (1996)</td>\n",
       "    </tr>\n",
       "    <tr>\n",
       "      <th>1311</th>\n",
       "      <td>Santa with Muscles (1996)</td>\n",
       "    </tr>\n",
       "    <tr>\n",
       "      <th>1386</th>\n",
       "      <td>Terror in a Texas Town (1958)</td>\n",
       "    </tr>\n",
       "    <tr>\n",
       "      <th>1430</th>\n",
       "      <td>Underworld (1997)</td>\n",
       "    </tr>\n",
       "    <tr>\n",
       "      <th>1558</th>\n",
       "      <td>Sudden Manhattan (1996)</td>\n",
       "    </tr>\n",
       "    <tr>\n",
       "      <th>...</th>\n",
       "      <td>...</td>\n",
       "    </tr>\n",
       "    <tr>\n",
       "      <th>2484</th>\n",
       "      <td>Tinseltown (1998)</td>\n",
       "    </tr>\n",
       "    <tr>\n",
       "      <th>2742</th>\n",
       "      <td>M�nage (Tenue de soir�e) (1986)</td>\n",
       "    </tr>\n",
       "    <tr>\n",
       "      <th>2845</th>\n",
       "      <td>White Boys (1999)</td>\n",
       "    </tr>\n",
       "    <tr>\n",
       "      <th>3001</th>\n",
       "      <td>Suburbans, The (1999)</td>\n",
       "    </tr>\n",
       "    <tr>\n",
       "      <th>3027</th>\n",
       "      <td>Slaughterhouse 2 (1988)</td>\n",
       "    </tr>\n",
       "    <tr>\n",
       "      <th>3123</th>\n",
       "      <td>Spring Fever USA (a.k.a. Lauderdale) (1989)</td>\n",
       "    </tr>\n",
       "    <tr>\n",
       "      <th>3151</th>\n",
       "      <td>Bat Whispers, The (1930)</td>\n",
       "    </tr>\n",
       "    <tr>\n",
       "      <th>3166</th>\n",
       "      <td>Brenda Starr (1989)</td>\n",
       "    </tr>\n",
       "    <tr>\n",
       "      <th>3202</th>\n",
       "      <td>Even Dwarfs Started Small (Auch Zwerge haben k...</td>\n",
       "    </tr>\n",
       "    <tr>\n",
       "      <th>3209</th>\n",
       "      <td>Loves of Carmen, The (1948)</td>\n",
       "    </tr>\n",
       "    <tr>\n",
       "      <th>3220</th>\n",
       "      <td>Night Tide (1961)</td>\n",
       "    </tr>\n",
       "    <tr>\n",
       "      <th>3228</th>\n",
       "      <td>Wirey Spindell (1999)</td>\n",
       "    </tr>\n",
       "    <tr>\n",
       "      <th>3237</th>\n",
       "      <td>Kestrel's Eye (Falkens �ga) (1998)</td>\n",
       "    </tr>\n",
       "    <tr>\n",
       "      <th>3291</th>\n",
       "      <td>Trois (2000)</td>\n",
       "    </tr>\n",
       "    <tr>\n",
       "      <th>3297</th>\n",
       "      <td>With Byrd at the South Pole (1930)</td>\n",
       "    </tr>\n",
       "    <tr>\n",
       "      <th>3312</th>\n",
       "      <td>McCullochs, The (1975)</td>\n",
       "    </tr>\n",
       "    <tr>\n",
       "      <th>3315</th>\n",
       "      <td>Happy Go Lovely (1951)</td>\n",
       "    </tr>\n",
       "    <tr>\n",
       "      <th>3321</th>\n",
       "      <td>Waiting Game, The (2000)</td>\n",
       "    </tr>\n",
       "    <tr>\n",
       "      <th>3376</th>\n",
       "      <td>Fantastic Night, The (La Nuit Fantastique) (1949)</td>\n",
       "    </tr>\n",
       "    <tr>\n",
       "      <th>3460</th>\n",
       "      <td>Hillbillys in a Haunted House (1967)</td>\n",
       "    </tr>\n",
       "    <tr>\n",
       "      <th>3485</th>\n",
       "      <td>Autopsy (Macchie Solari) (1975)</td>\n",
       "    </tr>\n",
       "    <tr>\n",
       "      <th>3493</th>\n",
       "      <td>Torso (Corpi Presentano Tracce di Violenza Car...</td>\n",
       "    </tr>\n",
       "    <tr>\n",
       "      <th>3574</th>\n",
       "      <td>Carnosaur 3: Primal Species (1996)</td>\n",
       "    </tr>\n",
       "    <tr>\n",
       "      <th>3621</th>\n",
       "      <td>Possession (1981)</td>\n",
       "    </tr>\n",
       "    <tr>\n",
       "      <th>3651</th>\n",
       "      <td>Blood Spattered Bride, The (La Novia Ensangren...</td>\n",
       "    </tr>\n",
       "    <tr>\n",
       "      <th>3687</th>\n",
       "      <td>Light Years (1988)</td>\n",
       "    </tr>\n",
       "    <tr>\n",
       "      <th>3722</th>\n",
       "      <td>Live Virgin (1999)</td>\n",
       "    </tr>\n",
       "    <tr>\n",
       "      <th>3762</th>\n",
       "      <td>Daughter of Dr. Jeckyll (1957)</td>\n",
       "    </tr>\n",
       "    <tr>\n",
       "      <th>3891</th>\n",
       "      <td>Turn It Up (2000)</td>\n",
       "    </tr>\n",
       "    <tr>\n",
       "      <th>3904</th>\n",
       "      <td>Uninvited Guest, An (2000)</td>\n",
       "    </tr>\n",
       "  </tbody>\n",
       "</table>\n",
       "<p>78 rows × 1 columns</p>\n",
       "</div>"
      ],
      "text/plain": [
       "                                                   name\n",
       "127   Silence of the Palace, The (Saimt el Qusur) (1...\n",
       "133                                    Nueba Yol (1995)\n",
       "142                             Shadows (Cienie) (1988)\n",
       "226                                    Dream Man (1995)\n",
       "545                                       Harlem (1993)\n",
       "579                                   Scorta, La (1993)\n",
       "641   Little Indian, Big City (Un indien dans la vil...\n",
       "642                                        Roula (1995)\n",
       "644                                Happy Weekend (1996)\n",
       "651                               Superweib, Das (1996)\n",
       "655                              Mutters Courage (1995)\n",
       "660                                       August (1996)\n",
       "672                                   Tarantella (1995)\n",
       "684                                      Windows (1980)\n",
       "730                                Low Life, The (1994)\n",
       "826                                    Diebinnen (1995)\n",
       "843                                   Lotto Land (1995)\n",
       "859                       Hippie Revolution, The (1996)\n",
       "865                                  Small Faces (1995)\n",
       "895                                Venice/Venice (1992)\n",
       "975                      Something to Sing About (1937)\n",
       "977                             Moonlight Murder (1936)\n",
       "1115                                   Sleepover (1995)\n",
       "1118                                    Tashunga (1995)\n",
       "1142                                 Get Over It (1996)\n",
       "1165                           Bloody Child, The (1996)\n",
       "1311                          Santa with Muscles (1996)\n",
       "1386                      Terror in a Texas Town (1958)\n",
       "1430                                  Underworld (1997)\n",
       "1558                            Sudden Manhattan (1996)\n",
       "...                                                 ...\n",
       "2484                                  Tinseltown (1998)\n",
       "2742                    M�nage (Tenue de soir�e) (1986)\n",
       "2845                                  White Boys (1999)\n",
       "3001                              Suburbans, The (1999)\n",
       "3027                            Slaughterhouse 2 (1988)\n",
       "3123        Spring Fever USA (a.k.a. Lauderdale) (1989)\n",
       "3151                           Bat Whispers, The (1930)\n",
       "3166                                Brenda Starr (1989)\n",
       "3202  Even Dwarfs Started Small (Auch Zwerge haben k...\n",
       "3209                        Loves of Carmen, The (1948)\n",
       "3220                                  Night Tide (1961)\n",
       "3228                              Wirey Spindell (1999)\n",
       "3237                 Kestrel's Eye (Falkens �ga) (1998)\n",
       "3291                                       Trois (2000)\n",
       "3297                 With Byrd at the South Pole (1930)\n",
       "3312                             McCullochs, The (1975)\n",
       "3315                             Happy Go Lovely (1951)\n",
       "3321                           Waiting Game, The (2000)\n",
       "3376  Fantastic Night, The (La Nuit Fantastique) (1949)\n",
       "3460               Hillbillys in a Haunted House (1967)\n",
       "3485                    Autopsy (Macchie Solari) (1975)\n",
       "3493  Torso (Corpi Presentano Tracce di Violenza Car...\n",
       "3574                 Carnosaur 3: Primal Species (1996)\n",
       "3621                                  Possession (1981)\n",
       "3651  Blood Spattered Bride, The (La Novia Ensangren...\n",
       "3687                                 Light Years (1988)\n",
       "3722                                 Live Virgin (1999)\n",
       "3762                     Daughter of Dr. Jeckyll (1957)\n",
       "3891                                  Turn It Up (2000)\n",
       "3904                         Uninvited Guest, An (2000)\n",
       "\n",
       "[78 rows x 1 columns]"
      ]
     },
     "execution_count": 35,
     "metadata": {},
     "output_type": "execute_result"
    }
   ],
   "source": [
    "everyone_dislikes.merge(movies_df, left_index=True, right_index=True)[[\"name\"]]"
   ]
  },
  {
   "cell_type": "markdown",
   "metadata": {},
   "source": [
    "##### Best movies"
   ]
  },
  {
   "cell_type": "markdown",
   "metadata": {},
   "source": [
    "Let's define \"best movies\" as top ten movies sorted by their mean rating that have more than 1000 ratings."
   ]
  },
  {
   "cell_type": "code",
   "execution_count": 36,
   "metadata": {},
   "outputs": [
    {
     "data": {
      "text/html": [
       "<div>\n",
       "<style>\n",
       "    .dataframe thead tr:only-child th {\n",
       "        text-align: right;\n",
       "    }\n",
       "\n",
       "    .dataframe thead th {\n",
       "        text-align: left;\n",
       "    }\n",
       "\n",
       "    .dataframe tbody tr th {\n",
       "        vertical-align: top;\n",
       "    }\n",
       "</style>\n",
       "<table border=\"1\" class=\"dataframe\">\n",
       "  <thead>\n",
       "    <tr>\n",
       "      <th></th>\n",
       "      <th colspan=\"2\" halign=\"left\">rating</th>\n",
       "    </tr>\n",
       "    <tr>\n",
       "      <th></th>\n",
       "      <th>mean</th>\n",
       "      <th>count</th>\n",
       "    </tr>\n",
       "    <tr>\n",
       "      <th>name</th>\n",
       "      <th></th>\n",
       "      <th></th>\n",
       "    </tr>\n",
       "  </thead>\n",
       "  <tbody>\n",
       "    <tr>\n",
       "      <th>Shawshank Redemption, The (1994)</th>\n",
       "      <td>4.554558</td>\n",
       "      <td>2227</td>\n",
       "    </tr>\n",
       "    <tr>\n",
       "      <th>Godfather, The (1972)</th>\n",
       "      <td>4.524966</td>\n",
       "      <td>2223</td>\n",
       "    </tr>\n",
       "    <tr>\n",
       "      <th>Usual Suspects, The (1995)</th>\n",
       "      <td>4.517106</td>\n",
       "      <td>1783</td>\n",
       "    </tr>\n",
       "    <tr>\n",
       "      <th>Schindler's List (1993)</th>\n",
       "      <td>4.510417</td>\n",
       "      <td>2304</td>\n",
       "    </tr>\n",
       "    <tr>\n",
       "      <th>Raiders of the Lost Ark (1981)</th>\n",
       "      <td>4.477725</td>\n",
       "      <td>2514</td>\n",
       "    </tr>\n",
       "    <tr>\n",
       "      <th>Rear Window (1954)</th>\n",
       "      <td>4.476190</td>\n",
       "      <td>1050</td>\n",
       "    </tr>\n",
       "    <tr>\n",
       "      <th>Star Wars: Episode IV - A New Hope (1977)</th>\n",
       "      <td>4.453694</td>\n",
       "      <td>2991</td>\n",
       "    </tr>\n",
       "    <tr>\n",
       "      <th>Dr. Strangelove or: How I Learned to Stop Worrying and Love the Bomb (1963)</th>\n",
       "      <td>4.449890</td>\n",
       "      <td>1367</td>\n",
       "    </tr>\n",
       "    <tr>\n",
       "      <th>Casablanca (1942)</th>\n",
       "      <td>4.412822</td>\n",
       "      <td>1669</td>\n",
       "    </tr>\n",
       "    <tr>\n",
       "      <th>Sixth Sense, The (1999)</th>\n",
       "      <td>4.406263</td>\n",
       "      <td>2459</td>\n",
       "    </tr>\n",
       "  </tbody>\n",
       "</table>\n",
       "</div>"
      ],
      "text/plain": [
       "                                                      rating      \n",
       "                                                        mean count\n",
       "name                                                              \n",
       "Shawshank Redemption, The (1994)                    4.554558  2227\n",
       "Godfather, The (1972)                               4.524966  2223\n",
       "Usual Suspects, The (1995)                          4.517106  1783\n",
       "Schindler's List (1993)                             4.510417  2304\n",
       "Raiders of the Lost Ark (1981)                      4.477725  2514\n",
       "Rear Window (1954)                                  4.476190  1050\n",
       "Star Wars: Episode IV - A New Hope (1977)           4.453694  2991\n",
       "Dr. Strangelove or: How I Learned to Stop Worry...  4.449890  1367\n",
       "Casablanca (1942)                                   4.412822  1669\n",
       "Sixth Sense, The (1999)                             4.406263  2459"
      ]
     },
     "execution_count": 36,
     "metadata": {},
     "output_type": "execute_result"
    }
   ],
   "source": [
    "means_and_counts = movies_df.merge(ratings_df, left_index=True, right_on=\"movie_id\") \\\n",
    "                            .groupby(\"name\").agg({\"rating\": [\"mean\", \"count\"]})\n",
    "means_and_counts[means_and_counts.rating[\"count\"] >= 1000].sort_values((\"rating\", \"mean\"), ascending=False).head(10)"
   ]
  },
  {
   "cell_type": "markdown",
   "metadata": {},
   "source": [
    "### Model"
   ]
  },
  {
   "cell_type": "code",
   "execution_count": 37,
   "metadata": {},
   "outputs": [],
   "source": [
    "df = users_df.merge(ratings_df, left_index=True, right_on=\"user_id\") \\\n",
    "             .merge(movies_df, left_on=\"movie_id\", right_index=True)"
   ]
  },
  {
   "cell_type": "markdown",
   "metadata": {},
   "source": [
    "Interaction is a combination of a movie, a user and their rating for this movie."
   ]
  },
  {
   "cell_type": "code",
   "execution_count": 38,
   "metadata": {},
   "outputs": [],
   "source": [
    "def get_interactions(df):\n",
    "    max_user_id_plus_one = df.user_id.max() + 1\n",
    "    max_movie_id_plus_one = df.movie_id.max() + 1\n",
    "    \n",
    "    interactions = sp.lil_matrix((max_user_id_plus_one, max_movie_id_plus_one), dtype=np.float32)\n",
    "    \n",
    "    for row in df.itertuples():\n",
    "        user_id = row.user_id\n",
    "        movie_id = row.movie_id\n",
    "        rating = row.rating\n",
    "        \n",
    "        interactions[user_id, movie_id] = rating\n",
    "    \n",
    "    return interactions.tocsr()"
   ]
  },
  {
   "cell_type": "markdown",
   "metadata": {},
   "source": [
    "Users' metadata contains information about every user's gender, age and occupation OHE format. It alco contains identity matrix, that improves expressive ability of a model.  \n",
    "To simplify the process it's reasonable to create rows from 0 to max(user_id) even if some user ids are missing. Anyway, it won't take too much memory, thanks to sparse representation."
   ]
  },
  {
   "cell_type": "code",
   "execution_count": 39,
   "metadata": {},
   "outputs": [],
   "source": [
    "def get_users_meta(df):\n",
    "    max_user_id_plus_one = df.user_id.max() + 1\n",
    "    \n",
    "    unique_genders = sorted(df.gender.unique())\n",
    "    genders_map = dict(zip(unique_genders, range(len(unique_genders))))\n",
    "    \n",
    "    unique_ages = sorted(df.age.unique())\n",
    "    ages_map = dict(zip(unique_ages, range(len(unique_ages))))\n",
    "    \n",
    "    unique_occupations = sorted(df.occupation.unique())\n",
    "    occupations_map = dict(zip(unique_occupations, range(len(unique_occupations))))\n",
    "    \n",
    "    genders = sp.lil_matrix((max_user_id_plus_one, len(unique_genders)), dtype=np.float32)\n",
    "    ages = sp.lil_matrix((max_user_id_plus_one, len(unique_ages)))\n",
    "    occupations = sp.lil_matrix((max_user_id_plus_one, len(unique_occupations)))\n",
    "    identity = sp.identity(max_user_id_plus_one, format='csr', dtype=np.float32)\n",
    "    \n",
    "    for row in df.itertuples():\n",
    "        user_id = row.user_id\n",
    "        gender = row.gender\n",
    "        age = row.age\n",
    "        occupation = row.occupation\n",
    "        \n",
    "        gender_index = genders_map[gender]\n",
    "        age_index = ages_map[age]\n",
    "        occupation_index = occupations_map[occupation]\n",
    "        \n",
    "        genders[user_id, gender_index] = 1.0\n",
    "        ages[user_id, age_index] = 1.0\n",
    "        occupations[user_id, occupation_index] = 1.0\n",
    "        \n",
    "    return sp.hstack([genders, ages, occupations, identity]).tocsr(), {\"genders\": genders_map, \n",
    "                                                                       \"ages\": ages_map, \n",
    "                                                                       \"occupations\": occupations_map}"
   ]
  },
  {
   "cell_type": "markdown",
   "metadata": {},
   "source": [
    "Movies' metadata contains information about every movie's genre and, also, an identity matrix."
   ]
  },
  {
   "cell_type": "code",
   "execution_count": 40,
   "metadata": {},
   "outputs": [],
   "source": [
    "def get_movies_meta(df):\n",
    "    max_movie_id_plus_one = df.movie_id.max() + 1\n",
    "\n",
    "    unique_genres = sorted(df.genre.apply(lambda x: set_plus(x)).sum())\n",
    "    genres_map = dict(zip(unique_genres, range(len(unique_genres))))\n",
    "    \n",
    "    genres = sp.lil_matrix((max_movie_id_plus_one, len(unique_genres)), dtype=np.float32)\n",
    "    identity = sp.identity(max_movie_id_plus_one, format='csr', dtype=np.float32)\n",
    "    \n",
    "    for row in df.itertuples():\n",
    "        movie_id = row.movie_id\n",
    "        genre = row.genre\n",
    "        \n",
    "        for g in genre:\n",
    "            genre_index = genres_map[g]\n",
    "            genres[movie_id, genre_index] = 1.0\n",
    "    \n",
    "    return sp.hstack([genres, identity]).tocsr(), {\"genre\": genres_map}"
   ]
  },
  {
   "cell_type": "code",
   "execution_count": 41,
   "metadata": {},
   "outputs": [],
   "source": [
    "interactions = get_interactions(df)\n",
    "users_meta, user_meta_maps = get_users_meta(df)\n",
    "movies_meta, movies_meta_maps = get_movies_meta(df)"
   ]
  },
  {
   "cell_type": "markdown",
   "metadata": {},
   "source": [
    "Due to the API limitations, it's not feasible to implement standard grid search. But, anyway, there's not many parameters to tune and all of them comply with \"the more, the merrier\" principle."
   ]
  },
  {
   "cell_type": "code",
   "execution_count": 42,
   "metadata": {},
   "outputs": [],
   "source": [
    "def prepare_model(interactions, users_meta, movies_meta, model=None):\n",
    "    partial = model is not None\n",
    "    \n",
    "    if partial:\n",
    "        new_model = model.fit_partial(interactions=interactions, user_features=users_meta, item_features=movies_meta)\n",
    "    else:\n",
    "        np.random.seed(0)\n",
    "        train, test = cross_validation.random_train_test_split(interactions, test_percentage=0.2, random_state=np.random)\n",
    "        lfm = LightFM(loss=\"warp\", no_components=100, max_sampled=100)    \n",
    "        new_model = lfm.fit(interactions=train, user_features=users_meta, item_features=movies_meta, epochs=20)\n",
    "        \n",
    "        train_auc = evaluation.auc_score(new_model, train, user_features=users_meta, item_features=movies_meta)\n",
    "        test_auc = evaluation.auc_score(new_model, test, user_features=users_meta, item_features=movies_meta)\n",
    "        train_precision_at_10 = evaluation.precision_at_k(new_model, train, user_features=users_meta, item_features=movies_meta, k=10)\n",
    "        test_precision_at_10 = evaluation.precision_at_k(new_model, test, user_features=users_meta, item_features=movies_meta, k=10)\n",
    "        train_recall_at_10 = evaluation.recall_at_k(new_model, train, user_features=users_meta, item_features=movies_meta, k=10)\n",
    "        test_recall_at_10 = evaluation.recall_at_k(new_model, test, user_features=users_meta, item_features=movies_meta, k=10)\n",
    "    \n",
    "        print(\"AUC\\n\\ttrain: {}\\n\\ttest: {}\".format(train_auc.mean(), test_auc.mean()))\n",
    "        print(\"Precision (percentage of relevant items in prediction) at 10\\n\\ttrain: {}\\n\\ttest: {}\"\n",
    "              .format(train_precision_at_10.mean(), test_precision_at_10.mean()))\n",
    "        print(\"Recall (number of  relevant items in prediction / total number of relevant items) at 10\\n\\ttrain: {}\\n\\ttest: {}\"\n",
    "              .format(train_recall_at_10.mean(), test_recall_at_10.mean()))\n",
    "    \n",
    "    return new_model"
   ]
  },
  {
   "cell_type": "code",
   "execution_count": 43,
   "metadata": {},
   "outputs": [
    {
     "name": "stdout",
     "output_type": "stream",
     "text": [
      "AUC\n",
      "\ttrain: 0.9686875939369202\n",
      "\ttest: 0.9172576069831848\n",
      "Precision (percentage of relevant items in prediction) at 10\n",
      "\ttrain: 0.7802648544311523\n",
      "\ttest: 0.07333444058895111\n",
      "Recall (number of  relevant items in prediction / total number of relevant items) at 10\n",
      "\ttrain: 0.13340108671264864\n",
      "\ttest: 0.050520121134023564\n"
     ]
    }
   ],
   "source": [
    "model = prepare_model(interactions, users_meta, movies_meta)"
   ]
  },
  {
   "cell_type": "code",
   "execution_count": 44,
   "metadata": {},
   "outputs": [],
   "source": [
    "def add_new_user(gender, age, occupation, users_meta, user_meta_maps, interactions, for_full_refit=False):\n",
    "    new_user = sp.lil_matrix((1, users_meta.shape[1]), dtype=np.float32)\n",
    "    new_user[0, user_meta_maps[\"genders\"][gender]] = 1.0\n",
    "    new_user[0, len(user_meta_maps[\"genders\"]) + user_meta_maps[\"ages\"][age]] = 1.0\n",
    "    new_user[0, len(user_meta_maps[\"genders\"]) + len(user_meta_maps[\"ages\"]) + user_meta_maps[\"occupations\"][occupation]] = 1.0\n",
    "    \n",
    "    new_users_meta = sp.vstack([users_meta, new_user])\n",
    "    new_interactions = sp.vstack([interactions, sp.lil_matrix((1, interactions.shape[1]))])\n",
    "    \n",
    "    # identity feature improves model predictions, but makes fit_partial impossible\n",
    "    if for_full_refit:\n",
    "        new_user_identity = sp.lil_matrix((new_users_meta.shape[0], 1), dtype=np.float32)\n",
    "        new_user_identity[-1, 0] = 1.0\n",
    "        new_users_meta = sp.hstack([new_users_meta, new_user_identity])\n",
    "    \n",
    "    return (new_users_meta.shape[0] - 1, new_users_meta, new_interactions)"
   ]
  },
  {
   "cell_type": "code",
   "execution_count": 45,
   "metadata": {},
   "outputs": [],
   "source": [
    "def add_ratings_for_user_manual(user_id, interactions, movies_df):\n",
    "    print(\"1-5 to rate a movie, 0 to skip, anything else to stop\")\n",
    "    new_interactions = interactions.tolil()\n",
    "    while True:\n",
    "        movie_id = np.random.choice(movies_df.index)\n",
    "        title = movies_df.loc[movie_id][\"name\"]\n",
    "        try:\n",
    "            rating = float(int(input(title + \":\\n\")))\n",
    "            if rating < 1.0 or rating > 5.0:\n",
    "                break\n",
    "            elif rating == 0.0:\n",
    "                continue\n",
    "        except:\n",
    "            break\n",
    "               \n",
    "        new_interactions[user_id, movie_id] = rating\n",
    "    return new_interactions.tocsr()"
   ]
  },
  {
   "cell_type": "code",
   "execution_count": 46,
   "metadata": {},
   "outputs": [],
   "source": [
    "def add_ratings_for_user(n, user_id, interactions, movies_df):\n",
    "    new_interactions = interactions.tolil()\n",
    "    for _ in range(n):\n",
    "        movie_id = np.random.choice(movies_df.index)\n",
    "        rating = np.random.randint(1, 5)\n",
    "        new_interactions[user_id, movie_id] = rating\n",
    "        \n",
    "    return new_interactions.tocsr()"
   ]
  },
  {
   "cell_type": "code",
   "execution_count": 47,
   "metadata": {},
   "outputs": [],
   "source": [
    "new_user_id, new_users_meta, new_interactions_empty = add_new_user(\"M\", 25, 12, users_meta, user_meta_maps, interactions)\n",
    "new_model = prepare_model(new_interactions_empty, new_users_meta, movies_meta, model)"
   ]
  },
  {
   "cell_type": "markdown",
   "metadata": {},
   "source": [
    "Let's check what's on the menu for our new user without any interactions from their side"
   ]
  },
  {
   "cell_type": "code",
   "execution_count": 48,
   "metadata": {},
   "outputs": [
    {
     "name": "stdout",
     "output_type": "stream",
     "text": [
      "Top-20 recommended movies without any ratings from the new user\n",
      "\n",
      "1 Star Wars: Episode V - The Empire Strikes Back (1980)\n",
      "2 Star Wars: Episode VI - Return of the Jedi (1983)\n",
      "3 Terminator 2: Judgment Day (1991)\n",
      "4 Matrix, The (1999)\n",
      "5 Star Wars: Episode IV - A New Hope (1977)\n",
      "6 Star Wars: Episode I - The Phantom Menace (1999)\n",
      "7 Men in Black (1997)\n",
      "8 Jurassic Park (1993)\n",
      "9 Terminator, The (1984)\n",
      "10 Back to the Future (1985)\n",
      "11 Total Recall (1990)\n",
      "12 Raiders of the Lost Ark (1981)\n",
      "13 Princess Bride, The (1987)\n",
      "14 Saving Private Ryan (1998)\n",
      "15 American Beauty (1999)\n",
      "16 E.T. the Extra-Terrestrial (1982)\n",
      "17 Blade Runner (1982)\n",
      "18 Silence of the Lambs, The (1991)\n",
      "19 Aliens (1986)\n",
      "20 Independence Day (ID4) (1996)\n"
     ]
    }
   ],
   "source": [
    "predictions_without_ratigs = new_model.predict(new_user_id, np.array(range(new_interactions_empty.shape[1])), \n",
    "                                               user_features=new_users_meta, \n",
    "                                               item_features=movies_meta)\n",
    "\n",
    "print (\"Top-20 recommended movies without any ratings from the new user\\n\")\n",
    "for ind, movie_id in enumerate(predictions_without_ratigs.argsort()[-20:][::-1]):\n",
    "    print(ind+1, movies_df.loc[movie_id][\"name\"])"
   ]
  },
  {
   "cell_type": "code",
   "execution_count": 49,
   "metadata": {},
   "outputs": [
    {
     "name": "stdout",
     "output_type": "stream",
     "text": [
      "1-5 to rate a movie, 0 to skip, anything else to stop\n",
      "Retro Puppetmaster (1999):\n",
      "1\n",
      "Orlando (1993):\n",
      "2\n",
      "Ilsa, She Wolf of the SS (1974):\n",
      "4\n",
      "Matrix, The (1999):\n",
      "5\n",
      "Duel in the Sun (1946):\n",
      "1\n",
      "Tetsuo II: Body Hammer (1992):\n",
      "2\n",
      "Illuminata (1998):\n",
      "3\n",
      "Hoogste tijd (1995):\n",
      "4\n",
      "Ballad of Ramblin' Jack, The (2000):\n",
      "5\n",
      "Half Baked (1998):\n",
      "-1\n"
     ]
    }
   ],
   "source": [
    "new_interactions = add_ratings_for_user_manual(new_user_id, new_interactions_empty, movies_df)"
   ]
  },
  {
   "cell_type": "markdown",
   "metadata": {},
   "source": [
    "And now with some movies rated"
   ]
  },
  {
   "cell_type": "code",
   "execution_count": 50,
   "metadata": {},
   "outputs": [
    {
     "name": "stdout",
     "output_type": "stream",
     "text": [
      "Top-20 recommended movies with ratings from the new user\n",
      "\n",
      "1 Star Wars: Episode V - The Empire Strikes Back (1980)\n",
      "2 Star Wars: Episode VI - Return of the Jedi (1983)\n",
      "3 Terminator 2: Judgment Day (1991)\n",
      "4 Matrix, The (1999)\n",
      "5 Star Wars: Episode IV - A New Hope (1977)\n",
      "6 Star Wars: Episode I - The Phantom Menace (1999)\n",
      "7 Men in Black (1997)\n",
      "8 Jurassic Park (1993)\n",
      "9 Terminator, The (1984)\n",
      "10 Back to the Future (1985)\n",
      "11 Total Recall (1990)\n",
      "12 Raiders of the Lost Ark (1981)\n",
      "13 Saving Private Ryan (1998)\n",
      "14 Princess Bride, The (1987)\n",
      "15 American Beauty (1999)\n",
      "16 Blade Runner (1982)\n",
      "17 E.T. the Extra-Terrestrial (1982)\n",
      "18 Independence Day (ID4) (1996)\n",
      "19 Silence of the Lambs, The (1991)\n",
      "20 Alien (1979)\n"
     ]
    }
   ],
   "source": [
    "new_model_with_ratings = prepare_model(new_interactions, new_users_meta, movies_meta, model)\n",
    "predictions_with_ratings = new_model_with_ratings.predict(new_user_id, np.array(range(new_interactions.shape[1])), \n",
    "                                                            user_features=new_users_meta, \n",
    "                                                            item_features=movies_meta)\n",
    "\n",
    "print (\"Top-20 recommended movies with ratings from the new user\\n\")\n",
    "for ind, movie_id in enumerate(predictions_with_ratings.argsort()[-20:][::-1]):\n",
    "    print(ind+1, movies_df.loc[movie_id][\"name\"])"
   ]
  },
  {
   "cell_type": "markdown",
   "metadata": {},
   "source": [
    "From some changes in recommendations we can conclude, that the recommender system is functional (-ish).  \n",
    "Recommendations are, apparently, mostly based on the user's metadata, but they adjust as new ratings are added."
   ]
  }
 ],
 "metadata": {
  "kernelspec": {
   "display_name": "Python 3",
   "language": "python",
   "name": "python3"
  },
  "language_info": {
   "codemirror_mode": {
    "name": "ipython",
    "version": 3
   },
   "file_extension": ".py",
   "mimetype": "text/x-python",
   "name": "python",
   "nbconvert_exporter": "python",
   "pygments_lexer": "ipython3",
   "version": "3.6.4"
  }
 },
 "nbformat": 4,
 "nbformat_minor": 2
}
