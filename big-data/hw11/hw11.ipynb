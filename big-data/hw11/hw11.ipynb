{
 "cells": [
  {
   "cell_type": "code",
   "execution_count": 1,
   "metadata": {},
   "outputs": [],
   "source": [
    "import numpy as np\n",
    "import pandas as pd\n",
    "\n",
    "\n",
    "from sklearn.model_selection import GridSearchCV\n",
    "from lightgbm import LGBMRegressor\n",
    "from sklearn.metrics import make_scorer\n",
    "from sklearn.preprocessing import LabelEncoder, Imputer, OneHotEncoder, FunctionTransformer\n",
    "from sklearn.preprocessing import StandardScaler\n",
    "from sklearn.base import TransformerMixin\n",
    "from sklearn.pipeline import make_union, make_pipeline\n",
    "\n",
    "%matplotlib inline"
   ]
  },
  {
   "cell_type": "code",
   "execution_count": 2,
   "metadata": {},
   "outputs": [],
   "source": [
    "df_train = pd.read_csv(\"train.csv\", parse_dates=[\"Date\"], date_parser=pd.to_datetime, low_memory=False)\n",
    "df_test = pd.read_csv(\"test.csv\", parse_dates=[\"Date\"], date_parser=pd.to_datetime, low_memory=False)\n",
    "df_store = pd.read_csv(\"store.csv\")"
   ]
  },
  {
   "cell_type": "code",
   "execution_count": 3,
   "metadata": {},
   "outputs": [],
   "source": [
    "train = df_train.merge(df_store)\n",
    "test = df_test.merge(df_store)"
   ]
  },
  {
   "cell_type": "markdown",
   "metadata": {},
   "source": [
    "### EDA"
   ]
  },
  {
   "cell_type": "code",
   "execution_count": 4,
   "metadata": {},
   "outputs": [
    {
     "data": {
      "text/html": [
       "<div>\n",
       "<style>\n",
       "    .dataframe thead tr:only-child th {\n",
       "        text-align: right;\n",
       "    }\n",
       "\n",
       "    .dataframe thead th {\n",
       "        text-align: left;\n",
       "    }\n",
       "\n",
       "    .dataframe tbody tr th {\n",
       "        vertical-align: top;\n",
       "    }\n",
       "</style>\n",
       "<table border=\"1\" class=\"dataframe\">\n",
       "  <thead>\n",
       "    <tr style=\"text-align: right;\">\n",
       "      <th></th>\n",
       "      <th>Store</th>\n",
       "      <th>DayOfWeek</th>\n",
       "      <th>Date</th>\n",
       "      <th>Sales</th>\n",
       "      <th>Customers</th>\n",
       "      <th>Open</th>\n",
       "      <th>Promo</th>\n",
       "      <th>StateHoliday</th>\n",
       "      <th>SchoolHoliday</th>\n",
       "    </tr>\n",
       "  </thead>\n",
       "  <tbody>\n",
       "    <tr>\n",
       "      <th>0</th>\n",
       "      <td>1</td>\n",
       "      <td>5</td>\n",
       "      <td>2015-07-31</td>\n",
       "      <td>5263</td>\n",
       "      <td>555</td>\n",
       "      <td>1</td>\n",
       "      <td>1</td>\n",
       "      <td>0</td>\n",
       "      <td>1</td>\n",
       "    </tr>\n",
       "    <tr>\n",
       "      <th>1</th>\n",
       "      <td>2</td>\n",
       "      <td>5</td>\n",
       "      <td>2015-07-31</td>\n",
       "      <td>6064</td>\n",
       "      <td>625</td>\n",
       "      <td>1</td>\n",
       "      <td>1</td>\n",
       "      <td>0</td>\n",
       "      <td>1</td>\n",
       "    </tr>\n",
       "    <tr>\n",
       "      <th>2</th>\n",
       "      <td>3</td>\n",
       "      <td>5</td>\n",
       "      <td>2015-07-31</td>\n",
       "      <td>8314</td>\n",
       "      <td>821</td>\n",
       "      <td>1</td>\n",
       "      <td>1</td>\n",
       "      <td>0</td>\n",
       "      <td>1</td>\n",
       "    </tr>\n",
       "    <tr>\n",
       "      <th>3</th>\n",
       "      <td>4</td>\n",
       "      <td>5</td>\n",
       "      <td>2015-07-31</td>\n",
       "      <td>13995</td>\n",
       "      <td>1498</td>\n",
       "      <td>1</td>\n",
       "      <td>1</td>\n",
       "      <td>0</td>\n",
       "      <td>1</td>\n",
       "    </tr>\n",
       "    <tr>\n",
       "      <th>4</th>\n",
       "      <td>5</td>\n",
       "      <td>5</td>\n",
       "      <td>2015-07-31</td>\n",
       "      <td>4822</td>\n",
       "      <td>559</td>\n",
       "      <td>1</td>\n",
       "      <td>1</td>\n",
       "      <td>0</td>\n",
       "      <td>1</td>\n",
       "    </tr>\n",
       "  </tbody>\n",
       "</table>\n",
       "</div>"
      ],
      "text/plain": [
       "   Store  DayOfWeek       Date  Sales  Customers  Open  Promo StateHoliday  \\\n",
       "0      1          5 2015-07-31   5263        555     1      1            0   \n",
       "1      2          5 2015-07-31   6064        625     1      1            0   \n",
       "2      3          5 2015-07-31   8314        821     1      1            0   \n",
       "3      4          5 2015-07-31  13995       1498     1      1            0   \n",
       "4      5          5 2015-07-31   4822        559     1      1            0   \n",
       "\n",
       "   SchoolHoliday  \n",
       "0              1  \n",
       "1              1  \n",
       "2              1  \n",
       "3              1  \n",
       "4              1  "
      ]
     },
     "execution_count": 4,
     "metadata": {},
     "output_type": "execute_result"
    }
   ],
   "source": [
    "df_train.head()"
   ]
  },
  {
   "cell_type": "markdown",
   "metadata": {},
   "source": [
    "The dataset contains following features (most of them are pretty self-descriptive, but anyway):  \n",
    "- Store — store's id  \n",
    "- DayOfWeek — day of week  \n",
    "- Date — date  \n",
    "- Sales — turnover on this day, target  \n",
    "- Customers — a number of customers on this day  \n",
    "- Open – indicates whether the store was open or closed on this day  \n",
    "- Promo — indicates whether promo was active on this day  \n",
    "- StateHoliday — indicates whether there was a state holiday on this day and its' kind  \n",
    "- SchoolHoliday — indicates whether this day was a vacation day in public schools"
   ]
  },
  {
   "cell_type": "code",
   "execution_count": 5,
   "metadata": {},
   "outputs": [
    {
     "name": "stdout",
     "output_type": "stream",
     "text": [
      "<class 'pandas.core.frame.DataFrame'>\n",
      "RangeIndex: 1017209 entries, 0 to 1017208\n",
      "Data columns (total 9 columns):\n",
      "Store            1017209 non-null int64\n",
      "DayOfWeek        1017209 non-null int64\n",
      "Date             1017209 non-null datetime64[ns]\n",
      "Sales            1017209 non-null int64\n",
      "Customers        1017209 non-null int64\n",
      "Open             1017209 non-null int64\n",
      "Promo            1017209 non-null int64\n",
      "StateHoliday     1017209 non-null object\n",
      "SchoolHoliday    1017209 non-null int64\n",
      "dtypes: datetime64[ns](1), int64(7), object(1)\n",
      "memory usage: 69.8+ MB\n"
     ]
    }
   ],
   "source": [
    "df_train.info()"
   ]
  },
  {
   "cell_type": "markdown",
   "metadata": {},
   "source": [
    "Not a single null here"
   ]
  },
  {
   "cell_type": "code",
   "execution_count": 6,
   "metadata": {},
   "outputs": [
    {
     "name": "stdout",
     "output_type": "stream",
     "text": [
      "<class 'pandas.core.frame.DataFrame'>\n",
      "RangeIndex: 41088 entries, 0 to 41087\n",
      "Data columns (total 8 columns):\n",
      "Id               41088 non-null int64\n",
      "Store            41088 non-null int64\n",
      "DayOfWeek        41088 non-null int64\n",
      "Date             41088 non-null datetime64[ns]\n",
      "Open             41077 non-null float64\n",
      "Promo            41088 non-null int64\n",
      "StateHoliday     41088 non-null object\n",
      "SchoolHoliday    41088 non-null int64\n",
      "dtypes: datetime64[ns](1), float64(1), int64(5), object(1)\n",
      "memory usage: 2.5+ MB\n"
     ]
    }
   ],
   "source": [
    "df_test.info()"
   ]
  },
  {
   "cell_type": "markdown",
   "metadata": {},
   "source": [
    "Important differences from the train:  \n",
    "- **no Customers column**  \n",
    "- some NaNs in the Open column  \n",
    "\n",
    "These discrepancies should be dealt with during data preparation stage."
   ]
  },
  {
   "cell_type": "code",
   "execution_count": 7,
   "metadata": {},
   "outputs": [
    {
     "data": {
      "text/html": [
       "<div>\n",
       "<style>\n",
       "    .dataframe thead tr:only-child th {\n",
       "        text-align: right;\n",
       "    }\n",
       "\n",
       "    .dataframe thead th {\n",
       "        text-align: left;\n",
       "    }\n",
       "\n",
       "    .dataframe tbody tr th {\n",
       "        vertical-align: top;\n",
       "    }\n",
       "</style>\n",
       "<table border=\"1\" class=\"dataframe\">\n",
       "  <thead>\n",
       "    <tr style=\"text-align: right;\">\n",
       "      <th></th>\n",
       "      <th>Store</th>\n",
       "      <th>StoreType</th>\n",
       "      <th>Assortment</th>\n",
       "      <th>CompetitionDistance</th>\n",
       "      <th>CompetitionOpenSinceMonth</th>\n",
       "      <th>CompetitionOpenSinceYear</th>\n",
       "      <th>Promo2</th>\n",
       "      <th>Promo2SinceWeek</th>\n",
       "      <th>Promo2SinceYear</th>\n",
       "      <th>PromoInterval</th>\n",
       "    </tr>\n",
       "  </thead>\n",
       "  <tbody>\n",
       "    <tr>\n",
       "      <th>0</th>\n",
       "      <td>1</td>\n",
       "      <td>c</td>\n",
       "      <td>a</td>\n",
       "      <td>1270.0</td>\n",
       "      <td>9.0</td>\n",
       "      <td>2008.0</td>\n",
       "      <td>0</td>\n",
       "      <td>NaN</td>\n",
       "      <td>NaN</td>\n",
       "      <td>NaN</td>\n",
       "    </tr>\n",
       "    <tr>\n",
       "      <th>1</th>\n",
       "      <td>2</td>\n",
       "      <td>a</td>\n",
       "      <td>a</td>\n",
       "      <td>570.0</td>\n",
       "      <td>11.0</td>\n",
       "      <td>2007.0</td>\n",
       "      <td>1</td>\n",
       "      <td>13.0</td>\n",
       "      <td>2010.0</td>\n",
       "      <td>Jan,Apr,Jul,Oct</td>\n",
       "    </tr>\n",
       "    <tr>\n",
       "      <th>2</th>\n",
       "      <td>3</td>\n",
       "      <td>a</td>\n",
       "      <td>a</td>\n",
       "      <td>14130.0</td>\n",
       "      <td>12.0</td>\n",
       "      <td>2006.0</td>\n",
       "      <td>1</td>\n",
       "      <td>14.0</td>\n",
       "      <td>2011.0</td>\n",
       "      <td>Jan,Apr,Jul,Oct</td>\n",
       "    </tr>\n",
       "    <tr>\n",
       "      <th>3</th>\n",
       "      <td>4</td>\n",
       "      <td>c</td>\n",
       "      <td>c</td>\n",
       "      <td>620.0</td>\n",
       "      <td>9.0</td>\n",
       "      <td>2009.0</td>\n",
       "      <td>0</td>\n",
       "      <td>NaN</td>\n",
       "      <td>NaN</td>\n",
       "      <td>NaN</td>\n",
       "    </tr>\n",
       "    <tr>\n",
       "      <th>4</th>\n",
       "      <td>5</td>\n",
       "      <td>a</td>\n",
       "      <td>a</td>\n",
       "      <td>29910.0</td>\n",
       "      <td>4.0</td>\n",
       "      <td>2015.0</td>\n",
       "      <td>0</td>\n",
       "      <td>NaN</td>\n",
       "      <td>NaN</td>\n",
       "      <td>NaN</td>\n",
       "    </tr>\n",
       "  </tbody>\n",
       "</table>\n",
       "</div>"
      ],
      "text/plain": [
       "   Store StoreType Assortment  CompetitionDistance  CompetitionOpenSinceMonth  \\\n",
       "0      1         c          a               1270.0                        9.0   \n",
       "1      2         a          a                570.0                       11.0   \n",
       "2      3         a          a              14130.0                       12.0   \n",
       "3      4         c          c                620.0                        9.0   \n",
       "4      5         a          a              29910.0                        4.0   \n",
       "\n",
       "   CompetitionOpenSinceYear  Promo2  Promo2SinceWeek  Promo2SinceYear  \\\n",
       "0                    2008.0       0              NaN              NaN   \n",
       "1                    2007.0       1             13.0           2010.0   \n",
       "2                    2006.0       1             14.0           2011.0   \n",
       "3                    2009.0       0              NaN              NaN   \n",
       "4                    2015.0       0              NaN              NaN   \n",
       "\n",
       "     PromoInterval  \n",
       "0              NaN  \n",
       "1  Jan,Apr,Jul,Oct  \n",
       "2  Jan,Apr,Jul,Oct  \n",
       "3              NaN  \n",
       "4              NaN  "
      ]
     },
     "execution_count": 7,
     "metadata": {},
     "output_type": "execute_result"
    }
   ],
   "source": [
    "df_store.head()"
   ]
  },
  {
   "cell_type": "markdown",
   "metadata": {},
   "source": [
    "This dataset contains metadata for every store, such as:\n",
    "- StoreType - describes a store type\n",
    "- Assortment — describes an assortment level  \n",
    "- CompetitionDistance — distance to the nearest competitor store  \n",
    "- CompetitionOpenSinceYear — a year when the competitor store was opened  \n",
    "- CompetitionOpenSinceMonth — a month when the competitor store was opened\n",
    "- Promo2 — indicates whether there's a continuing and consecutive promotion in this store\n",
    "- Promo2SinceYear — a year when the store started participating in Promo2\n",
    "- Promo2SinceWeek — a calendar week when the store started participating in Promo2\n",
    "- PromoInterval — a list of month when Promo2 is active"
   ]
  },
  {
   "cell_type": "code",
   "execution_count": 8,
   "metadata": {},
   "outputs": [
    {
     "name": "stdout",
     "output_type": "stream",
     "text": [
      "<class 'pandas.core.frame.DataFrame'>\n",
      "RangeIndex: 1115 entries, 0 to 1114\n",
      "Data columns (total 10 columns):\n",
      "Store                        1115 non-null int64\n",
      "StoreType                    1115 non-null object\n",
      "Assortment                   1115 non-null object\n",
      "CompetitionDistance          1112 non-null float64\n",
      "CompetitionOpenSinceMonth    761 non-null float64\n",
      "CompetitionOpenSinceYear     761 non-null float64\n",
      "Promo2                       1115 non-null int64\n",
      "Promo2SinceWeek              571 non-null float64\n",
      "Promo2SinceYear              571 non-null float64\n",
      "PromoInterval                571 non-null object\n",
      "dtypes: float64(5), int64(2), object(3)\n",
      "memory usage: 87.2+ KB\n"
     ]
    }
   ],
   "source": [
    "df_store.info()"
   ]
  },
  {
   "cell_type": "markdown",
   "metadata": {},
   "source": [
    "~30% of entries contain information about the distance to the nearest competitor, but, however, miss information about the nearest competititor opening date. It could mean that this competitor was here long before Rossmann or that opening date is just unknown.  \n",
    "Also 3 entries lack any information about competition whatsoever, it may mean that this store is the only store in the area.\n",
    "All other NaNs are related to Promo2 dates/intervals and perfectly explainable."
   ]
  },
  {
   "cell_type": "markdown",
   "metadata": {},
   "source": [
    "##### Dates"
   ]
  },
  {
   "cell_type": "markdown",
   "metadata": {},
   "source": [
    "Since we a working with time series here, dates may be the most important thing there is."
   ]
  },
  {
   "cell_type": "code",
   "execution_count": 9,
   "metadata": {},
   "outputs": [
    {
     "name": "stdout",
     "output_type": "stream",
     "text": [
      "train\n",
      "max:  2013-01-01 00:00:00\n",
      "min: 2015-07-31 00:00:00\n",
      "delta:  941 days 00:00:00\n"
     ]
    }
   ],
   "source": [
    "print(\"train\")\n",
    "print(\"max: \", df_train.Date.min())\n",
    "print(\"min:\", df_train.Date.max())\n",
    "print(\"delta: \", df_train.Date.max() - df_train.Date.min())"
   ]
  },
  {
   "cell_type": "code",
   "execution_count": 10,
   "metadata": {},
   "outputs": [
    {
     "name": "stdout",
     "output_type": "stream",
     "text": [
      "test\n",
      "max:  2015-08-01 00:00:00\n",
      "min: 2015-09-17 00:00:00\n",
      "delta:  47 days 00:00:00\n"
     ]
    }
   ],
   "source": [
    "print(\"test\")\n",
    "print(\"max: \", df_test.Date.min())\n",
    "print(\"min:\", df_test.Date.max())\n",
    "print(\"delta: \", df_test.Date.max() - df_test.Date.min())"
   ]
  },
  {
   "cell_type": "markdown",
   "metadata": {},
   "source": [
    "Since test observations took place after train ones, it's possible to predict test sales using test ones."
   ]
  },
  {
   "cell_type": "markdown",
   "metadata": {},
   "source": [
    "##### Sales by day of week"
   ]
  },
  {
   "cell_type": "code",
   "execution_count": 11,
   "metadata": {},
   "outputs": [
    {
     "data": {
      "text/plain": [
       "<matplotlib.axes._subplots.AxesSubplot at 0x10b0a3be0>"
      ]
     },
     "execution_count": 11,
     "metadata": {},
     "output_type": "execute_result"
    },
    {
     "data": {
      "image/png": "[encoded data removed]",
      "text/plain": [
       "<matplotlib.figure.Figure at 0x10b0a36a0>"
      ]
     },
     "metadata": {},
     "output_type": "display_data"
    }
   ],
   "source": [
    "df_train.groupby(\"DayOfWeek\").agg({\"Sales\": \"mean\"}).plot(kind=\"bar\")"
   ]
  },
  {
   "cell_type": "markdown",
   "metadata": {},
   "source": [
    "Sales dramatically drop on Sunday; it can hardly be organic, together with a slight increase of sales on Monday it may indicate that most stores are simply closed on Sunday."
   ]
  },
  {
   "cell_type": "code",
   "execution_count": 12,
   "metadata": {},
   "outputs": [
    {
     "data": {
      "text/plain": [
       "33"
      ]
     },
     "execution_count": 12,
     "metadata": {},
     "output_type": "execute_result"
    }
   ],
   "source": [
    "df_train[(df_train.DayOfWeek == 7) & (df_train.Open == 1)].Store.unique().shape[0]"
   ]
  },
  {
   "cell_type": "markdown",
   "metadata": {},
   "source": [
    "The assumption was correct, only 33 stores out of 1115 were opened on Sunday at least once."
   ]
  },
  {
   "cell_type": "markdown",
   "metadata": {},
   "source": [
    "##### Sales vs state holidays"
   ]
  },
  {
   "cell_type": "code",
   "execution_count": 13,
   "metadata": {},
   "outputs": [
    {
     "data": {
      "text/plain": [
       "<matplotlib.axes._subplots.AxesSubplot at 0x110b82278>"
      ]
     },
     "execution_count": 13,
     "metadata": {},
     "output_type": "execute_result"
    },
    {
     "data": {
      "image/png": "[encoded data removed]",
      "text/plain": [
       "<matplotlib.figure.Figure at 0x10bb84898>"
      ]
     },
     "metadata": {},
     "output_type": "display_data"
    }
   ],
   "source": [
    "df_train.groupby(\"StateHoliday\").agg({\"Sales\": \"mean\"}).plot(kind=\"bar\")"
   ]
  },
  {
   "cell_type": "markdown",
   "metadata": {},
   "source": [
    "And again, it may just mean that most of the stores are closed on holidays."
   ]
  },
  {
   "cell_type": "markdown",
   "metadata": {},
   "source": [
    "##### Sales vs school holidays"
   ]
  },
  {
   "cell_type": "code",
   "execution_count": 14,
   "metadata": {},
   "outputs": [
    {
     "data": {
      "text/plain": [
       "<matplotlib.axes._subplots.AxesSubplot at 0x10bb84f28>"
      ]
     },
     "execution_count": 14,
     "metadata": {},
     "output_type": "execute_result"
    },
    {
     "data": {
      "image/png": "[encoded data removed]",
      "text/plain": [
       "<matplotlib.figure.Figure at 0x112adc0b8>"
      ]
     },
     "metadata": {},
     "output_type": "display_data"
    }
   ],
   "source": [
    "df_train.groupby(\"SchoolHoliday\").agg({\"Sales\": \"mean\"}).plot(kind=\"bar\")"
   ]
  },
  {
   "cell_type": "markdown",
   "metadata": {},
   "source": [
    "There's a slight increase in sales during vacations in schools."
   ]
  },
  {
   "cell_type": "markdown",
   "metadata": {},
   "source": [
    "##### Sales vs Promo"
   ]
  },
  {
   "cell_type": "code",
   "execution_count": 15,
   "metadata": {},
   "outputs": [
    {
     "data": {
      "text/plain": [
       "<matplotlib.axes._subplots.AxesSubplot at 0x1a16523a20>"
      ]
     },
     "execution_count": 15,
     "metadata": {},
     "output_type": "execute_result"
    },
    {
     "data": {
      "image/png": "[encoded data removed]",
      "text/plain": [
       "<matplotlib.figure.Figure at 0x1a16533ef0>"
      ]
     },
     "metadata": {},
     "output_type": "display_data"
    }
   ],
   "source": [
    "df_train.groupby(\"Promo\").agg({\"Sales\": \"mean\"}).plot(kind=\"bar\")"
   ]
  },
  {
   "cell_type": "markdown",
   "metadata": {},
   "source": [
    "Promo increases mean daily sales almost two-fold."
   ]
  },
  {
   "cell_type": "markdown",
   "metadata": {},
   "source": [
    "Let's combine the sales data with the stores metadata, introduce some new features and take a look at them."
   ]
  },
  {
   "cell_type": "code",
   "execution_count": 16,
   "metadata": {},
   "outputs": [],
   "source": [
    "train = df_train.merge(df_store)\n",
    "test = df_test.merge(df_store)"
   ]
  },
  {
   "cell_type": "markdown",
   "metadata": {},
   "source": [
    "Two important features come to mind:\n",
    "- Promo2Active — we have everything (participation status, date of start and schedule) to derive whether Promo2 is active for every day/store combination in dataset\n",
    "- CompetitionActive — we have a date of competitor store opening, so we can derive whether competitor store is active for every day/store combination in dataset"
   ]
  },
  {
   "cell_type": "code",
   "execution_count": 17,
   "metadata": {},
   "outputs": [
    {
     "data": {
      "text/plain": [
       "array([nan, 'Jan,Apr,Jul,Oct', 'Feb,May,Aug,Nov', 'Mar,Jun,Sept,Dec'], dtype=object)"
      ]
     },
     "execution_count": 17,
     "metadata": {},
     "output_type": "execute_result"
    }
   ],
   "source": [
    "train.PromoInterval.unique()"
   ]
  },
  {
   "cell_type": "code",
   "execution_count": 18,
   "metadata": {},
   "outputs": [],
   "source": [
    "def get_Promo2Active(df):\n",
    "    months_map = {v:i+1 for i, v in enumerate([\"Jan\", \"Feb\", \"Mar\", \"Apr\", \"May\", \"Jun\", \n",
    "                                               \"Jul\", \"Aug\", \"Sept\", \"Oct\", \"Nov\", \"Dec\"])}\n",
    "    def is_Promo2_active(row):\n",
    "        if row.Promo2 == 0:\n",
    "            return 0\n",
    "        \n",
    "        current_week, current_month, current_year = row.Date.week, row.Date.month, row.Date.year\n",
    "        start_week, start_year = row.Promo2SinceWeek, row.Promo2SinceYear\n",
    "        active_months = set([months_map[m] for m in row.PromoInterval.split(\",\")])\n",
    "        has_started = (current_year == start_year and current_week >= start_week) or current_year > start_year\n",
    "        return int(has_started and current_month in active_months)\n",
    "                        \n",
    "    return df.apply(is_Promo2_active, axis=1)"
   ]
  },
  {
   "cell_type": "code",
   "execution_count": 19,
   "metadata": {},
   "outputs": [],
   "source": [
    "def get_CompetitionActive(df):\n",
    "    def is_competition_active(row):\n",
    "        if np.isnan(row.CompetitionDistance):\n",
    "            return 0\n",
    "        \n",
    "        if np.isnan(row.CompetitionOpenSinceMonth) and np.isnan(row.CompetitionOpenSinceYear):\n",
    "            return 1\n",
    "        \n",
    "        current_month, current_year = row.Date.month, row.Date.year\n",
    "        opened_month, opened_year = row.CompetitionOpenSinceMonth, row.CompetitionOpenSinceYear\n",
    "        \n",
    "        return int((current_year == opened_year and current_month >= opened_month) or current_year > opened_year)\n",
    "        \n",
    "        \n",
    "    return df.apply(is_competition_active, axis=1)"
   ]
  },
  {
   "cell_type": "code",
   "execution_count": 20,
   "metadata": {},
   "outputs": [],
   "source": [
    "train[\"Promo2Active\"] = get_Promo2Active(train)\n",
    "train[\"CompetitionActive\"] = get_CompetitionActive(train)"
   ]
  },
  {
   "cell_type": "markdown",
   "metadata": {},
   "source": [
    "##### Sales vs Promo2Active"
   ]
  },
  {
   "cell_type": "code",
   "execution_count": 21,
   "metadata": {},
   "outputs": [
    {
     "data": {
      "text/plain": [
       "<matplotlib.axes._subplots.AxesSubplot at 0x112b4a0f0>"
      ]
     },
     "execution_count": 21,
     "metadata": {},
     "output_type": "execute_result"
    },
    {
     "data": {
      "image/png": "[encoded data removed]",
      "text/plain": [
       "<matplotlib.figure.Figure at 0x1a1651ad30>"
      ]
     },
     "metadata": {},
     "output_type": "display_data"
    }
   ],
   "source": [
    "train[train.Promo2 == 1].groupby(\"Promo2Active\").agg({\"Sales\": \"mean\"}).plot(kind=\"bar\")"
   ]
  },
  {
   "cell_type": "markdown",
   "metadata": {},
   "source": [
    "It's funny that mean daily sales are even a tiny bit lower with Promo2 active."
   ]
  },
  {
   "cell_type": "markdown",
   "metadata": {},
   "source": [
    "##### Sales vs CompetitionActive"
   ]
  },
  {
   "cell_type": "code",
   "execution_count": 22,
   "metadata": {},
   "outputs": [
    {
     "data": {
      "text/plain": [
       "<matplotlib.axes._subplots.AxesSubplot at 0x1a384eba20>"
      ]
     },
     "execution_count": 22,
     "metadata": {},
     "output_type": "execute_result"
    },
    {
     "data": {
      "image/png": "[encoded data removed]",
      "text/plain": [
       "<matplotlib.figure.Figure at 0x1a384e4550>"
      ]
     },
     "metadata": {},
     "output_type": "display_data"
    }
   ],
   "source": [
    "train.groupby(\"CompetitionActive\").agg({\"Sales\": \"mean\"}).plot(kind=\"bar\")"
   ]
  },
  {
   "cell_type": "markdown",
   "metadata": {},
   "source": [
    "Competition nearby predictably lowers mean daily sales, but not much."
   ]
  },
  {
   "cell_type": "markdown",
   "metadata": {},
   "source": [
    "### Data Munging"
   ]
  },
  {
   "cell_type": "code",
   "execution_count": 23,
   "metadata": {},
   "outputs": [],
   "source": [
    "# we already have these, but for the sake of consistence, let's do it again\n",
    "train = df_train.merge(df_store)\n",
    "test = df_test.merge(df_store)\n",
    "\n",
    "train[\"Promo2Active\"] = get_Promo2Active(train)\n",
    "train[\"CompetitionActive\"] = get_CompetitionActive(train)\n",
    "\n",
    "test[\"Promo2Active\"] = get_Promo2Active(test)\n",
    "test[\"CompetitionActive\"] = get_CompetitionActive(test)"
   ]
  },
  {
   "cell_type": "markdown",
   "metadata": {},
   "source": [
    "Holidays are seasonal, so it could be helpful to have DayOfYear feature."
   ]
  },
  {
   "cell_type": "code",
   "execution_count": 24,
   "metadata": {},
   "outputs": [],
   "source": [
    "train[\"DayOfYear\"] = train.Date.apply(lambda x: x.timetuple().tm_yday)\n",
    "test[\"DayOfYear\"] = test.Date.apply(lambda x: x.timetuple().tm_yday)"
   ]
  },
  {
   "cell_type": "markdown",
   "metadata": {},
   "source": [
    "Also, let's convert every date to a day, where day 0 == min date..."
   ]
  },
  {
   "cell_type": "code",
   "execution_count": 25,
   "metadata": {},
   "outputs": [],
   "source": [
    "min_date = train.Date.min() # we know that all test data happened later\n",
    "def date_to_day_number(df):\n",
    "    return (df.Date - min_date).apply(lambda x: x.days)"
   ]
  },
  {
   "cell_type": "code",
   "execution_count": 26,
   "metadata": {},
   "outputs": [],
   "source": [
    "train[\"Day\"] = date_to_day_number(train)\n",
    "test[\"Day\"] = date_to_day_number(test)"
   ]
  },
  {
   "cell_type": "markdown",
   "metadata": {},
   "source": [
    "... and sort by Day."
   ]
  },
  {
   "cell_type": "code",
   "execution_count": 27,
   "metadata": {},
   "outputs": [],
   "source": [
    "train.sort_values(\"Day\", inplace=True)\n",
    "test.sort_values(\"Day\", inplace=True)"
   ]
  },
  {
   "cell_type": "markdown",
   "metadata": {},
   "source": [
    "### Model"
   ]
  },
  {
   "cell_type": "code",
   "execution_count": 28,
   "metadata": {},
   "outputs": [],
   "source": [
    "def rmspe(y_true, y_pred):\n",
    "    w = np.zeros(y_true.shape, dtype=float)\n",
    "    ind = y_true != 0\n",
    "    w[ind] = 1./ (y_true[ind]**2)\n",
    "    return np.sqrt(np.mean(w * (y_true - y_pred)**2))\n",
    "rmspe_scorer = make_scorer(rmspe, greater_is_better=False)"
   ]
  },
  {
   "cell_type": "markdown",
   "metadata": {},
   "source": [
    "##### Baseline"
   ]
  },
  {
   "cell_type": "code",
   "execution_count": 29,
   "metadata": {},
   "outputs": [
    {
     "data": {
      "text/html": [
       "<div>\n",
       "<style>\n",
       "    .dataframe thead tr:only-child th {\n",
       "        text-align: right;\n",
       "    }\n",
       "\n",
       "    .dataframe thead th {\n",
       "        text-align: left;\n",
       "    }\n",
       "\n",
       "    .dataframe tbody tr th {\n",
       "        vertical-align: top;\n",
       "    }\n",
       "</style>\n",
       "<table border=\"1\" class=\"dataframe\">\n",
       "  <thead>\n",
       "    <tr style=\"text-align: right;\">\n",
       "      <th></th>\n",
       "      <th>Store</th>\n",
       "      <th>DayOfWeek</th>\n",
       "      <th>Date</th>\n",
       "      <th>Sales</th>\n",
       "      <th>Customers</th>\n",
       "      <th>Open</th>\n",
       "      <th>Promo</th>\n",
       "      <th>StateHoliday</th>\n",
       "      <th>SchoolHoliday</th>\n",
       "      <th>StoreType</th>\n",
       "      <th>...</th>\n",
       "      <th>Promo2</th>\n",
       "      <th>Promo2SinceWeek</th>\n",
       "      <th>Promo2SinceYear</th>\n",
       "      <th>PromoInterval</th>\n",
       "      <th>Promo2Active</th>\n",
       "      <th>CompetitionActive</th>\n",
       "      <th>DayOfYear</th>\n",
       "      <th>Day</th>\n",
       "      <th>Last_Week_Sales</th>\n",
       "      <th>Last_Week_Diff</th>\n",
       "    </tr>\n",
       "  </thead>\n",
       "  <tbody>\n",
       "    <tr>\n",
       "      <th>413475</th>\n",
       "      <td>453</td>\n",
       "      <td>4</td>\n",
       "      <td>2013-01-03</td>\n",
       "      <td>6109</td>\n",
       "      <td>740</td>\n",
       "      <td>1</td>\n",
       "      <td>0</td>\n",
       "      <td>0</td>\n",
       "      <td>1</td>\n",
       "      <td>a</td>\n",
       "      <td>...</td>\n",
       "      <td>0</td>\n",
       "      <td>NaN</td>\n",
       "      <td>NaN</td>\n",
       "      <td>NaN</td>\n",
       "      <td>0</td>\n",
       "      <td>1</td>\n",
       "      <td>3</td>\n",
       "      <td>2</td>\n",
       "      <td>8265.0</td>\n",
       "      <td>8265.0</td>\n",
       "    </tr>\n",
       "    <tr>\n",
       "      <th>276245</th>\n",
       "      <td>304</td>\n",
       "      <td>4</td>\n",
       "      <td>2013-01-03</td>\n",
       "      <td>5457</td>\n",
       "      <td>893</td>\n",
       "      <td>1</td>\n",
       "      <td>0</td>\n",
       "      <td>0</td>\n",
       "      <td>1</td>\n",
       "      <td>a</td>\n",
       "      <td>...</td>\n",
       "      <td>0</td>\n",
       "      <td>NaN</td>\n",
       "      <td>NaN</td>\n",
       "      <td>NaN</td>\n",
       "      <td>0</td>\n",
       "      <td>0</td>\n",
       "      <td>3</td>\n",
       "      <td>2</td>\n",
       "      <td>7108.0</td>\n",
       "      <td>7108.0</td>\n",
       "    </tr>\n",
       "    <tr>\n",
       "      <th>145197</th>\n",
       "      <td>160</td>\n",
       "      <td>4</td>\n",
       "      <td>2013-01-03</td>\n",
       "      <td>5068</td>\n",
       "      <td>523</td>\n",
       "      <td>1</td>\n",
       "      <td>0</td>\n",
       "      <td>0</td>\n",
       "      <td>1</td>\n",
       "      <td>d</td>\n",
       "      <td>...</td>\n",
       "      <td>0</td>\n",
       "      <td>NaN</td>\n",
       "      <td>NaN</td>\n",
       "      <td>NaN</td>\n",
       "      <td>0</td>\n",
       "      <td>1</td>\n",
       "      <td>3</td>\n",
       "      <td>2</td>\n",
       "      <td>5726.0</td>\n",
       "      <td>5726.0</td>\n",
       "    </tr>\n",
       "    <tr>\n",
       "      <th>515483</th>\n",
       "      <td>565</td>\n",
       "      <td>4</td>\n",
       "      <td>2013-01-03</td>\n",
       "      <td>5262</td>\n",
       "      <td>645</td>\n",
       "      <td>1</td>\n",
       "      <td>0</td>\n",
       "      <td>0</td>\n",
       "      <td>1</td>\n",
       "      <td>a</td>\n",
       "      <td>...</td>\n",
       "      <td>0</td>\n",
       "      <td>NaN</td>\n",
       "      <td>NaN</td>\n",
       "      <td>NaN</td>\n",
       "      <td>0</td>\n",
       "      <td>1</td>\n",
       "      <td>3</td>\n",
       "      <td>2</td>\n",
       "      <td>5856.0</td>\n",
       "      <td>5856.0</td>\n",
       "    </tr>\n",
       "    <tr>\n",
       "      <th>648253</th>\n",
       "      <td>712</td>\n",
       "      <td>4</td>\n",
       "      <td>2013-01-03</td>\n",
       "      <td>6250</td>\n",
       "      <td>566</td>\n",
       "      <td>1</td>\n",
       "      <td>0</td>\n",
       "      <td>0</td>\n",
       "      <td>1</td>\n",
       "      <td>a</td>\n",
       "      <td>...</td>\n",
       "      <td>1</td>\n",
       "      <td>45.0</td>\n",
       "      <td>2009.0</td>\n",
       "      <td>Jan,Apr,Jul,Oct</td>\n",
       "      <td>1</td>\n",
       "      <td>1</td>\n",
       "      <td>3</td>\n",
       "      <td>2</td>\n",
       "      <td>6377.0</td>\n",
       "      <td>6377.0</td>\n",
       "    </tr>\n",
       "  </tbody>\n",
       "</table>\n",
       "<p>5 rows × 24 columns</p>\n",
       "</div>"
      ],
      "text/plain": [
       "        Store  DayOfWeek       Date  Sales  Customers  Open  Promo  \\\n",
       "413475    453          4 2013-01-03   6109        740     1      0   \n",
       "276245    304          4 2013-01-03   5457        893     1      0   \n",
       "145197    160          4 2013-01-03   5068        523     1      0   \n",
       "515483    565          4 2013-01-03   5262        645     1      0   \n",
       "648253    712          4 2013-01-03   6250        566     1      0   \n",
       "\n",
       "       StateHoliday  SchoolHoliday StoreType       ...       Promo2  \\\n",
       "413475            0              1         a       ...            0   \n",
       "276245            0              1         a       ...            0   \n",
       "145197            0              1         d       ...            0   \n",
       "515483            0              1         a       ...            0   \n",
       "648253            0              1         a       ...            1   \n",
       "\n",
       "        Promo2SinceWeek  Promo2SinceYear    PromoInterval  Promo2Active  \\\n",
       "413475              NaN              NaN              NaN             0   \n",
       "276245              NaN              NaN              NaN             0   \n",
       "145197              NaN              NaN              NaN             0   \n",
       "515483              NaN              NaN              NaN             0   \n",
       "648253             45.0           2009.0  Jan,Apr,Jul,Oct             1   \n",
       "\n",
       "        CompetitionActive  DayOfYear Day  Last_Week_Sales  Last_Week_Diff  \n",
       "413475                  1          3   2           8265.0          8265.0  \n",
       "276245                  0          3   2           7108.0          7108.0  \n",
       "145197                  1          3   2           5726.0          5726.0  \n",
       "515483                  1          3   2           5856.0          5856.0  \n",
       "648253                  1          3   2           6377.0          6377.0  \n",
       "\n",
       "[5 rows x 24 columns]"
      ]
     },
     "execution_count": 29,
     "metadata": {},
     "output_type": "execute_result"
    }
   ],
   "source": [
    "train_baseline = train.copy()\n",
    "train_baseline['Last_Week_Sales'] = train_baseline.groupby(\"Store\")[\"Sales\"].shift()\n",
    "train_baseline['Last_Week_Diff'] = train_baseline.groupby(\"Store\")[\"Last_Week_Sales\"].diff()\n",
    "train_baseline.dropna(inplace=True, subset=[\"Last_Week_Sales\", \"Last_Week_Diff\"])\n",
    "train_baseline.head()"
   ]
  },
  {
   "cell_type": "code",
   "execution_count": 30,
   "metadata": {
    "scrolled": false
   },
   "outputs": [
    {
     "name": "stdout",
     "output_type": "stream",
     "text": [
      "Mean Error = 0.36051\n"
     ]
    }
   ],
   "source": [
    "mean_error = []\n",
    "for day in range(2, train_baseline.Day.max() + 1):\n",
    "    val = train_baseline[train_baseline.Day == day]\n",
    "    p = val.Last_Week_Sales.values\n",
    "    error = rmspe(val.Sales.values, p)\n",
    "    mean_error.append(error)\n",
    "    \n",
    "print('Mean Error = %.5f' % np.mean(mean_error))"
   ]
  },
  {
   "cell_type": "markdown",
   "metadata": {},
   "source": [
    "##### Basic model"
   ]
  },
  {
   "cell_type": "markdown",
   "metadata": {},
   "source": [
    "Let's forget for a minute that we are dealing with time series here and try to use the usual approach."
   ]
  },
  {
   "cell_type": "code",
   "execution_count": 31,
   "metadata": {},
   "outputs": [],
   "source": [
    "class LabelEncoderPipelineFriendly(LabelEncoder):\n",
    "    \n",
    "    def fit(self, X, y=None):\n",
    "        \"\"\"this would allow us to fit the model based on the X input.\"\"\"\n",
    "        super(LabelEncoderPipelineFriendly, self).fit(X)\n",
    "        \n",
    "    def transform(self, X, y=None):\n",
    "        return super(LabelEncoderPipelineFriendly, self).transform(X).reshape(-1, 1)\n",
    "\n",
    "    def fit_transform(self, X, y=None):\n",
    "        return super(LabelEncoderPipelineFriendly, self).fit(X).transform(X).reshape(-1, 1)"
   ]
  },
  {
   "cell_type": "code",
   "execution_count": 32,
   "metadata": {},
   "outputs": [],
   "source": [
    "def prepare_pipeline(df):\n",
    "    \n",
    "    def get_DayOfWeek(df):\n",
    "        return df[\"DayOfWeek\"]\n",
    "    \n",
    "    def get_Open(df):\n",
    "        return df[[\"Open\"]]\n",
    "    \n",
    "    def get_Promo(df):\n",
    "        return df[[\"Promo\"]]\n",
    "    \n",
    "    def get_StateHoliday(df):\n",
    "        return df[\"StateHoliday\"]\n",
    "    \n",
    "    def get_SchoolHoliday(df):\n",
    "        return df[[\"SchoolHoliday\"]]\n",
    "    \n",
    "    def get_StoreType(df):\n",
    "        return df[\"StoreType\"]\n",
    "    \n",
    "    def get_Assortment(df):\n",
    "        return df[\"Assortment\"]\n",
    "    \n",
    "    def get_Promo2Active(df):\n",
    "        return df[[\"Promo2Active\"]]\n",
    "    \n",
    "    def get_CompetitionActive(df):\n",
    "        return df[[\"CompetitionActive\"]]\n",
    "    \n",
    "    def get_CompetitionDistance(df):\n",
    "        return df[[\"CompetitionDistance\"]]\n",
    "    \n",
    "    def get_DayOfYear(df):\n",
    "        return df[\"DayOfYear\"]\n",
    "    \n",
    "    p = make_union(*[\n",
    "        make_pipeline(FunctionTransformer(get_DayOfWeek, validate=False), \n",
    "                      LabelEncoderPipelineFriendly(), \n",
    "                      OneHotEncoder()),\n",
    "        make_pipeline(FunctionTransformer(get_Open, validate=False),\n",
    "                      Imputer(strategy=\"most_frequent\")),\n",
    "        make_pipeline(FunctionTransformer(get_Promo, validate=False)),\n",
    "        make_pipeline(FunctionTransformer(get_StateHoliday, validate=False), \n",
    "                      LabelEncoderPipelineFriendly(), \n",
    "                      OneHotEncoder()),\n",
    "        make_pipeline(FunctionTransformer(get_SchoolHoliday, validate=False)),\n",
    "        make_pipeline(FunctionTransformer(get_StoreType, validate=False),\n",
    "                      LabelEncoderPipelineFriendly(), \n",
    "                      OneHotEncoder()),\n",
    "        make_pipeline(FunctionTransformer(get_Assortment, validate=False),\n",
    "                      LabelEncoderPipelineFriendly(), \n",
    "                      OneHotEncoder()),\n",
    "        make_pipeline(FunctionTransformer(get_Promo2Active, validate=False)),\n",
    "        make_pipeline(FunctionTransformer(get_CompetitionActive, validate=False)),\n",
    "        make_pipeline(FunctionTransformer(get_CompetitionDistance, validate=False),\n",
    "                      Imputer(),\n",
    "                      StandardScaler()),        \n",
    "        make_pipeline(FunctionTransformer(get_DayOfYear, validate=False),\n",
    "                      LabelEncoderPipelineFriendly(), \n",
    "                      OneHotEncoder())\n",
    "    ])\n",
    "    \n",
    "    return p"
   ]
  },
  {
   "cell_type": "code",
   "execution_count": 33,
   "metadata": {},
   "outputs": [],
   "source": [
    "pipeline = prepare_pipeline(train)"
   ]
  },
  {
   "cell_type": "code",
   "execution_count": 34,
   "metadata": {},
   "outputs": [],
   "source": [
    "x_train, y_train = pipeline.fit_transform(train), train.Sales\n",
    "x_test = pipeline.transform(test)"
   ]
  },
  {
   "cell_type": "code",
   "execution_count": 35,
   "metadata": {},
   "outputs": [],
   "source": [
    "params = {\"boosting_type\" : [\"gbdt\"],\n",
    "          \"learning_rate\": [0.1],\n",
    "          \"n_estimators\": [200],\n",
    "          \"objective\": [\"regression\"],\n",
    "          \"reg_alpha\": [0.0, 0.5, 1.0],\n",
    "          \"reg_lambda\": [0.0, 0.5, 1.0],\n",
    "          \"random_state\": [0],\n",
    "          \"n_jobs\": [-1]\n",
    "         }"
   ]
  },
  {
   "cell_type": "code",
   "execution_count": 36,
   "metadata": {
    "scrolled": false
   },
   "outputs": [
    {
     "data": {
      "text/plain": [
       "GridSearchCV(cv=10, error_score='raise',\n",
       "       estimator=LGBMRegressor(boosting_type='gbdt', colsample_bytree=1.0, learning_rate=0.1,\n",
       "       max_bin=255, max_depth=-1, min_child_samples=10, min_child_weight=5,\n",
       "       min_split_gain=0.0, n_estimators=10, n_jobs=-1, num_leaves=31,\n",
       "       objective=None, random_state=0, reg_alpha=0.0, reg_lambda=0.0,\n",
       "       silent=True, subsample=1.0, subsample_for_bin=50000,\n",
       "       subsample_freq=1),\n",
       "       fit_params=None, iid=True, n_jobs=-1,\n",
       "       param_grid={'boosting_type': ['gbdt'], 'learning_rate': [0.1], 'n_estimators': [200], 'objective': ['regression'], 'reg_alpha': [0.0, 0.5, 1.0], 'reg_lambda': [0.0, 0.5, 1.0], 'random_state': [0], 'n_jobs': [-1]},\n",
       "       pre_dispatch='2*n_jobs', refit=True, return_train_score='warn',\n",
       "       scoring=make_scorer(rmspe, greater_is_better=False), verbose=0)"
      ]
     },
     "execution_count": 36,
     "metadata": {},
     "output_type": "execute_result"
    }
   ],
   "source": [
    "gs = GridSearchCV(LGBMRegressor(), params, scoring=rmspe_scorer, cv=10, n_jobs=-1)\n",
    "gs.fit(x_train, y_train)"
   ]
  },
  {
   "cell_type": "code",
   "execution_count": 37,
   "metadata": {},
   "outputs": [],
   "source": [
    "prediction = gs.predict(x_test)"
   ]
  },
  {
   "cell_type": "code",
   "execution_count": 38,
   "metadata": {},
   "outputs": [],
   "source": [
    "pd.DataFrame({\"Id\": test.Id, \"Sales\": prediction}).to_csv(\"submission.csv\", sep=\",\", index=False)"
   ]
  },
  {
   "cell_type": "markdown",
   "metadata": {},
   "source": [
    "##### Time-series aware model"
   ]
  },
  {
   "cell_type": "markdown",
   "metadata": {},
   "source": [
    "We have 941 days of consecutive sales data and we need to predict just 47 days of sales.  \n",
    "One way to do this is to train a model on a dataset, that contains sales data for days up to the day we are predicting, i.e. the last day of a training dataset is the day before the day in question. But this approach could be not too convenient, as we need to add previous predictions to the train data as we go.  \n",
    "Instead, assuming there're repeating patterns in data, we could train the model in a such way, that it predicts sales for the day D+48, where D is the last day of training data."
   ]
  },
  {
   "cell_type": "code",
   "execution_count": 39,
   "metadata": {},
   "outputs": [],
   "source": [
    "def prepare_pipeline_ts(df, min_shift, max_shift):\n",
    "    \n",
    "    def get_shifted_date(df, for_sales=False):\n",
    "        return (df.Date.min() + pd.DateOffset(days_to_shift))\n",
    "    \n",
    "    def get_DayOfWeek(df):\n",
    "        return df[\"DayOfWeek\"]\n",
    "    \n",
    "    def get_Open(df):\n",
    "        return df[[\"Open\"]]\n",
    "    \n",
    "    def get_Promo(df):\n",
    "        return df[[\"Promo\"]]\n",
    "    \n",
    "    def get_StateHoliday(df):\n",
    "        return df[\"StateHoliday\"]\n",
    "    \n",
    "    def get_SchoolHoliday(df):\n",
    "        return df[[\"SchoolHoliday\"]]\n",
    "    \n",
    "    def get_StoreType(df):\n",
    "        return df[\"StoreType\"]\n",
    "    \n",
    "    def get_Assortment(df):\n",
    "        return df[\"Assortment\"]\n",
    "    \n",
    "    def get_Promo2Active(df):\n",
    "        return df[[\"Promo2Active\"]]\n",
    "    \n",
    "    def get_CompetitionActive(df):\n",
    "        return df[[\"CompetitionActive\"]]\n",
    "    \n",
    "    def get_CompetitionDistance(df):\n",
    "        return df[[\"CompetitionDistance\"]]\n",
    "    \n",
    "    def get_DayOfYear(df):\n",
    "        return df[\"DayOfYear\"]\n",
    "    \n",
    "    def get_previous_sales(df):\n",
    "        sales = df[[\"Store\", \"Sales\"]].copy()\n",
    "        for day in range(min_shift, max_shift + 1):\n",
    "            sales[\"Last-{}_Day_Sales\".format(day)] = sales.groupby(\"Store\")[\"Sales\"].shift(day)\n",
    "            sales[\"Last-{}_Day_Diff\".format(day)] = sales.groupby(\"Store\")[\"Last-{}_Day_Sales\".format(day)].diff()\n",
    "        \n",
    "        return sales.drop([\"Store\", \"Sales\"], axis=1)\n",
    "    \n",
    "    p = make_union(*[\n",
    "        make_pipeline(FunctionTransformer(get_DayOfWeek, validate=False), \n",
    "                      LabelEncoderPipelineFriendly(), \n",
    "                      OneHotEncoder()),\n",
    "        make_pipeline(FunctionTransformer(get_Open, validate=False),\n",
    "                      Imputer(strategy=\"most_frequent\")),\n",
    "        make_pipeline(FunctionTransformer(get_Promo, validate=False)),\n",
    "        make_pipeline(FunctionTransformer(get_StateHoliday, validate=False), \n",
    "                      LabelEncoderPipelineFriendly(), \n",
    "                      OneHotEncoder()),\n",
    "        make_pipeline(FunctionTransformer(get_SchoolHoliday, validate=False)),\n",
    "        make_pipeline(FunctionTransformer(get_StoreType, validate=False),\n",
    "                      LabelEncoderPipelineFriendly(), \n",
    "                      OneHotEncoder()),\n",
    "        make_pipeline(FunctionTransformer(get_Assortment, validate=False),\n",
    "                      LabelEncoderPipelineFriendly(), \n",
    "                      OneHotEncoder()),\n",
    "        make_pipeline(FunctionTransformer(get_Promo2Active, validate=False)),\n",
    "        make_pipeline(FunctionTransformer(get_CompetitionActive, validate=False)),\n",
    "        make_pipeline(FunctionTransformer(get_CompetitionDistance, validate=False),\n",
    "                      Imputer(),\n",
    "                      StandardScaler()),        \n",
    "        make_pipeline(FunctionTransformer(get_DayOfYear, validate=False),\n",
    "                      LabelEncoderPipelineFriendly(), \n",
    "                      OneHotEncoder()),\n",
    "        make_pipeline(FunctionTransformer(get_previous_sales, validate=False), \n",
    "                      Imputer(),\n",
    "                      StandardScaler())\n",
    "    ])\n",
    "    \n",
    "    return p"
   ]
  },
  {
   "cell_type": "code",
   "execution_count": 40,
   "metadata": {},
   "outputs": [],
   "source": [
    "test_size = len(test)\n",
    "min_shift = (test.Date.max() - test.Date.min()).days \n",
    "max_shift = 180\n",
    "to_drop = len(train[train.Date < train.Date.min() + pd.DateOffset(max_shift)])"
   ]
  },
  {
   "cell_type": "code",
   "execution_count": 41,
   "metadata": {
    "scrolled": false
   },
   "outputs": [],
   "source": [
    "full = pd.concat([train, test], ignore_index=True) # we need to use full dataset to fill previous sales for test\n",
    "pipeline_ts = prepare_pipeline_ts(train, min_shift, max_shift)\n",
    "full_transformed = pipeline_ts.fit_transform(full)\n",
    "x_train_ts, y_train_ts = full_transformed[to_drop:-test_size], train.Sales[to_drop:]\n",
    "x_test_ts = full_transformed[-test_size:]"
   ]
  },
  {
   "cell_type": "code",
   "execution_count": 42,
   "metadata": {},
   "outputs": [
    {
     "data": {
      "text/plain": [
       "GridSearchCV(cv=10, error_score='raise',\n",
       "       estimator=LGBMRegressor(boosting_type='gbdt', colsample_bytree=1.0, learning_rate=0.1,\n",
       "       max_bin=255, max_depth=-1, min_child_samples=10, min_child_weight=5,\n",
       "       min_split_gain=0.0, n_estimators=10, n_jobs=-1, num_leaves=31,\n",
       "       objective=None, random_state=0, reg_alpha=0.0, reg_lambda=0.0,\n",
       "       silent=True, subsample=1.0, subsample_for_bin=50000,\n",
       "       subsample_freq=1),\n",
       "       fit_params=None, iid=True, n_jobs=2,\n",
       "       param_grid={'boosting_type': ['gbdt'], 'learning_rate': [0.1], 'n_estimators': [200], 'objective': ['regression'], 'reg_alpha': [0.0, 0.5, 1.0], 'reg_lambda': [0.0, 0.5, 1.0], 'random_state': [0], 'n_jobs': [-1]},\n",
       "       pre_dispatch='2*n_jobs', refit=True, return_train_score='warn',\n",
       "       scoring=make_scorer(rmspe, greater_is_better=False), verbose=0)"
      ]
     },
     "execution_count": 42,
     "metadata": {},
     "output_type": "execute_result"
    }
   ],
   "source": [
    "gs_ts = GridSearchCV(LGBMRegressor(), params, scoring=rmspe_scorer, cv=10, n_jobs=2)\n",
    "gs_ts.fit(x_train_ts, y_train_ts)"
   ]
  },
  {
   "cell_type": "code",
   "execution_count": 43,
   "metadata": {},
   "outputs": [],
   "source": [
    "prediction_ts = gs_ts.predict(x_test_ts)"
   ]
  },
  {
   "cell_type": "code",
   "execution_count": 44,
   "metadata": {},
   "outputs": [],
   "source": [
    "pd.DataFrame({\"Id\": test.Id, \"Sales\": prediction_ts}).to_csv(\"submission_ts.csv\", sep=\",\", index=False)"
   ]
  }
 ],
 "metadata": {
  "kernelspec": {
   "display_name": "Python 3",
   "language": "python",
   "name": "python3"
  },
  "language_info": {
   "codemirror_mode": {
    "name": "ipython",
    "version": 3
   },
   "file_extension": ".py",
   "mimetype": "text/x-python",
   "name": "python",
   "nbconvert_exporter": "python",
   "pygments_lexer": "ipython3",
   "version": "3.6.4"
  }
 },
 "nbformat": 4,
 "nbformat_minor": 2
}
